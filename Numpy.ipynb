{
  "nbformat": 4,
  "nbformat_minor": 0,
  "metadata": {
    "colab": {
      "name": "Numpy.ipynb",
      "provenance": [],
      "collapsed_sections": [],
      "authorship_tag": "ABX9TyP95HGJDosycy+cUp7nJ4Oq",
      "include_colab_link": true
    },
    "kernelspec": {
      "name": "python3",
      "display_name": "Python 3"
    }
  },
  "cells": [
    {
      "cell_type": "markdown",
      "metadata": {
        "id": "view-in-github",
        "colab_type": "text"
      },
      "source": [
        "<a href=\"https://colab.research.google.com/github/mradulpandya/Data_Analysis/blob/main/Numpy.ipynb\" target=\"_parent\"><img src=\"https://colab.research.google.com/assets/colab-badge.svg\" alt=\"Open In Colab\"/></a>"
      ]
    },
    {
      "cell_type": "code",
      "metadata": {
        "id": "h34g-gsLg9fQ"
      },
      "source": [
        "import numpy as np\r\n",
        "import matplotlib.pyplot as plt\r\n",
        "%matplotlib inline\r\n"
      ],
      "execution_count": 3,
      "outputs": []
    },
    {
      "cell_type": "markdown",
      "metadata": {
        "id": "UjAzCDWeo5-r"
      },
      "source": [
        "# Creating arrays"
      ]
    },
    {
      "cell_type": "code",
      "metadata": {
        "id": "8qylJZH0hSl9"
      },
      "source": [
        "my_list1 = [1,2,3,4,5]"
      ],
      "execution_count": null,
      "outputs": []
    },
    {
      "cell_type": "code",
      "metadata": {
        "colab": {
          "base_uri": "https://localhost:8080/"
        },
        "id": "39LNfXnuhW_C",
        "outputId": "2601536c-3cb1-491a-948b-4a71bc3803f5"
      },
      "source": [
        "my_list1"
      ],
      "execution_count": null,
      "outputs": [
        {
          "output_type": "execute_result",
          "data": {
            "text/plain": [
              "[1, 2, 3, 4, 5]"
            ]
          },
          "metadata": {
            "tags": []
          },
          "execution_count": 3
        }
      ]
    },
    {
      "cell_type": "code",
      "metadata": {
        "id": "Uba1MQ89hZUA"
      },
      "source": [
        "my_list2 = [6,7,8,9,10]"
      ],
      "execution_count": null,
      "outputs": []
    },
    {
      "cell_type": "code",
      "metadata": {
        "colab": {
          "base_uri": "https://localhost:8080/"
        },
        "id": "w9iJGg61hZXI",
        "outputId": "409a99fc-4aac-47d6-e8a5-b4e12b3b5e09"
      },
      "source": [
        "my_list2\r\n"
      ],
      "execution_count": null,
      "outputs": [
        {
          "output_type": "execute_result",
          "data": {
            "text/plain": [
              "[6, 7, 8, 9, 10]"
            ]
          },
          "metadata": {
            "tags": []
          },
          "execution_count": 6
        }
      ]
    },
    {
      "cell_type": "code",
      "metadata": {
        "id": "bbASW5y4iCws"
      },
      "source": [
        "my_lists = [my_list1,my_list2]"
      ],
      "execution_count": null,
      "outputs": []
    },
    {
      "cell_type": "code",
      "metadata": {
        "id": "FSPGijxWhZaI"
      },
      "source": [
        "my_array = np.array(my_lists)"
      ],
      "execution_count": null,
      "outputs": []
    },
    {
      "cell_type": "code",
      "metadata": {
        "colab": {
          "base_uri": "https://localhost:8080/"
        },
        "id": "N-PQGkS5hZdG",
        "outputId": "70d2bace-3c7c-40be-b206-1cc3ca954d68"
      },
      "source": [
        "my_array"
      ],
      "execution_count": null,
      "outputs": [
        {
          "output_type": "execute_result",
          "data": {
            "text/plain": [
              "array([[ 1,  2,  3,  4,  5],\n",
              "       [ 6,  7,  8,  9, 10]])"
            ]
          },
          "metadata": {
            "tags": []
          },
          "execution_count": 12
        }
      ]
    },
    {
      "cell_type": "code",
      "metadata": {
        "colab": {
          "base_uri": "https://localhost:8080/"
        },
        "id": "yfCp9fQohZfr",
        "outputId": "f0aa802f-147a-40f9-bd53-c45eed8129cf"
      },
      "source": [
        "my_array.shape #getting array shape"
      ],
      "execution_count": null,
      "outputs": [
        {
          "output_type": "execute_result",
          "data": {
            "text/plain": [
              "(2, 5)"
            ]
          },
          "metadata": {
            "tags": []
          },
          "execution_count": 16
        }
      ]
    },
    {
      "cell_type": "code",
      "metadata": {
        "colab": {
          "base_uri": "https://localhost:8080/"
        },
        "id": "6yynDlXyiVEJ",
        "outputId": "c88af5de-d6e5-4a0c-ae8a-941845400c91"
      },
      "source": [
        "my_array.dtype #getting array data type"
      ],
      "execution_count": null,
      "outputs": [
        {
          "output_type": "execute_result",
          "data": {
            "text/plain": [
              "dtype('int64')"
            ]
          },
          "metadata": {
            "tags": []
          },
          "execution_count": 17
        }
      ]
    },
    {
      "cell_type": "code",
      "metadata": {
        "colab": {
          "base_uri": "https://localhost:8080/"
        },
        "id": "I7e3oP6fiVHC",
        "outputId": "6d352297-2ee4-4a01-9b6c-4d46645f34d0"
      },
      "source": [
        "np.zeros(5)"
      ],
      "execution_count": null,
      "outputs": [
        {
          "output_type": "execute_result",
          "data": {
            "text/plain": [
              "array([0., 0., 0., 0., 0.])"
            ]
          },
          "metadata": {
            "tags": []
          },
          "execution_count": 19
        }
      ]
    },
    {
      "cell_type": "code",
      "metadata": {
        "colab": {
          "base_uri": "https://localhost:8080/"
        },
        "id": "M7iBo6fSjEfL",
        "outputId": "74540da2-3380-4ca8-ed81-2141bb444fe3"
      },
      "source": [
        "np.zeros([3,3])"
      ],
      "execution_count": null,
      "outputs": [
        {
          "output_type": "execute_result",
          "data": {
            "text/plain": [
              "array([[0., 0., 0.],\n",
              "       [0., 0., 0.],\n",
              "       [0., 0., 0.]])"
            ]
          },
          "metadata": {
            "tags": []
          },
          "execution_count": 21
        }
      ]
    },
    {
      "cell_type": "code",
      "metadata": {
        "colab": {
          "base_uri": "https://localhost:8080/"
        },
        "id": "1bpYWSbniVJe",
        "outputId": "3d8772b8-29b3-467a-f90c-b88cede3fbe2"
      },
      "source": [
        "np.ones(5)"
      ],
      "execution_count": null,
      "outputs": [
        {
          "output_type": "execute_result",
          "data": {
            "text/plain": [
              "array([1., 1., 1., 1., 1.])"
            ]
          },
          "metadata": {
            "tags": []
          },
          "execution_count": 20
        }
      ]
    },
    {
      "cell_type": "code",
      "metadata": {
        "colab": {
          "base_uri": "https://localhost:8080/"
        },
        "id": "HD5onULSjHxr",
        "outputId": "d4129c3d-f0c0-4d86-91ae-0d466bc8bba2"
      },
      "source": [
        "np.ones([3,2])"
      ],
      "execution_count": null,
      "outputs": [
        {
          "output_type": "execute_result",
          "data": {
            "text/plain": [
              "array([[1., 1.],\n",
              "       [1., 1.],\n",
              "       [1., 1.]])"
            ]
          },
          "metadata": {
            "tags": []
          },
          "execution_count": 22
        }
      ]
    },
    {
      "cell_type": "code",
      "metadata": {
        "colab": {
          "base_uri": "https://localhost:8080/"
        },
        "id": "tGIDFKzrjK26",
        "outputId": "6ba36664-be38-4d9d-93a6-aed4b4f0cb65"
      },
      "source": [
        "np.empty(5)"
      ],
      "execution_count": null,
      "outputs": [
        {
          "output_type": "execute_result",
          "data": {
            "text/plain": [
              "array([1., 1., 1., 1., 1.])"
            ]
          },
          "metadata": {
            "tags": []
          },
          "execution_count": 23
        }
      ]
    },
    {
      "cell_type": "code",
      "metadata": {
        "colab": {
          "base_uri": "https://localhost:8080/"
        },
        "id": "oYy985ZZjH1a",
        "outputId": "3e030ea8-7a77-4c27-8b54-5efab7016919"
      },
      "source": [
        "np.eye(5)"
      ],
      "execution_count": null,
      "outputs": [
        {
          "output_type": "execute_result",
          "data": {
            "text/plain": [
              "array([[1., 0., 0., 0., 0.],\n",
              "       [0., 1., 0., 0., 0.],\n",
              "       [0., 0., 1., 0., 0.],\n",
              "       [0., 0., 0., 1., 0.],\n",
              "       [0., 0., 0., 0., 1.]])"
            ]
          },
          "metadata": {
            "tags": []
          },
          "execution_count": 25
        }
      ]
    },
    {
      "cell_type": "markdown",
      "metadata": {
        "id": "AIefoYuhpLlk"
      },
      "source": [
        "# Using Array and Scalars"
      ]
    },
    {
      "cell_type": "code",
      "metadata": {
        "colab": {
          "base_uri": "https://localhost:8080/"
        },
        "id": "AzxKBGE6jmuz",
        "outputId": "7c69e4fb-ee03-4053-9e53-fad70abe198e"
      },
      "source": [
        "5/2"
      ],
      "execution_count": null,
      "outputs": [
        {
          "output_type": "execute_result",
          "data": {
            "text/plain": [
              "2.5"
            ]
          },
          "metadata": {
            "tags": []
          },
          "execution_count": 27
        }
      ]
    },
    {
      "cell_type": "code",
      "metadata": {
        "id": "XGIS-zQejmx6"
      },
      "source": [
        "array1 = np.array([[1,2,3,4,5],[6,7,8,9,10]])"
      ],
      "execution_count": null,
      "outputs": []
    },
    {
      "cell_type": "code",
      "metadata": {
        "colab": {
          "base_uri": "https://localhost:8080/"
        },
        "id": "RPBcUU_Wjm0g",
        "outputId": "2bbea707-6960-4bbe-c171-73d019a3646d"
      },
      "source": [
        "array1"
      ],
      "execution_count": null,
      "outputs": [
        {
          "output_type": "execute_result",
          "data": {
            "text/plain": [
              "array([[ 1,  2,  3,  4,  5],\n",
              "       [ 6,  7,  8,  9, 10]])"
            ]
          },
          "metadata": {
            "tags": []
          },
          "execution_count": 33
        }
      ]
    },
    {
      "cell_type": "code",
      "metadata": {
        "colab": {
          "base_uri": "https://localhost:8080/"
        },
        "id": "PolLCv04kXP0",
        "outputId": "6fa24aac-a0dd-409b-bf80-1b1308a3bbff"
      },
      "source": [
        "array1 * array1"
      ],
      "execution_count": null,
      "outputs": [
        {
          "output_type": "execute_result",
          "data": {
            "text/plain": [
              "array([[  1,   4,   9,  16,  25],\n",
              "       [ 36,  49,  64,  81, 100]])"
            ]
          },
          "metadata": {
            "tags": []
          },
          "execution_count": 34
        }
      ]
    },
    {
      "cell_type": "code",
      "metadata": {
        "colab": {
          "base_uri": "https://localhost:8080/"
        },
        "id": "tzzB7HUtkXUf",
        "outputId": "0cf65793-a98a-4735-acb9-8e863a2666a4"
      },
      "source": [
        "array1 - array1"
      ],
      "execution_count": null,
      "outputs": [
        {
          "output_type": "execute_result",
          "data": {
            "text/plain": [
              "array([[0, 0, 0, 0, 0],\n",
              "       [0, 0, 0, 0, 0]])"
            ]
          },
          "metadata": {
            "tags": []
          },
          "execution_count": 35
        }
      ]
    },
    {
      "cell_type": "code",
      "metadata": {
        "colab": {
          "base_uri": "https://localhost:8080/"
        },
        "id": "AoRjUKi4kXYV",
        "outputId": "3fcbffd7-ce08-4587-dbe0-046aae1e4b6f"
      },
      "source": [
        "1 / array1"
      ],
      "execution_count": null,
      "outputs": [
        {
          "output_type": "execute_result",
          "data": {
            "text/plain": [
              "array([[1.        , 0.5       , 0.33333333, 0.25      , 0.2       ],\n",
              "       [0.16666667, 0.14285714, 0.125     , 0.11111111, 0.1       ]])"
            ]
          },
          "metadata": {
            "tags": []
          },
          "execution_count": 36
        }
      ]
    },
    {
      "cell_type": "code",
      "metadata": {
        "colab": {
          "base_uri": "https://localhost:8080/"
        },
        "id": "FR2QDMSWkXbY",
        "outputId": "2a6b6549-e179-4a4e-c4fa-72527ce059b2"
      },
      "source": [
        "array1 + array1"
      ],
      "execution_count": null,
      "outputs": [
        {
          "output_type": "execute_result",
          "data": {
            "text/plain": [
              "array([[ 2,  4,  6,  8, 10],\n",
              "       [12, 14, 16, 18, 20]])"
            ]
          },
          "metadata": {
            "tags": []
          },
          "execution_count": 37
        }
      ]
    },
    {
      "cell_type": "code",
      "metadata": {
        "colab": {
          "base_uri": "https://localhost:8080/"
        },
        "id": "3Flif8J5kXeU",
        "outputId": "3a1f279d-f41c-4ff7-c0b8-dd4e22678c50"
      },
      "source": [
        "np.arange(5, 50)"
      ],
      "execution_count": null,
      "outputs": [
        {
          "output_type": "execute_result",
          "data": {
            "text/plain": [
              "array([ 5,  6,  7,  8,  9, 10, 11, 12, 13, 14, 15, 16, 17, 18, 19, 20, 21,\n",
              "       22, 23, 24, 25, 26, 27, 28, 29, 30, 31, 32, 33, 34, 35, 36, 37, 38,\n",
              "       39, 40, 41, 42, 43, 44, 45, 46, 47, 48, 49])"
            ]
          },
          "metadata": {
            "tags": []
          },
          "execution_count": 38
        }
      ]
    },
    {
      "cell_type": "code",
      "metadata": {
        "colab": {
          "base_uri": "https://localhost:8080/"
        },
        "id": "kwuI2k7pjIBy",
        "outputId": "8950260f-4d56-45a9-c174-993cc372e7c7"
      },
      "source": [
        "np.arange(0,100,5)"
      ],
      "execution_count": null,
      "outputs": [
        {
          "output_type": "execute_result",
          "data": {
            "text/plain": [
              "array([ 0,  5, 10, 15, 20, 25, 30, 35, 40, 45, 50, 55, 60, 65, 70, 75, 80,\n",
              "       85, 90, 95])"
            ]
          },
          "metadata": {
            "tags": []
          },
          "execution_count": 26
        }
      ]
    },
    {
      "cell_type": "markdown",
      "metadata": {
        "id": "eCO_iXKipYoc"
      },
      "source": [
        "# Indexing Arrays"
      ]
    },
    {
      "cell_type": "code",
      "metadata": {
        "id": "3z-OtD85lIRB"
      },
      "source": [
        "list = [1,2,3,4,5,6,7,8,9,10]"
      ],
      "execution_count": null,
      "outputs": []
    },
    {
      "cell_type": "code",
      "metadata": {
        "id": "Db-7VX8LlIT5"
      },
      "source": [
        "arr = np.array(list)"
      ],
      "execution_count": null,
      "outputs": []
    },
    {
      "cell_type": "code",
      "metadata": {
        "colab": {
          "base_uri": "https://localhost:8080/"
        },
        "id": "LlTzHlJJlIXM",
        "outputId": "a9523193-f4e8-4fc2-c648-a837141a9656"
      },
      "source": [
        "arr"
      ],
      "execution_count": null,
      "outputs": [
        {
          "output_type": "execute_result",
          "data": {
            "text/plain": [
              "array([ 1,  2,  3,  4,  5,  6,  7,  8,  9, 10])"
            ]
          },
          "metadata": {
            "tags": []
          },
          "execution_count": 44
        }
      ]
    },
    {
      "cell_type": "code",
      "metadata": {
        "colab": {
          "base_uri": "https://localhost:8080/"
        },
        "id": "nm6KbzFZlIaH",
        "outputId": "33e431f3-f3e2-4146-aa34-bb431c4100bf"
      },
      "source": [
        "arr[0:5] #Slicing array "
      ],
      "execution_count": null,
      "outputs": [
        {
          "output_type": "execute_result",
          "data": {
            "text/plain": [
              "array([1, 2, 3, 4, 5])"
            ]
          },
          "metadata": {
            "tags": []
          },
          "execution_count": 45
        }
      ]
    },
    {
      "cell_type": "code",
      "metadata": {
        "colab": {
          "base_uri": "https://localhost:8080/"
        },
        "id": "Rxb9JgpAlIci",
        "outputId": "f208036b-c325-4ace-cc07-764ee981c371"
      },
      "source": [
        "arr[6]"
      ],
      "execution_count": null,
      "outputs": [
        {
          "output_type": "execute_result",
          "data": {
            "text/plain": [
              "7"
            ]
          },
          "metadata": {
            "tags": []
          },
          "execution_count": 46
        }
      ]
    },
    {
      "cell_type": "code",
      "metadata": {
        "id": "z4x79vbAl_up"
      },
      "source": [
        "slice_arr = arr[0:5]"
      ],
      "execution_count": null,
      "outputs": []
    },
    {
      "cell_type": "code",
      "metadata": {
        "colab": {
          "base_uri": "https://localhost:8080/"
        },
        "id": "GuEXBU6Cl_xx",
        "outputId": "ba77b2b9-315c-4657-ddbe-e890f0ca610d"
      },
      "source": [
        "slice_arr"
      ],
      "execution_count": null,
      "outputs": [
        {
          "output_type": "execute_result",
          "data": {
            "text/plain": [
              "array([1, 2, 3, 4, 5])"
            ]
          },
          "metadata": {
            "tags": []
          },
          "execution_count": 48
        }
      ]
    },
    {
      "cell_type": "code",
      "metadata": {
        "colab": {
          "base_uri": "https://localhost:8080/"
        },
        "id": "OOHGa0jBl_1R",
        "outputId": "26048aaa-3d46-4c90-f990-a24628bb300b"
      },
      "source": [
        "slice_arr [:]"
      ],
      "execution_count": null,
      "outputs": [
        {
          "output_type": "execute_result",
          "data": {
            "text/plain": [
              "array([1, 2, 3, 4, 5])"
            ]
          },
          "metadata": {
            "tags": []
          },
          "execution_count": 49
        }
      ]
    },
    {
      "cell_type": "code",
      "metadata": {
        "id": "5u9YlCL3mADw"
      },
      "source": [
        "arr_copy = arr.copy() #copying array to other variable"
      ],
      "execution_count": null,
      "outputs": []
    },
    {
      "cell_type": "code",
      "metadata": {
        "colab": {
          "base_uri": "https://localhost:8080/"
        },
        "id": "4v-HYL3fmnu-",
        "outputId": "2d3343a3-55ef-440e-d0df-1f3f17a2b842"
      },
      "source": [
        "arr_copy"
      ],
      "execution_count": null,
      "outputs": [
        {
          "output_type": "execute_result",
          "data": {
            "text/plain": [
              "array([ 1,  2,  3,  4,  5,  6,  7,  8,  9, 10])"
            ]
          },
          "metadata": {
            "tags": []
          },
          "execution_count": 51
        }
      ]
    },
    {
      "cell_type": "code",
      "metadata": {
        "id": "f69hA1uBmnyS"
      },
      "source": [
        "arr_2d = np.array([[1,2,3,4,5],[6,7,8,9,10],[11,12,13,14,15]])"
      ],
      "execution_count": null,
      "outputs": []
    },
    {
      "cell_type": "code",
      "metadata": {
        "colab": {
          "base_uri": "https://localhost:8080/"
        },
        "id": "Z58OjXrtmn2f",
        "outputId": "147a6923-6261-4ef2-a037-43c402bbc803"
      },
      "source": [
        "arr_2d"
      ],
      "execution_count": null,
      "outputs": [
        {
          "output_type": "execute_result",
          "data": {
            "text/plain": [
              "array([[ 1,  2,  3,  4,  5],\n",
              "       [ 6,  7,  8,  9, 10],\n",
              "       [11, 12, 13, 14, 15]])"
            ]
          },
          "metadata": {
            "tags": []
          },
          "execution_count": 53
        }
      ]
    },
    {
      "cell_type": "code",
      "metadata": {
        "colab": {
          "base_uri": "https://localhost:8080/"
        },
        "id": "DqGCR_VGmn4j",
        "outputId": "f2667bbf-f510-49cd-ba53-5bb742fa3f56"
      },
      "source": [
        "arr_2d[1]"
      ],
      "execution_count": null,
      "outputs": [
        {
          "output_type": "execute_result",
          "data": {
            "text/plain": [
              "array([ 6,  7,  8,  9, 10])"
            ]
          },
          "metadata": {
            "tags": []
          },
          "execution_count": 54
        }
      ]
    },
    {
      "cell_type": "code",
      "metadata": {
        "colab": {
          "base_uri": "https://localhost:8080/"
        },
        "id": "5XXz30wfnMgV",
        "outputId": "720ba751-99cc-4e99-f8f8-5a3f380c2aa7"
      },
      "source": [
        "arr_2d[1][2]"
      ],
      "execution_count": null,
      "outputs": [
        {
          "output_type": "execute_result",
          "data": {
            "text/plain": [
              "8"
            ]
          },
          "metadata": {
            "tags": []
          },
          "execution_count": 55
        }
      ]
    },
    {
      "cell_type": "code",
      "metadata": {
        "colab": {
          "base_uri": "https://localhost:8080/"
        },
        "id": "dRFidxoBnX76",
        "outputId": "98e70b18-7a52-45a0-e88b-7514f4911eae"
      },
      "source": [
        "arr_2d[0:][1:]"
      ],
      "execution_count": null,
      "outputs": [
        {
          "output_type": "execute_result",
          "data": {
            "text/plain": [
              "array([[ 6,  7,  8,  9, 10],\n",
              "       [11, 12, 13, 14, 15]])"
            ]
          },
          "metadata": {
            "tags": []
          },
          "execution_count": 56
        }
      ]
    },
    {
      "cell_type": "code",
      "metadata": {
        "id": "LD5mKMwVqrY9"
      },
      "source": [
        "arr_2d = np.zeros([5,5])"
      ],
      "execution_count": null,
      "outputs": []
    },
    {
      "cell_type": "code",
      "metadata": {
        "colab": {
          "base_uri": "https://localhost:8080/"
        },
        "id": "O8dMK5yQq4c1",
        "outputId": "3fd30535-c651-4497-81bc-8844f366ade2"
      },
      "source": [
        "arr_2d"
      ],
      "execution_count": null,
      "outputs": [
        {
          "output_type": "execute_result",
          "data": {
            "text/plain": [
              "array([[0., 0., 0., 0., 0.],\n",
              "       [0., 0., 0., 0., 0.],\n",
              "       [0., 0., 0., 0., 0.],\n",
              "       [0., 0., 0., 0., 0.],\n",
              "       [0., 0., 0., 0., 0.]])"
            ]
          },
          "metadata": {
            "tags": []
          },
          "execution_count": 82
        }
      ]
    },
    {
      "cell_type": "code",
      "metadata": {
        "id": "qGeAiAsJoFiy"
      },
      "source": [
        "arr_length = arr_2d.shape[1]"
      ],
      "execution_count": null,
      "outputs": []
    },
    {
      "cell_type": "code",
      "metadata": {
        "colab": {
          "base_uri": "https://localhost:8080/"
        },
        "id": "H8Uxb7XSoFmm",
        "outputId": "21a25bb0-490e-4fbd-80c9-3e6babffe1e6"
      },
      "source": [
        "arr_length"
      ],
      "execution_count": null,
      "outputs": [
        {
          "output_type": "execute_result",
          "data": {
            "text/plain": [
              "5"
            ]
          },
          "metadata": {
            "tags": []
          },
          "execution_count": 86
        }
      ]
    },
    {
      "cell_type": "code",
      "metadata": {
        "id": "67_IXuxgoFr5"
      },
      "source": [
        "for i in range(arr_length):\r\n",
        "    arr_2d[i]=i\r\n",
        "    #for loop for assign value in a range"
      ],
      "execution_count": null,
      "outputs": []
    },
    {
      "cell_type": "code",
      "metadata": {
        "colab": {
          "base_uri": "https://localhost:8080/"
        },
        "id": "AJ9fnD6ToFvR",
        "outputId": "9b6b766b-8388-4b05-960d-7e3ff0933ecf"
      },
      "source": [
        "arr_2d"
      ],
      "execution_count": null,
      "outputs": [
        {
          "output_type": "execute_result",
          "data": {
            "text/plain": [
              "array([[0., 0., 0., 0., 0.],\n",
              "       [1., 1., 1., 1., 1.],\n",
              "       [2., 2., 2., 2., 2.],\n",
              "       [3., 3., 3., 3., 3.],\n",
              "       [4., 4., 4., 4., 4.]])"
            ]
          },
          "metadata": {
            "tags": []
          },
          "execution_count": 92
        }
      ]
    },
    {
      "cell_type": "code",
      "metadata": {
        "colab": {
          "base_uri": "https://localhost:8080/"
        },
        "id": "UtN_YvNBrTQW",
        "outputId": "b67288fc-f1f3-4ebd-b8c3-45aa6e6fedd8"
      },
      "source": [
        "arr_2d[[2,4]]"
      ],
      "execution_count": null,
      "outputs": [
        {
          "output_type": "execute_result",
          "data": {
            "text/plain": [
              "array([[2., 2., 2., 2., 2.],\n",
              "       [4., 4., 4., 4., 4.]])"
            ]
          },
          "metadata": {
            "tags": []
          },
          "execution_count": 102
        }
      ]
    },
    {
      "cell_type": "markdown",
      "metadata": {
        "id": "z2DrHEMVzOyS"
      },
      "source": [
        "# Array Transposition"
      ]
    },
    {
      "cell_type": "code",
      "metadata": {
        "id": "RwNMpSdCrTTo"
      },
      "source": [
        "arr = np.arange(100).reshape((10,10)) #reshaping array"
      ],
      "execution_count": null,
      "outputs": []
    },
    {
      "cell_type": "code",
      "metadata": {
        "colab": {
          "base_uri": "https://localhost:8080/"
        },
        "id": "X6WBtKlprTXe",
        "outputId": "f0f8edb5-329b-4dfe-964c-639025be5389"
      },
      "source": [
        "arr"
      ],
      "execution_count": null,
      "outputs": [
        {
          "output_type": "execute_result",
          "data": {
            "text/plain": [
              "array([[ 0,  1,  2,  3,  4,  5,  6,  7,  8,  9],\n",
              "       [10, 11, 12, 13, 14, 15, 16, 17, 18, 19],\n",
              "       [20, 21, 22, 23, 24, 25, 26, 27, 28, 29],\n",
              "       [30, 31, 32, 33, 34, 35, 36, 37, 38, 39],\n",
              "       [40, 41, 42, 43, 44, 45, 46, 47, 48, 49],\n",
              "       [50, 51, 52, 53, 54, 55, 56, 57, 58, 59],\n",
              "       [60, 61, 62, 63, 64, 65, 66, 67, 68, 69],\n",
              "       [70, 71, 72, 73, 74, 75, 76, 77, 78, 79],\n",
              "       [80, 81, 82, 83, 84, 85, 86, 87, 88, 89],\n",
              "       [90, 91, 92, 93, 94, 95, 96, 97, 98, 99]])"
            ]
          },
          "metadata": {
            "tags": []
          },
          "execution_count": 105
        }
      ]
    },
    {
      "cell_type": "code",
      "metadata": {
        "colab": {
          "base_uri": "https://localhost:8080/"
        },
        "id": "zuMxUAWH0gDy",
        "outputId": "bfc66733-e715-44c4-c2d3-89824c10bab1"
      },
      "source": [
        "arr.T"
      ],
      "execution_count": null,
      "outputs": [
        {
          "output_type": "execute_result",
          "data": {
            "text/plain": [
              "array([[ 0, 10, 20, 30, 40, 50, 60, 70, 80, 90],\n",
              "       [ 1, 11, 21, 31, 41, 51, 61, 71, 81, 91],\n",
              "       [ 2, 12, 22, 32, 42, 52, 62, 72, 82, 92],\n",
              "       [ 3, 13, 23, 33, 43, 53, 63, 73, 83, 93],\n",
              "       [ 4, 14, 24, 34, 44, 54, 64, 74, 84, 94],\n",
              "       [ 5, 15, 25, 35, 45, 55, 65, 75, 85, 95],\n",
              "       [ 6, 16, 26, 36, 46, 56, 66, 76, 86, 96],\n",
              "       [ 7, 17, 27, 37, 47, 57, 67, 77, 87, 97],\n",
              "       [ 8, 18, 28, 38, 48, 58, 68, 78, 88, 98],\n",
              "       [ 9, 19, 29, 39, 49, 59, 69, 79, 89, 99]])"
            ]
          },
          "metadata": {
            "tags": []
          },
          "execution_count": 106
        }
      ]
    },
    {
      "cell_type": "code",
      "metadata": {
        "colab": {
          "base_uri": "https://localhost:8080/"
        },
        "id": "QNWr4Qe_0mbe",
        "outputId": "bc738768-ec09-4481-a560-b3205c9bae18"
      },
      "source": [
        "np.dot(arr.T,arr)"
      ],
      "execution_count": null,
      "outputs": [
        {
          "output_type": "execute_result",
          "data": {
            "text/plain": [
              "array([[28500, 28950, 29400, 29850, 30300, 30750, 31200, 31650, 32100,\n",
              "        32550],\n",
              "       [28950, 29410, 29870, 30330, 30790, 31250, 31710, 32170, 32630,\n",
              "        33090],\n",
              "       [29400, 29870, 30340, 30810, 31280, 31750, 32220, 32690, 33160,\n",
              "        33630],\n",
              "       [29850, 30330, 30810, 31290, 31770, 32250, 32730, 33210, 33690,\n",
              "        34170],\n",
              "       [30300, 30790, 31280, 31770, 32260, 32750, 33240, 33730, 34220,\n",
              "        34710],\n",
              "       [30750, 31250, 31750, 32250, 32750, 33250, 33750, 34250, 34750,\n",
              "        35250],\n",
              "       [31200, 31710, 32220, 32730, 33240, 33750, 34260, 34770, 35280,\n",
              "        35790],\n",
              "       [31650, 32170, 32690, 33210, 33730, 34250, 34770, 35290, 35810,\n",
              "        36330],\n",
              "       [32100, 32630, 33160, 33690, 34220, 34750, 35280, 35810, 36340,\n",
              "        36870],\n",
              "       [32550, 33090, 33630, 34170, 34710, 35250, 35790, 36330, 36870,\n",
              "        37410]])"
            ]
          },
          "metadata": {
            "tags": []
          },
          "execution_count": 107
        }
      ]
    },
    {
      "cell_type": "code",
      "metadata": {
        "id": "Z0_bT1C70meD"
      },
      "source": [
        "arr_3d = np.arange(100).reshape((10,5,2))"
      ],
      "execution_count": null,
      "outputs": []
    },
    {
      "cell_type": "code",
      "metadata": {
        "colab": {
          "base_uri": "https://localhost:8080/"
        },
        "id": "ir0S1cS41Cjp",
        "outputId": "5816f5cc-b60e-42ba-fcf6-254543e72581"
      },
      "source": [
        "arr_3d"
      ],
      "execution_count": null,
      "outputs": [
        {
          "output_type": "execute_result",
          "data": {
            "text/plain": [
              "array([[[ 0,  1],\n",
              "        [ 2,  3],\n",
              "        [ 4,  5],\n",
              "        [ 6,  7],\n",
              "        [ 8,  9]],\n",
              "\n",
              "       [[10, 11],\n",
              "        [12, 13],\n",
              "        [14, 15],\n",
              "        [16, 17],\n",
              "        [18, 19]],\n",
              "\n",
              "       [[20, 21],\n",
              "        [22, 23],\n",
              "        [24, 25],\n",
              "        [26, 27],\n",
              "        [28, 29]],\n",
              "\n",
              "       [[30, 31],\n",
              "        [32, 33],\n",
              "        [34, 35],\n",
              "        [36, 37],\n",
              "        [38, 39]],\n",
              "\n",
              "       [[40, 41],\n",
              "        [42, 43],\n",
              "        [44, 45],\n",
              "        [46, 47],\n",
              "        [48, 49]],\n",
              "\n",
              "       [[50, 51],\n",
              "        [52, 53],\n",
              "        [54, 55],\n",
              "        [56, 57],\n",
              "        [58, 59]],\n",
              "\n",
              "       [[60, 61],\n",
              "        [62, 63],\n",
              "        [64, 65],\n",
              "        [66, 67],\n",
              "        [68, 69]],\n",
              "\n",
              "       [[70, 71],\n",
              "        [72, 73],\n",
              "        [74, 75],\n",
              "        [76, 77],\n",
              "        [78, 79]],\n",
              "\n",
              "       [[80, 81],\n",
              "        [82, 83],\n",
              "        [84, 85],\n",
              "        [86, 87],\n",
              "        [88, 89]],\n",
              "\n",
              "       [[90, 91],\n",
              "        [92, 93],\n",
              "        [94, 95],\n",
              "        [96, 97],\n",
              "        [98, 99]]])"
            ]
          },
          "metadata": {
            "tags": []
          },
          "execution_count": 114
        }
      ]
    },
    {
      "cell_type": "code",
      "metadata": {
        "colab": {
          "base_uri": "https://localhost:8080/"
        },
        "id": "lMekbEFM1hhY",
        "outputId": "7c4d308a-45b9-44d7-d58d-8ee5beee2fe5"
      },
      "source": [
        "arr_3d.T"
      ],
      "execution_count": null,
      "outputs": [
        {
          "output_type": "execute_result",
          "data": {
            "text/plain": [
              "array([[[ 0, 10, 20, 30, 40, 50, 60, 70, 80, 90],\n",
              "        [ 2, 12, 22, 32, 42, 52, 62, 72, 82, 92],\n",
              "        [ 4, 14, 24, 34, 44, 54, 64, 74, 84, 94],\n",
              "        [ 6, 16, 26, 36, 46, 56, 66, 76, 86, 96],\n",
              "        [ 8, 18, 28, 38, 48, 58, 68, 78, 88, 98]],\n",
              "\n",
              "       [[ 1, 11, 21, 31, 41, 51, 61, 71, 81, 91],\n",
              "        [ 3, 13, 23, 33, 43, 53, 63, 73, 83, 93],\n",
              "        [ 5, 15, 25, 35, 45, 55, 65, 75, 85, 95],\n",
              "        [ 7, 17, 27, 37, 47, 57, 67, 77, 87, 97],\n",
              "        [ 9, 19, 29, 39, 49, 59, 69, 79, 89, 99]]])"
            ]
          },
          "metadata": {
            "tags": []
          },
          "execution_count": 116
        }
      ]
    },
    {
      "cell_type": "code",
      "metadata": {
        "id": "zb5CZdDj2CKV"
      },
      "source": [
        "arr = np.array([[1,2,3]])"
      ],
      "execution_count": null,
      "outputs": []
    },
    {
      "cell_type": "code",
      "metadata": {
        "colab": {
          "base_uri": "https://localhost:8080/"
        },
        "id": "gmgrVIkK1Cm3",
        "outputId": "b4a522ad-9b7e-4c88-a648-4bc533595387"
      },
      "source": [
        "arr"
      ],
      "execution_count": null,
      "outputs": [
        {
          "output_type": "execute_result",
          "data": {
            "text/plain": [
              "array([[1, 2, 3]])"
            ]
          },
          "metadata": {
            "tags": []
          },
          "execution_count": 132
        }
      ]
    },
    {
      "cell_type": "code",
      "metadata": {
        "colab": {
          "base_uri": "https://localhost:8080/"
        },
        "id": "kZ9nJuQJ1Cps",
        "outputId": "29ae5806-c62a-4af7-ec11-abcb04de4499"
      },
      "source": [
        "arr.swapaxes(0,1) #swapping Axes"
      ],
      "execution_count": null,
      "outputs": [
        {
          "output_type": "execute_result",
          "data": {
            "text/plain": [
              "array([[1],\n",
              "       [2],\n",
              "       [3]])"
            ]
          },
          "metadata": {
            "tags": []
          },
          "execution_count": 133
        }
      ]
    },
    {
      "cell_type": "markdown",
      "metadata": {
        "id": "T7C7l8Dr2_Dg"
      },
      "source": [
        "#Universal Array Function"
      ]
    },
    {
      "cell_type": "code",
      "metadata": {
        "id": "e0m96PQU1CsL"
      },
      "source": [
        "arr = np.arange(15)"
      ],
      "execution_count": null,
      "outputs": []
    },
    {
      "cell_type": "code",
      "metadata": {
        "colab": {
          "base_uri": "https://localhost:8080/"
        },
        "id": "IGea5iLv3Mc5",
        "outputId": "aa3e65ac-2848-46ab-b04d-d5f7eeccd02d"
      },
      "source": [
        "arr"
      ],
      "execution_count": null,
      "outputs": [
        {
          "output_type": "execute_result",
          "data": {
            "text/plain": [
              "array([ 0,  1,  2,  3,  4,  5,  6,  7,  8,  9, 10, 11, 12, 13, 14])"
            ]
          },
          "metadata": {
            "tags": []
          },
          "execution_count": 135
        }
      ]
    },
    {
      "cell_type": "code",
      "metadata": {
        "colab": {
          "base_uri": "https://localhost:8080/"
        },
        "id": "v07JR1Hb3Ne0",
        "outputId": "6b868fd0-c841-4a28-ac8f-b9ed86529b67"
      },
      "source": [
        "np.sqrt(arr)"
      ],
      "execution_count": null,
      "outputs": [
        {
          "output_type": "execute_result",
          "data": {
            "text/plain": [
              "array([0.        , 1.        , 1.41421356, 1.73205081, 2.        ,\n",
              "       2.23606798, 2.44948974, 2.64575131, 2.82842712, 3.        ,\n",
              "       3.16227766, 3.31662479, 3.46410162, 3.60555128, 3.74165739])"
            ]
          },
          "metadata": {
            "tags": []
          },
          "execution_count": 136
        }
      ]
    },
    {
      "cell_type": "code",
      "metadata": {
        "colab": {
          "base_uri": "https://localhost:8080/"
        },
        "id": "qh4jKD7k3NhV",
        "outputId": "675ab090-79ef-43ef-ac7c-20bef3924e1c"
      },
      "source": [
        "np.exp(arr)"
      ],
      "execution_count": null,
      "outputs": [
        {
          "output_type": "execute_result",
          "data": {
            "text/plain": [
              "array([1.00000000e+00, 2.71828183e+00, 7.38905610e+00, 2.00855369e+01,\n",
              "       5.45981500e+01, 1.48413159e+02, 4.03428793e+02, 1.09663316e+03,\n",
              "       2.98095799e+03, 8.10308393e+03, 2.20264658e+04, 5.98741417e+04,\n",
              "       1.62754791e+05, 4.42413392e+05, 1.20260428e+06])"
            ]
          },
          "metadata": {
            "tags": []
          },
          "execution_count": 138
        }
      ]
    },
    {
      "cell_type": "code",
      "metadata": {
        "id": "CfhRv0hS3NmI"
      },
      "source": [
        "A = np.random.randn(10)"
      ],
      "execution_count": null,
      "outputs": []
    },
    {
      "cell_type": "code",
      "metadata": {
        "colab": {
          "base_uri": "https://localhost:8080/"
        },
        "id": "DksvZM_h3Nnu",
        "outputId": "24dc78d7-25b3-4237-a1c2-cb02f36ca07a"
      },
      "source": [
        "A"
      ],
      "execution_count": null,
      "outputs": [
        {
          "output_type": "execute_result",
          "data": {
            "text/plain": [
              "array([ 0.01522527, -0.18639522, -0.29402309, -1.66582757, -0.05606643,\n",
              "       -2.07979826,  0.70364786, -0.33614081,  1.30706381, -1.17099958])"
            ]
          },
          "metadata": {
            "tags": []
          },
          "execution_count": 141
        }
      ]
    },
    {
      "cell_type": "code",
      "metadata": {
        "id": "5NVwlQ_Y3Npw"
      },
      "source": [
        "B = np.random.randn(10)"
      ],
      "execution_count": null,
      "outputs": []
    },
    {
      "cell_type": "code",
      "metadata": {
        "colab": {
          "base_uri": "https://localhost:8080/"
        },
        "id": "yDYemFaY38Se",
        "outputId": "5f21a706-d9a0-4dec-efc1-14f84723f8bc"
      },
      "source": [
        "B"
      ],
      "execution_count": null,
      "outputs": [
        {
          "output_type": "execute_result",
          "data": {
            "text/plain": [
              "array([ 1.56662729, -1.43633436, -0.58977481,  0.97226601,  0.57030678,\n",
              "        0.49362945,  1.66728568,  1.03688786, -0.71679319,  2.31634667])"
            ]
          },
          "metadata": {
            "tags": []
          },
          "execution_count": 143
        }
      ]
    },
    {
      "cell_type": "code",
      "metadata": {
        "colab": {
          "base_uri": "https://localhost:8080/"
        },
        "id": "lTH84so138U_",
        "outputId": "c71f2d9e-63a2-4e18-9b11-fdc1d246c99b"
      },
      "source": [
        "np.add(A,B)"
      ],
      "execution_count": null,
      "outputs": [
        {
          "output_type": "execute_result",
          "data": {
            "text/plain": [
              "array([ 1.58185256, -1.62272958, -0.8837979 , -0.69356157,  0.51424035,\n",
              "       -1.58616881,  2.37093355,  0.70074704,  0.59027062,  1.14534709])"
            ]
          },
          "metadata": {
            "tags": []
          },
          "execution_count": 144
        }
      ]
    },
    {
      "cell_type": "code",
      "metadata": {
        "colab": {
          "base_uri": "https://localhost:8080/"
        },
        "id": "nOKqWxKv38am",
        "outputId": "57085d92-c3b8-4c28-9984-024cc7005f2b"
      },
      "source": [
        "np.maximum(A,B)"
      ],
      "execution_count": null,
      "outputs": [
        {
          "output_type": "execute_result",
          "data": {
            "text/plain": [
              "array([ 1.56662729, -0.18639522, -0.29402309,  0.97226601,  0.57030678,\n",
              "        0.49362945,  1.66728568,  1.03688786,  1.30706381,  2.31634667])"
            ]
          },
          "metadata": {
            "tags": []
          },
          "execution_count": 145
        }
      ]
    },
    {
      "cell_type": "code",
      "metadata": {
        "colab": {
          "base_uri": "https://localhost:8080/"
        },
        "id": "-2rZ6gWq38cp",
        "outputId": "7045c5d9-0dde-4496-ae8b-8e5076e2079c"
      },
      "source": [
        "np.minimum(A,B)"
      ],
      "execution_count": null,
      "outputs": [
        {
          "output_type": "execute_result",
          "data": {
            "text/plain": [
              "array([ 0.01522527, -1.43633436, -0.58977481, -1.66582757, -0.05606643,\n",
              "       -2.07979826,  0.70364786, -0.33614081, -0.71679319, -1.17099958])"
            ]
          },
          "metadata": {
            "tags": []
          },
          "execution_count": 146
        }
      ]
    },
    {
      "cell_type": "markdown",
      "metadata": {
        "id": "sDg_9qF5kUrJ"
      },
      "source": [
        "# Array Processing"
      ]
    },
    {
      "cell_type": "code",
      "metadata": {
        "id": "Lj9BYlpL38h7"
      },
      "source": [
        "points = np.arange(-5,5,0.1)"
      ],
      "execution_count": null,
      "outputs": []
    },
    {
      "cell_type": "code",
      "metadata": {
        "id": "kJDIB8YMk0lY"
      },
      "source": [
        "dx,dy = np.meshgrid(points,points) #return coordinate matrix"
      ],
      "execution_count": null,
      "outputs": []
    },
    {
      "cell_type": "code",
      "metadata": {
        "colab": {
          "base_uri": "https://localhost:8080/"
        },
        "id": "rGzGsGtek0oZ",
        "outputId": "539ccd63-8335-4eb4-fb63-5d16e597d488"
      },
      "source": [
        "dx"
      ],
      "execution_count": null,
      "outputs": [
        {
          "output_type": "execute_result",
          "data": {
            "text/plain": [
              "array([[-5. , -4.9, -4.8, ...,  4.7,  4.8,  4.9],\n",
              "       [-5. , -4.9, -4.8, ...,  4.7,  4.8,  4.9],\n",
              "       [-5. , -4.9, -4.8, ...,  4.7,  4.8,  4.9],\n",
              "       ...,\n",
              "       [-5. , -4.9, -4.8, ...,  4.7,  4.8,  4.9],\n",
              "       [-5. , -4.9, -4.8, ...,  4.7,  4.8,  4.9],\n",
              "       [-5. , -4.9, -4.8, ...,  4.7,  4.8,  4.9]])"
            ]
          },
          "metadata": {
            "tags": []
          },
          "execution_count": 6
        }
      ]
    },
    {
      "cell_type": "code",
      "metadata": {
        "colab": {
          "base_uri": "https://localhost:8080/"
        },
        "id": "WJeW5FMtk0rP",
        "outputId": "993bd03f-ba8e-43e1-ba71-4bdcfcf121ff"
      },
      "source": [
        "dy"
      ],
      "execution_count": null,
      "outputs": [
        {
          "output_type": "execute_result",
          "data": {
            "text/plain": [
              "array([[-5. , -5. , -5. , ..., -5. , -5. , -5. ],\n",
              "       [-4.9, -4.9, -4.9, ..., -4.9, -4.9, -4.9],\n",
              "       [-4.8, -4.8, -4.8, ..., -4.8, -4.8, -4.8],\n",
              "       ...,\n",
              "       [ 4.7,  4.7,  4.7, ...,  4.7,  4.7,  4.7],\n",
              "       [ 4.8,  4.8,  4.8, ...,  4.8,  4.8,  4.8],\n",
              "       [ 4.9,  4.9,  4.9, ...,  4.9,  4.9,  4.9]])"
            ]
          },
          "metadata": {
            "tags": []
          },
          "execution_count": 7
        }
      ]
    },
    {
      "cell_type": "code",
      "metadata": {
        "id": "pa9ykZwqk0tv"
      },
      "source": [
        "z = (np.sin(dx) + np.sin(dy)) #give trignometry value"
      ],
      "execution_count": null,
      "outputs": []
    },
    {
      "cell_type": "code",
      "metadata": {
        "colab": {
          "base_uri": "https://localhost:8080/"
        },
        "id": "4k2IO9oyl4Qj",
        "outputId": "f9a14b06-1a6c-4719-beef-90d2f45ccdf6"
      },
      "source": [
        "z"
      ],
      "execution_count": null,
      "outputs": [
        {
          "output_type": "execute_result",
          "data": {
            "text/plain": [
              "array([[ 1.91784855e+00,  1.94137689e+00,  1.95508888e+00, ...,\n",
              "        -4.09989829e-02, -3.72403342e-02, -2.35283380e-02],\n",
              "       [ 1.94137689e+00,  1.96490523e+00,  1.97861722e+00, ...,\n",
              "        -1.74706449e-02, -1.37119962e-02, -6.55031585e-15],\n",
              "       [ 1.95508888e+00,  1.97861722e+00,  1.99232922e+00, ...,\n",
              "        -3.75864873e-03, -3.10862447e-15,  1.37119962e-02],\n",
              "       ...,\n",
              "       [-4.09989829e-02, -1.74706449e-02, -3.75864873e-03, ...,\n",
              "        -1.99984652e+00, -1.99608787e+00, -1.98237587e+00],\n",
              "       [-3.72403342e-02, -1.37119962e-02, -3.10862447e-15, ...,\n",
              "        -1.99608787e+00, -1.99232922e+00, -1.97861722e+00],\n",
              "       [-2.35283380e-02, -6.55031585e-15,  1.37119962e-02, ...,\n",
              "        -1.98237587e+00, -1.97861722e+00, -1.96490523e+00]])"
            ]
          },
          "metadata": {
            "tags": []
          },
          "execution_count": 9
        }
      ]
    },
    {
      "cell_type": "code",
      "metadata": {
        "colab": {
          "base_uri": "https://localhost:8080/",
          "height": 285
        },
        "id": "oXUiHyLwl4TU",
        "outputId": "9c732c4d-444c-400b-c050-8c42715b79fe"
      },
      "source": [
        "plt.imshow(z) #display data as image\r\n",
        "plt.colorbar()"
      ],
      "execution_count": null,
      "outputs": [
        {
          "output_type": "execute_result",
          "data": {
            "text/plain": [
              "<matplotlib.colorbar.Colorbar at 0x7f565f09fc10>"
            ]
          },
          "metadata": {
            "tags": []
          },
          "execution_count": 14
        },
        {
          "output_type": "display_data",
          "data": {
            "image/png": "[encoded data removed]",
            "text/plain": [
              "<Figure size 432x288 with 2 Axes>"
            ]
          },
          "metadata": {
            "tags": [],
            "needs_background": "light"
          }
        }
      ]
    },
    {
      "cell_type": "code",
      "metadata": {
        "id": "eoR-_nn8l4ZN"
      },
      "source": [
        "a = np.array([1,2,3])\r\n",
        "b = np.array([4,5,6])"
      ],
      "execution_count": null,
      "outputs": []
    },
    {
      "cell_type": "code",
      "metadata": {
        "id": "fuwSFvU1niUu"
      },
      "source": [
        "condition = np.array([True, False, True])"
      ],
      "execution_count": null,
      "outputs": []
    },
    {
      "cell_type": "code",
      "metadata": {
        "id": "zMsr3SaWniXv"
      },
      "source": [
        "answer = [(a_val if cond else b_val) for a_val,b_val,cond in zip(a,b,condition)] #applying condition to an array"
      ],
      "execution_count": null,
      "outputs": []
    },
    {
      "cell_type": "code",
      "metadata": {
        "colab": {
          "base_uri": "https://localhost:8080/"
        },
        "id": "UDcEyG8XnibI",
        "outputId": "b521e535-c269-4b28-98d4-e27e239f78e6"
      },
      "source": [
        "answer"
      ],
      "execution_count": null,
      "outputs": [
        {
          "output_type": "execute_result",
          "data": {
            "text/plain": [
              "[1, 5, 3]"
            ]
          },
          "metadata": {
            "tags": []
          },
          "execution_count": 23
        }
      ]
    },
    {
      "cell_type": "code",
      "metadata": {
        "id": "PY6C7zrFl4d-"
      },
      "source": [
        "answer2 = np.where(condition,a,b) #another way to apply condition "
      ],
      "execution_count": null,
      "outputs": []
    },
    {
      "cell_type": "code",
      "metadata": {
        "colab": {
          "base_uri": "https://localhost:8080/"
        },
        "id": "BcQW5h9kopj2",
        "outputId": "281245e5-5227-475f-f059-fdda4ef82d62"
      },
      "source": [
        "answer2"
      ],
      "execution_count": null,
      "outputs": [
        {
          "output_type": "execute_result",
          "data": {
            "text/plain": [
              "array([1, 5, 3])"
            ]
          },
          "metadata": {
            "tags": []
          },
          "execution_count": 26
        }
      ]
    },
    {
      "cell_type": "code",
      "metadata": {
        "id": "BPLRO_zlopm7"
      },
      "source": [
        "arr = np.random.randn(5,5)"
      ],
      "execution_count": null,
      "outputs": []
    },
    {
      "cell_type": "code",
      "metadata": {
        "colab": {
          "base_uri": "https://localhost:8080/"
        },
        "id": "RqalRemDoppo",
        "outputId": "3d021f83-da67-4492-f4aa-2ebde1b2c7bb"
      },
      "source": [
        "arr"
      ],
      "execution_count": null,
      "outputs": [
        {
          "output_type": "execute_result",
          "data": {
            "text/plain": [
              "array([[-1.55823730e+00,  6.44330465e-02, -8.89098911e-01,\n",
              "         1.48551388e-01,  9.18216742e-01],\n",
              "       [ 2.61017970e-01,  8.77893347e-01,  1.86262333e-01,\n",
              "        -2.83027409e+00, -8.51044366e-01],\n",
              "       [ 1.22573811e-03,  1.20857978e+00, -1.31710186e+00,\n",
              "        -2.34487373e-01,  5.68751456e-01],\n",
              "       [-3.42951416e-02, -4.33559454e-01, -1.05442625e-01,\n",
              "        -7.72855584e-01,  1.54802748e-02],\n",
              "       [-2.68466669e-01, -7.61062363e-01,  1.54490056e+00,\n",
              "         1.80421429e+00,  8.01379802e-01]])"
            ]
          },
          "metadata": {
            "tags": []
          },
          "execution_count": 31
        }
      ]
    },
    {
      "cell_type": "code",
      "metadata": {
        "colab": {
          "base_uri": "https://localhost:8080/"
        },
        "id": "yL5OgI8gqVG3",
        "outputId": "dcd75323-3240-4904-b667-f63dfff00eb4"
      },
      "source": [
        "np.where(arr<0,0,arr) #another example"
      ],
      "execution_count": null,
      "outputs": [
        {
          "output_type": "execute_result",
          "data": {
            "text/plain": [
              "array([[0.00000000e+00, 6.44330465e-02, 0.00000000e+00, 1.48551388e-01,\n",
              "        9.18216742e-01],\n",
              "       [2.61017970e-01, 8.77893347e-01, 1.86262333e-01, 0.00000000e+00,\n",
              "        0.00000000e+00],\n",
              "       [1.22573811e-03, 1.20857978e+00, 0.00000000e+00, 0.00000000e+00,\n",
              "        5.68751456e-01],\n",
              "       [0.00000000e+00, 0.00000000e+00, 0.00000000e+00, 0.00000000e+00,\n",
              "        1.54802748e-02],\n",
              "       [0.00000000e+00, 0.00000000e+00, 1.54490056e+00, 1.80421429e+00,\n",
              "        8.01379802e-01]])"
            ]
          },
          "metadata": {
            "tags": []
          },
          "execution_count": 32
        }
      ]
    },
    {
      "cell_type": "code",
      "metadata": {
        "id": "wg7tbmpXq7MU"
      },
      "source": [
        "arr = np.array([[1,2,3],[4,5,6],[7,8,9]])"
      ],
      "execution_count": null,
      "outputs": []
    },
    {
      "cell_type": "code",
      "metadata": {
        "colab": {
          "base_uri": "https://localhost:8080/"
        },
        "id": "xZQjtU8Vq7Pv",
        "outputId": "38c653bb-7a76-4eef-dd83-f65c03dc4b8e"
      },
      "source": [
        "arr"
      ],
      "execution_count": null,
      "outputs": [
        {
          "output_type": "execute_result",
          "data": {
            "text/plain": [
              "array([[1, 2, 3],\n",
              "       [4, 5, 6],\n",
              "       [7, 8, 9]])"
            ]
          },
          "metadata": {
            "tags": []
          },
          "execution_count": 35
        }
      ]
    },
    {
      "cell_type": "code",
      "metadata": {
        "colab": {
          "base_uri": "https://localhost:8080/"
        },
        "id": "CsrttvYzq7Sx",
        "outputId": "8606e421-448a-4e16-f983-6c515501d136"
      },
      "source": [
        "arr.sum()"
      ],
      "execution_count": null,
      "outputs": [
        {
          "output_type": "execute_result",
          "data": {
            "text/plain": [
              "45"
            ]
          },
          "metadata": {
            "tags": []
          },
          "execution_count": 36
        }
      ]
    },
    {
      "cell_type": "code",
      "metadata": {
        "colab": {
          "base_uri": "https://localhost:8080/"
        },
        "id": "CGgxxAGdq7WY",
        "outputId": "d27a7c19-835c-471a-b420-faea8e1ba09e"
      },
      "source": [
        "arr.sum(0)"
      ],
      "execution_count": null,
      "outputs": [
        {
          "output_type": "execute_result",
          "data": {
            "text/plain": [
              "array([12, 15, 18])"
            ]
          },
          "metadata": {
            "tags": []
          },
          "execution_count": 38
        }
      ]
    },
    {
      "cell_type": "code",
      "metadata": {
        "colab": {
          "base_uri": "https://localhost:8080/"
        },
        "id": "4eC8XrZoq7Zh",
        "outputId": "99153955-e6a2-4ef3-cb62-443297dc4580"
      },
      "source": [
        "arr.sum(1)"
      ],
      "execution_count": null,
      "outputs": [
        {
          "output_type": "execute_result",
          "data": {
            "text/plain": [
              "array([ 6, 15, 24])"
            ]
          },
          "metadata": {
            "tags": []
          },
          "execution_count": 39
        }
      ]
    },
    {
      "cell_type": "code",
      "metadata": {
        "colab": {
          "base_uri": "https://localhost:8080/"
        },
        "id": "x0D4-vHprr00",
        "outputId": "a6a109eb-0ad0-4553-ba06-eb1dd724378b"
      },
      "source": [
        "arr.mean()"
      ],
      "execution_count": null,
      "outputs": [
        {
          "output_type": "execute_result",
          "data": {
            "text/plain": [
              "5.0"
            ]
          },
          "metadata": {
            "tags": []
          },
          "execution_count": 40
        }
      ]
    },
    {
      "cell_type": "code",
      "metadata": {
        "colab": {
          "base_uri": "https://localhost:8080/"
        },
        "id": "e_Cv9L1Arr4U",
        "outputId": "cc60e952-f511-4e47-ff5c-6e28f364d5d9"
      },
      "source": [
        "arr.std()"
      ],
      "execution_count": null,
      "outputs": [
        {
          "output_type": "execute_result",
          "data": {
            "text/plain": [
              "2.581988897471611"
            ]
          },
          "metadata": {
            "tags": []
          },
          "execution_count": 41
        }
      ]
    },
    {
      "cell_type": "code",
      "metadata": {
        "colab": {
          "base_uri": "https://localhost:8080/"
        },
        "id": "rdJwoFGLrr6_",
        "outputId": "f10e10f8-a87f-4616-db4a-c950e5c11acf"
      },
      "source": [
        "arr.var()"
      ],
      "execution_count": null,
      "outputs": [
        {
          "output_type": "execute_result",
          "data": {
            "text/plain": [
              "6.666666666666667"
            ]
          },
          "metadata": {
            "tags": []
          },
          "execution_count": 42
        }
      ]
    },
    {
      "cell_type": "code",
      "metadata": {
        "id": "ygy2uYejq7c_"
      },
      "source": [
        "boolean_arr = np.array([True, False, True])"
      ],
      "execution_count": null,
      "outputs": []
    },
    {
      "cell_type": "code",
      "metadata": {
        "colab": {
          "base_uri": "https://localhost:8080/"
        },
        "id": "49D2_4LFr8g1",
        "outputId": "53de8dba-f09a-4c04-e5e9-5367b2a3baa6"
      },
      "source": [
        "boolean_arr.any()"
      ],
      "execution_count": null,
      "outputs": [
        {
          "output_type": "execute_result",
          "data": {
            "text/plain": [
              "True"
            ]
          },
          "metadata": {
            "tags": []
          },
          "execution_count": 44
        }
      ]
    },
    {
      "cell_type": "code",
      "metadata": {
        "colab": {
          "base_uri": "https://localhost:8080/"
        },
        "id": "OBfN0PLxr8qv",
        "outputId": "f24d5cc1-5827-4dce-c6ff-54b5b6811fa0"
      },
      "source": [
        "boolean_arr.all()"
      ],
      "execution_count": null,
      "outputs": [
        {
          "output_type": "execute_result",
          "data": {
            "text/plain": [
              "False"
            ]
          },
          "metadata": {
            "tags": []
          },
          "execution_count": 45
        }
      ]
    },
    {
      "cell_type": "code",
      "metadata": {
        "id": "g7ZhX1zqq7fs"
      },
      "source": [
        "arr = np.random.randn(5)"
      ],
      "execution_count": null,
      "outputs": []
    },
    {
      "cell_type": "code",
      "metadata": {
        "colab": {
          "base_uri": "https://localhost:8080/"
        },
        "id": "L83fwT29sOGM",
        "outputId": "3290075b-981d-4069-b1d7-9c715f5fa400"
      },
      "source": [
        "arr"
      ],
      "execution_count": null,
      "outputs": [
        {
          "output_type": "execute_result",
          "data": {
            "text/plain": [
              "array([-0.58357931,  0.82153954,  1.10065466,  0.31267983, -1.15412561])"
            ]
          },
          "metadata": {
            "tags": []
          },
          "execution_count": 47
        }
      ]
    },
    {
      "cell_type": "code",
      "metadata": {
        "id": "PobqASHbsOJb"
      },
      "source": [
        "arr.sort()"
      ],
      "execution_count": null,
      "outputs": []
    },
    {
      "cell_type": "code",
      "metadata": {
        "colab": {
          "base_uri": "https://localhost:8080/"
        },
        "id": "QcH9mrfpsOMP",
        "outputId": "a1771271-b5f8-46f3-a853-68d4919468f0"
      },
      "source": [
        "arr"
      ],
      "execution_count": null,
      "outputs": [
        {
          "output_type": "execute_result",
          "data": {
            "text/plain": [
              "array([-1.15412561, -0.58357931,  0.31267983,  0.82153954,  1.10065466])"
            ]
          },
          "metadata": {
            "tags": []
          },
          "execution_count": 50
        }
      ]
    },
    {
      "cell_type": "code",
      "metadata": {
        "id": "NrRfghdXsOOo"
      },
      "source": [
        "arr = np.array([1,2,3,4,5,4,3,2])"
      ],
      "execution_count": null,
      "outputs": []
    },
    {
      "cell_type": "code",
      "metadata": {
        "colab": {
          "base_uri": "https://localhost:8080/"
        },
        "id": "EHYpKg8uscMu",
        "outputId": "0fbf3c3a-94dd-4ee3-b5ae-8e860f4f4c7d"
      },
      "source": [
        "np.unique(arr)"
      ],
      "execution_count": null,
      "outputs": [
        {
          "output_type": "execute_result",
          "data": {
            "text/plain": [
              "array([1, 2, 3, 4, 5])"
            ]
          },
          "metadata": {
            "tags": []
          },
          "execution_count": 54
        }
      ]
    },
    {
      "cell_type": "code",
      "metadata": {
        "colab": {
          "base_uri": "https://localhost:8080/"
        },
        "id": "tVMXkhJDscPx",
        "outputId": "9e0addb7-4a4d-4194-f253-ba01c5424300"
      },
      "source": [
        "np.in1d(['a','b','c'],arr)"
      ],
      "execution_count": null,
      "outputs": [
        {
          "output_type": "stream",
          "text": [
            "/usr/local/lib/python3.7/dist-packages/numpy/lib/arraysetops.py:580: FutureWarning: elementwise comparison failed; returning scalar instead, but in the future will perform elementwise comparison\n",
            "  mask |= (ar1 == a)\n"
          ],
          "name": "stderr"
        },
        {
          "output_type": "execute_result",
          "data": {
            "text/plain": [
              "array([False, False, False])"
            ]
          },
          "metadata": {
            "tags": []
          },
          "execution_count": 56
        }
      ]
    },
    {
      "cell_type": "markdown",
      "metadata": {
        "id": "ge4aLYXAc-fw"
      },
      "source": [
        "#Array Input and Output"
      ]
    },
    {
      "cell_type": "code",
      "metadata": {
        "id": "dwgcd6rLscR8"
      },
      "source": [
        "arr = np.arange(5)"
      ],
      "execution_count": 4,
      "outputs": []
    },
    {
      "cell_type": "code",
      "metadata": {
        "id": "CzJS2jZ4scUg",
        "colab": {
          "base_uri": "https://localhost:8080/"
        },
        "outputId": "ef2a2eab-9b4a-4adf-9827-ea721e8d2d03"
      },
      "source": [
        "arr"
      ],
      "execution_count": 5,
      "outputs": [
        {
          "output_type": "execute_result",
          "data": {
            "text/plain": [
              "array([0, 1, 2, 3, 4])"
            ]
          },
          "metadata": {
            "tags": []
          },
          "execution_count": 5
        }
      ]
    },
    {
      "cell_type": "code",
      "metadata": {
        "id": "yQCi4gBAb2aj"
      },
      "source": [
        "np.save('myarray',arr)"
      ],
      "execution_count": 6,
      "outputs": []
    },
    {
      "cell_type": "code",
      "metadata": {
        "id": "cWI3QU52b2ep"
      },
      "source": [
        "arr = np.arange(10)"
      ],
      "execution_count": 7,
      "outputs": []
    },
    {
      "cell_type": "code",
      "metadata": {
        "colab": {
          "base_uri": "https://localhost:8080/"
        },
        "id": "yordHLC4b2iB",
        "outputId": "b12c77df-32c8-490f-e319-d7fed8aa7e6c"
      },
      "source": [
        "arr"
      ],
      "execution_count": 8,
      "outputs": [
        {
          "output_type": "execute_result",
          "data": {
            "text/plain": [
              "array([0, 1, 2, 3, 4, 5, 6, 7, 8, 9])"
            ]
          },
          "metadata": {
            "tags": []
          },
          "execution_count": 8
        }
      ]
    },
    {
      "cell_type": "code",
      "metadata": {
        "id": "bzsLP1LLb2kn"
      },
      "source": [
        "arr1 = np.load('myarray.npy')"
      ],
      "execution_count": 9,
      "outputs": []
    },
    {
      "cell_type": "code",
      "metadata": {
        "colab": {
          "base_uri": "https://localhost:8080/"
        },
        "id": "wm1xKl2qb2nd",
        "outputId": "c6e9306d-d36f-4a5d-9847-c537dbb3a0da"
      },
      "source": [
        "arr"
      ],
      "execution_count": 10,
      "outputs": [
        {
          "output_type": "execute_result",
          "data": {
            "text/plain": [
              "array([0, 1, 2, 3, 4, 5, 6, 7, 8, 9])"
            ]
          },
          "metadata": {
            "tags": []
          },
          "execution_count": 10
        }
      ]
    },
    {
      "cell_type": "code",
      "metadata": {
        "id": "WRpTrymHcNoh"
      },
      "source": [
        "arr2 = arr"
      ],
      "execution_count": 11,
      "outputs": []
    },
    {
      "cell_type": "code",
      "metadata": {
        "colab": {
          "base_uri": "https://localhost:8080/"
        },
        "id": "Bi3wVzsOcNrM",
        "outputId": "f933357d-538a-4d28-fb46-58e7d7c0bcc1"
      },
      "source": [
        "arr2"
      ],
      "execution_count": 12,
      "outputs": [
        {
          "output_type": "execute_result",
          "data": {
            "text/plain": [
              "array([0, 1, 2, 3, 4, 5, 6, 7, 8, 9])"
            ]
          },
          "metadata": {
            "tags": []
          },
          "execution_count": 12
        }
      ]
    },
    {
      "cell_type": "code",
      "metadata": {
        "id": "K2FRHdvKcNuM"
      },
      "source": [
        "np.savez('ziparray.npz',x=arr1,y=arr2)"
      ],
      "execution_count": 13,
      "outputs": []
    },
    {
      "cell_type": "code",
      "metadata": {
        "id": "EtITUVrHcNxO"
      },
      "source": [
        "loading_arrray = np.load('ziparray.npz')"
      ],
      "execution_count": 14,
      "outputs": []
    },
    {
      "cell_type": "code",
      "metadata": {
        "colab": {
          "base_uri": "https://localhost:8080/"
        },
        "id": "EOzZEP2xcNzg",
        "outputId": "028a6c3b-09a8-4c26-d30b-12c2859249fa"
      },
      "source": [
        "loading_arrray['x']"
      ],
      "execution_count": 15,
      "outputs": [
        {
          "output_type": "execute_result",
          "data": {
            "text/plain": [
              "array([0, 1, 2, 3, 4])"
            ]
          },
          "metadata": {
            "tags": []
          },
          "execution_count": 15
        }
      ]
    },
    {
      "cell_type": "code",
      "metadata": {
        "colab": {
          "base_uri": "https://localhost:8080/"
        },
        "id": "Wx1szhBkcxtN",
        "outputId": "f14d7956-cbeb-4350-e2fe-e0a47378914a"
      },
      "source": [
        "loading_arrray['y']"
      ],
      "execution_count": 16,
      "outputs": [
        {
          "output_type": "execute_result",
          "data": {
            "text/plain": [
              "array([0, 1, 2, 3, 4, 5, 6, 7, 8, 9])"
            ]
          },
          "metadata": {
            "tags": []
          },
          "execution_count": 16
        }
      ]
    },
    {
      "cell_type": "code",
      "metadata": {
        "id": "oJ99I2pJcxwe"
      },
      "source": [
        "arr = np.array([[1,2,3],[4,5,6]])"
      ],
      "execution_count": 18,
      "outputs": []
    },
    {
      "cell_type": "code",
      "metadata": {
        "colab": {
          "base_uri": "https://localhost:8080/"
        },
        "id": "f7L0Fd7-cxzd",
        "outputId": "1eb34ab4-a9c9-44e5-f86b-f4833fbceda9"
      },
      "source": [
        "arr"
      ],
      "execution_count": 19,
      "outputs": [
        {
          "output_type": "execute_result",
          "data": {
            "text/plain": [
              "array([[1, 2, 3],\n",
              "       [4, 5, 6]])"
            ]
          },
          "metadata": {
            "tags": []
          },
          "execution_count": 19
        }
      ]
    },
    {
      "cell_type": "code",
      "metadata": {
        "id": "fHTr-uKicx2W"
      },
      "source": [
        "np.savetxt('textarray.txt',arr,delimiter=',')"
      ],
      "execution_count": 20,
      "outputs": []
    },
    {
      "cell_type": "code",
      "metadata": {
        "id": "Y8JIfU53cx5L"
      },
      "source": [
        "arr = np.loadtxt('textarray.txt',delimiter=',')"
      ],
      "execution_count": 21,
      "outputs": []
    },
    {
      "cell_type": "code",
      "metadata": {
        "colab": {
          "base_uri": "https://localhost:8080/"
        },
        "id": "op2oryOwdkzr",
        "outputId": "ad42a4cc-739c-4c45-d818-32da19537e94"
      },
      "source": [
        "arr"
      ],
      "execution_count": 23,
      "outputs": [
        {
          "output_type": "execute_result",
          "data": {
            "text/plain": [
              "array([[1., 2., 3.],\n",
              "       [4., 5., 6.]])"
            ]
          },
          "metadata": {
            "tags": []
          },
          "execution_count": 23
        }
      ]
    }
  ]
}