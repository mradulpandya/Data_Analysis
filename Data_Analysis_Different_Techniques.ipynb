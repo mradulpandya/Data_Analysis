{
  "nbformat": 4,
  "nbformat_minor": 0,
  "metadata": {
    "colab": {
      "name": "Data Analysis Different Techniques.ipynb",
      "provenance": [],
      "collapsed_sections": [],
      "authorship_tag": "ABX9TyN6AkwoexbKt5KLtAYUr3ui",
      "include_colab_link": true
    },
    "kernelspec": {
      "name": "python3",
      "display_name": "Python 3"
    }
  },
  "cells": [
    {
      "cell_type": "markdown",
      "metadata": {
        "id": "view-in-github",
        "colab_type": "text"
      },
      "source": [
        "<a href=\"https://colab.research.google.com/github/mradulpandya/Data_Analysis/blob/main/Data_Analysis_Different_Techniques.ipynb\" target=\"_parent\"><img src=\"https://colab.research.google.com/assets/colab-badge.svg\" alt=\"Open In Colab\"/></a>"
      ]
    },
    {
      "cell_type": "code",
      "metadata": {
        "id": "1g8tE4FXm8Y8"
      },
      "source": [
        "import numpy as np\n",
        "import pandas as pd\n",
        "from pandas import Series, DataFrame"
      ],
      "execution_count": 1,
      "outputs": []
    },
    {
      "cell_type": "markdown",
      "metadata": {
        "id": "eV_jbRtGqmXW"
      },
      "source": [
        "# Merge"
      ]
    },
    {
      "cell_type": "code",
      "metadata": {
        "id": "2LT4nko2qxOc"
      },
      "source": [
        "dframe1 = DataFrame({'key':['x','y','z','a','b','c'],'data_Set_1':np.arange(6)})"
      ],
      "execution_count": null,
      "outputs": []
    },
    {
      "cell_type": "code",
      "metadata": {
        "colab": {
          "base_uri": "https://localhost:8080/",
          "height": 225
        },
        "id": "9TLIva46qxQ3",
        "outputId": "0b07b4f2-a777-4197-b044-abff8b34199c"
      },
      "source": [
        "dframe1"
      ],
      "execution_count": null,
      "outputs": [
        {
          "output_type": "execute_result",
          "data": {
            "text/html": [
              "<div>\n",
              "<style scoped>\n",
              "    .dataframe tbody tr th:only-of-type {\n",
              "        vertical-align: middle;\n",
              "    }\n",
              "\n",
              "    .dataframe tbody tr th {\n",
              "        vertical-align: top;\n",
              "    }\n",
              "\n",
              "    .dataframe thead th {\n",
              "        text-align: right;\n",
              "    }\n",
              "</style>\n",
              "<table border=\"1\" class=\"dataframe\">\n",
              "  <thead>\n",
              "    <tr style=\"text-align: right;\">\n",
              "      <th></th>\n",
              "      <th>key</th>\n",
              "      <th>data_Set_1</th>\n",
              "    </tr>\n",
              "  </thead>\n",
              "  <tbody>\n",
              "    <tr>\n",
              "      <th>0</th>\n",
              "      <td>x</td>\n",
              "      <td>0</td>\n",
              "    </tr>\n",
              "    <tr>\n",
              "      <th>1</th>\n",
              "      <td>y</td>\n",
              "      <td>1</td>\n",
              "    </tr>\n",
              "    <tr>\n",
              "      <th>2</th>\n",
              "      <td>z</td>\n",
              "      <td>2</td>\n",
              "    </tr>\n",
              "    <tr>\n",
              "      <th>3</th>\n",
              "      <td>a</td>\n",
              "      <td>3</td>\n",
              "    </tr>\n",
              "    <tr>\n",
              "      <th>4</th>\n",
              "      <td>b</td>\n",
              "      <td>4</td>\n",
              "    </tr>\n",
              "    <tr>\n",
              "      <th>5</th>\n",
              "      <td>c</td>\n",
              "      <td>5</td>\n",
              "    </tr>\n",
              "  </tbody>\n",
              "</table>\n",
              "</div>"
            ],
            "text/plain": [
              "  key  data_Set_1\n",
              "0   x           0\n",
              "1   y           1\n",
              "2   z           2\n",
              "3   a           3\n",
              "4   b           4\n",
              "5   c           5"
            ]
          },
          "metadata": {
            "tags": []
          },
          "execution_count": 15
        }
      ]
    },
    {
      "cell_type": "code",
      "metadata": {
        "id": "Dr5fS7XCqxT3"
      },
      "source": [
        "dframe2 = DataFrame({'key':['x','y',' r'],'data_Set_2':[1,2,3]})"
      ],
      "execution_count": null,
      "outputs": []
    },
    {
      "cell_type": "code",
      "metadata": {
        "colab": {
          "base_uri": "https://localhost:8080/",
          "height": 136
        },
        "id": "xkiM2nn7rd9u",
        "outputId": "1a883332-460f-42cb-c96c-b185083320f4"
      },
      "source": [
        "dframe2"
      ],
      "execution_count": null,
      "outputs": [
        {
          "output_type": "execute_result",
          "data": {
            "text/html": [
              "<div>\n",
              "<style scoped>\n",
              "    .dataframe tbody tr th:only-of-type {\n",
              "        vertical-align: middle;\n",
              "    }\n",
              "\n",
              "    .dataframe tbody tr th {\n",
              "        vertical-align: top;\n",
              "    }\n",
              "\n",
              "    .dataframe thead th {\n",
              "        text-align: right;\n",
              "    }\n",
              "</style>\n",
              "<table border=\"1\" class=\"dataframe\">\n",
              "  <thead>\n",
              "    <tr style=\"text-align: right;\">\n",
              "      <th></th>\n",
              "      <th>key</th>\n",
              "      <th>data_Set_2</th>\n",
              "    </tr>\n",
              "  </thead>\n",
              "  <tbody>\n",
              "    <tr>\n",
              "      <th>0</th>\n",
              "      <td>x</td>\n",
              "      <td>1</td>\n",
              "    </tr>\n",
              "    <tr>\n",
              "      <th>1</th>\n",
              "      <td>y</td>\n",
              "      <td>2</td>\n",
              "    </tr>\n",
              "    <tr>\n",
              "      <th>2</th>\n",
              "      <td>r</td>\n",
              "      <td>3</td>\n",
              "    </tr>\n",
              "  </tbody>\n",
              "</table>\n",
              "</div>"
            ],
            "text/plain": [
              "  key  data_Set_2\n",
              "0   x           1\n",
              "1   y           2\n",
              "2   r           3"
            ]
          },
          "metadata": {
            "tags": []
          },
          "execution_count": 17
        }
      ]
    },
    {
      "cell_type": "code",
      "metadata": {
        "colab": {
          "base_uri": "https://localhost:8080/",
          "height": 106
        },
        "id": "ch0EfoDFreTr",
        "outputId": "a34c0f93-e079-4d95-a0ae-62e583c04c88"
      },
      "source": [
        "pd.merge(dframe1,dframe2)"
      ],
      "execution_count": null,
      "outputs": [
        {
          "output_type": "execute_result",
          "data": {
            "text/html": [
              "<div>\n",
              "<style scoped>\n",
              "    .dataframe tbody tr th:only-of-type {\n",
              "        vertical-align: middle;\n",
              "    }\n",
              "\n",
              "    .dataframe tbody tr th {\n",
              "        vertical-align: top;\n",
              "    }\n",
              "\n",
              "    .dataframe thead th {\n",
              "        text-align: right;\n",
              "    }\n",
              "</style>\n",
              "<table border=\"1\" class=\"dataframe\">\n",
              "  <thead>\n",
              "    <tr style=\"text-align: right;\">\n",
              "      <th></th>\n",
              "      <th>key</th>\n",
              "      <th>data_Set_1</th>\n",
              "      <th>data_Set_2</th>\n",
              "    </tr>\n",
              "  </thead>\n",
              "  <tbody>\n",
              "    <tr>\n",
              "      <th>0</th>\n",
              "      <td>x</td>\n",
              "      <td>0</td>\n",
              "      <td>1</td>\n",
              "    </tr>\n",
              "    <tr>\n",
              "      <th>1</th>\n",
              "      <td>y</td>\n",
              "      <td>1</td>\n",
              "      <td>2</td>\n",
              "    </tr>\n",
              "  </tbody>\n",
              "</table>\n",
              "</div>"
            ],
            "text/plain": [
              "  key  data_Set_1  data_Set_2\n",
              "0   x           0           1\n",
              "1   y           1           2"
            ]
          },
          "metadata": {
            "tags": []
          },
          "execution_count": 18
        }
      ]
    },
    {
      "cell_type": "code",
      "metadata": {
        "colab": {
          "base_uri": "https://localhost:8080/",
          "height": 225
        },
        "id": "CeU4M94_reWH",
        "outputId": "06264b13-2505-410a-a1d8-a416be2fed4d"
      },
      "source": [
        "pd.merge(dframe1,dframe2, on='key', how='left')"
      ],
      "execution_count": null,
      "outputs": [
        {
          "output_type": "execute_result",
          "data": {
            "text/html": [
              "<div>\n",
              "<style scoped>\n",
              "    .dataframe tbody tr th:only-of-type {\n",
              "        vertical-align: middle;\n",
              "    }\n",
              "\n",
              "    .dataframe tbody tr th {\n",
              "        vertical-align: top;\n",
              "    }\n",
              "\n",
              "    .dataframe thead th {\n",
              "        text-align: right;\n",
              "    }\n",
              "</style>\n",
              "<table border=\"1\" class=\"dataframe\">\n",
              "  <thead>\n",
              "    <tr style=\"text-align: right;\">\n",
              "      <th></th>\n",
              "      <th>key</th>\n",
              "      <th>data_Set_1</th>\n",
              "      <th>data_Set_2</th>\n",
              "    </tr>\n",
              "  </thead>\n",
              "  <tbody>\n",
              "    <tr>\n",
              "      <th>0</th>\n",
              "      <td>x</td>\n",
              "      <td>0</td>\n",
              "      <td>1.0</td>\n",
              "    </tr>\n",
              "    <tr>\n",
              "      <th>1</th>\n",
              "      <td>y</td>\n",
              "      <td>1</td>\n",
              "      <td>2.0</td>\n",
              "    </tr>\n",
              "    <tr>\n",
              "      <th>2</th>\n",
              "      <td>z</td>\n",
              "      <td>2</td>\n",
              "      <td>NaN</td>\n",
              "    </tr>\n",
              "    <tr>\n",
              "      <th>3</th>\n",
              "      <td>a</td>\n",
              "      <td>3</td>\n",
              "      <td>NaN</td>\n",
              "    </tr>\n",
              "    <tr>\n",
              "      <th>4</th>\n",
              "      <td>b</td>\n",
              "      <td>4</td>\n",
              "      <td>NaN</td>\n",
              "    </tr>\n",
              "    <tr>\n",
              "      <th>5</th>\n",
              "      <td>c</td>\n",
              "      <td>5</td>\n",
              "      <td>NaN</td>\n",
              "    </tr>\n",
              "  </tbody>\n",
              "</table>\n",
              "</div>"
            ],
            "text/plain": [
              "  key  data_Set_1  data_Set_2\n",
              "0   x           0         1.0\n",
              "1   y           1         2.0\n",
              "2   z           2         NaN\n",
              "3   a           3         NaN\n",
              "4   b           4         NaN\n",
              "5   c           5         NaN"
            ]
          },
          "metadata": {
            "tags": []
          },
          "execution_count": 19
        }
      ]
    },
    {
      "cell_type": "code",
      "metadata": {
        "colab": {
          "base_uri": "https://localhost:8080/",
          "height": 136
        },
        "id": "OqE1JCdnsECe",
        "outputId": "9b91bd1e-6583-4924-8a11-8398b3834117"
      },
      "source": [
        "pd.merge(dframe1,dframe2, on='key', how='right')"
      ],
      "execution_count": null,
      "outputs": [
        {
          "output_type": "execute_result",
          "data": {
            "text/html": [
              "<div>\n",
              "<style scoped>\n",
              "    .dataframe tbody tr th:only-of-type {\n",
              "        vertical-align: middle;\n",
              "    }\n",
              "\n",
              "    .dataframe tbody tr th {\n",
              "        vertical-align: top;\n",
              "    }\n",
              "\n",
              "    .dataframe thead th {\n",
              "        text-align: right;\n",
              "    }\n",
              "</style>\n",
              "<table border=\"1\" class=\"dataframe\">\n",
              "  <thead>\n",
              "    <tr style=\"text-align: right;\">\n",
              "      <th></th>\n",
              "      <th>key</th>\n",
              "      <th>data_Set_1</th>\n",
              "      <th>data_Set_2</th>\n",
              "    </tr>\n",
              "  </thead>\n",
              "  <tbody>\n",
              "    <tr>\n",
              "      <th>0</th>\n",
              "      <td>x</td>\n",
              "      <td>0.0</td>\n",
              "      <td>1</td>\n",
              "    </tr>\n",
              "    <tr>\n",
              "      <th>1</th>\n",
              "      <td>y</td>\n",
              "      <td>1.0</td>\n",
              "      <td>2</td>\n",
              "    </tr>\n",
              "    <tr>\n",
              "      <th>2</th>\n",
              "      <td>r</td>\n",
              "      <td>NaN</td>\n",
              "      <td>3</td>\n",
              "    </tr>\n",
              "  </tbody>\n",
              "</table>\n",
              "</div>"
            ],
            "text/plain": [
              "  key  data_Set_1  data_Set_2\n",
              "0   x         0.0           1\n",
              "1   y         1.0           2\n",
              "2   r         NaN           3"
            ]
          },
          "metadata": {
            "tags": []
          },
          "execution_count": 20
        }
      ]
    },
    {
      "cell_type": "code",
      "metadata": {
        "colab": {
          "base_uri": "https://localhost:8080/",
          "height": 254
        },
        "id": "HzxkSiTBsSnm",
        "outputId": "bcc50d74-6410-4ffd-e87a-721e9719ece8"
      },
      "source": [
        "pd.merge(dframe1,dframe2, on='key', how='outer')"
      ],
      "execution_count": null,
      "outputs": [
        {
          "output_type": "execute_result",
          "data": {
            "text/html": [
              "<div>\n",
              "<style scoped>\n",
              "    .dataframe tbody tr th:only-of-type {\n",
              "        vertical-align: middle;\n",
              "    }\n",
              "\n",
              "    .dataframe tbody tr th {\n",
              "        vertical-align: top;\n",
              "    }\n",
              "\n",
              "    .dataframe thead th {\n",
              "        text-align: right;\n",
              "    }\n",
              "</style>\n",
              "<table border=\"1\" class=\"dataframe\">\n",
              "  <thead>\n",
              "    <tr style=\"text-align: right;\">\n",
              "      <th></th>\n",
              "      <th>key</th>\n",
              "      <th>data_Set_1</th>\n",
              "      <th>data_Set_2</th>\n",
              "    </tr>\n",
              "  </thead>\n",
              "  <tbody>\n",
              "    <tr>\n",
              "      <th>0</th>\n",
              "      <td>x</td>\n",
              "      <td>0.0</td>\n",
              "      <td>1.0</td>\n",
              "    </tr>\n",
              "    <tr>\n",
              "      <th>1</th>\n",
              "      <td>y</td>\n",
              "      <td>1.0</td>\n",
              "      <td>2.0</td>\n",
              "    </tr>\n",
              "    <tr>\n",
              "      <th>2</th>\n",
              "      <td>z</td>\n",
              "      <td>2.0</td>\n",
              "      <td>NaN</td>\n",
              "    </tr>\n",
              "    <tr>\n",
              "      <th>3</th>\n",
              "      <td>a</td>\n",
              "      <td>3.0</td>\n",
              "      <td>NaN</td>\n",
              "    </tr>\n",
              "    <tr>\n",
              "      <th>4</th>\n",
              "      <td>b</td>\n",
              "      <td>4.0</td>\n",
              "      <td>NaN</td>\n",
              "    </tr>\n",
              "    <tr>\n",
              "      <th>5</th>\n",
              "      <td>c</td>\n",
              "      <td>5.0</td>\n",
              "      <td>NaN</td>\n",
              "    </tr>\n",
              "    <tr>\n",
              "      <th>6</th>\n",
              "      <td>r</td>\n",
              "      <td>NaN</td>\n",
              "      <td>3.0</td>\n",
              "    </tr>\n",
              "  </tbody>\n",
              "</table>\n",
              "</div>"
            ],
            "text/plain": [
              "  key  data_Set_1  data_Set_2\n",
              "0   x         0.0         1.0\n",
              "1   y         1.0         2.0\n",
              "2   z         2.0         NaN\n",
              "3   a         3.0         NaN\n",
              "4   b         4.0         NaN\n",
              "5   c         5.0         NaN\n",
              "6   r         NaN         3.0"
            ]
          },
          "metadata": {
            "tags": []
          },
          "execution_count": 21
        }
      ]
    },
    {
      "cell_type": "code",
      "metadata": {
        "id": "iK-d2L34sdj3"
      },
      "source": [
        "dframe3 = DataFrame({'key':['x','x','y','y','z','z'],'data_Set_3':range(6)})"
      ],
      "execution_count": null,
      "outputs": []
    },
    {
      "cell_type": "code",
      "metadata": {
        "colab": {
          "base_uri": "https://localhost:8080/",
          "height": 225
        },
        "id": "fJoqmemSsxiu",
        "outputId": "f5ef4667-93ec-496d-d058-64f5acd44e55"
      },
      "source": [
        "dframe3"
      ],
      "execution_count": null,
      "outputs": [
        {
          "output_type": "execute_result",
          "data": {
            "text/html": [
              "<div>\n",
              "<style scoped>\n",
              "    .dataframe tbody tr th:only-of-type {\n",
              "        vertical-align: middle;\n",
              "    }\n",
              "\n",
              "    .dataframe tbody tr th {\n",
              "        vertical-align: top;\n",
              "    }\n",
              "\n",
              "    .dataframe thead th {\n",
              "        text-align: right;\n",
              "    }\n",
              "</style>\n",
              "<table border=\"1\" class=\"dataframe\">\n",
              "  <thead>\n",
              "    <tr style=\"text-align: right;\">\n",
              "      <th></th>\n",
              "      <th>key</th>\n",
              "      <th>data_Set_3</th>\n",
              "    </tr>\n",
              "  </thead>\n",
              "  <tbody>\n",
              "    <tr>\n",
              "      <th>0</th>\n",
              "      <td>x</td>\n",
              "      <td>0</td>\n",
              "    </tr>\n",
              "    <tr>\n",
              "      <th>1</th>\n",
              "      <td>x</td>\n",
              "      <td>1</td>\n",
              "    </tr>\n",
              "    <tr>\n",
              "      <th>2</th>\n",
              "      <td>y</td>\n",
              "      <td>2</td>\n",
              "    </tr>\n",
              "    <tr>\n",
              "      <th>3</th>\n",
              "      <td>y</td>\n",
              "      <td>3</td>\n",
              "    </tr>\n",
              "    <tr>\n",
              "      <th>4</th>\n",
              "      <td>z</td>\n",
              "      <td>4</td>\n",
              "    </tr>\n",
              "    <tr>\n",
              "      <th>5</th>\n",
              "      <td>z</td>\n",
              "      <td>5</td>\n",
              "    </tr>\n",
              "  </tbody>\n",
              "</table>\n",
              "</div>"
            ],
            "text/plain": [
              "  key  data_Set_3\n",
              "0   x           0\n",
              "1   x           1\n",
              "2   y           2\n",
              "3   y           3\n",
              "4   z           4\n",
              "5   z           5"
            ]
          },
          "metadata": {
            "tags": []
          },
          "execution_count": 31
        }
      ]
    },
    {
      "cell_type": "code",
      "metadata": {
        "id": "E0UrVbg2s0aG"
      },
      "source": [
        "dframe4 = DataFrame({'key':['y','y','x','x','z'],'data_Set_4':range(5)})"
      ],
      "execution_count": null,
      "outputs": []
    },
    {
      "cell_type": "code",
      "metadata": {
        "colab": {
          "base_uri": "https://localhost:8080/",
          "height": 195
        },
        "id": "FU8Ii-5Ds1Uq",
        "outputId": "d58e2596-e2f8-48d3-c044-13fe4cb41504"
      },
      "source": [
        "dframe4"
      ],
      "execution_count": null,
      "outputs": [
        {
          "output_type": "execute_result",
          "data": {
            "text/html": [
              "<div>\n",
              "<style scoped>\n",
              "    .dataframe tbody tr th:only-of-type {\n",
              "        vertical-align: middle;\n",
              "    }\n",
              "\n",
              "    .dataframe tbody tr th {\n",
              "        vertical-align: top;\n",
              "    }\n",
              "\n",
              "    .dataframe thead th {\n",
              "        text-align: right;\n",
              "    }\n",
              "</style>\n",
              "<table border=\"1\" class=\"dataframe\">\n",
              "  <thead>\n",
              "    <tr style=\"text-align: right;\">\n",
              "      <th></th>\n",
              "      <th>key</th>\n",
              "      <th>data_Set_4</th>\n",
              "    </tr>\n",
              "  </thead>\n",
              "  <tbody>\n",
              "    <tr>\n",
              "      <th>0</th>\n",
              "      <td>y</td>\n",
              "      <td>0</td>\n",
              "    </tr>\n",
              "    <tr>\n",
              "      <th>1</th>\n",
              "      <td>y</td>\n",
              "      <td>1</td>\n",
              "    </tr>\n",
              "    <tr>\n",
              "      <th>2</th>\n",
              "      <td>x</td>\n",
              "      <td>2</td>\n",
              "    </tr>\n",
              "    <tr>\n",
              "      <th>3</th>\n",
              "      <td>x</td>\n",
              "      <td>3</td>\n",
              "    </tr>\n",
              "    <tr>\n",
              "      <th>4</th>\n",
              "      <td>z</td>\n",
              "      <td>4</td>\n",
              "    </tr>\n",
              "  </tbody>\n",
              "</table>\n",
              "</div>"
            ],
            "text/plain": [
              "  key  data_Set_4\n",
              "0   y           0\n",
              "1   y           1\n",
              "2   x           2\n",
              "3   x           3\n",
              "4   z           4"
            ]
          },
          "metadata": {
            "tags": []
          },
          "execution_count": 35
        }
      ]
    },
    {
      "cell_type": "code",
      "metadata": {
        "colab": {
          "base_uri": "https://localhost:8080/",
          "height": 343
        },
        "id": "Qnsjnd84s1XX",
        "outputId": "92fee6f9-c3aa-49a5-a4e0-e3a3f9a08d17"
      },
      "source": [
        "pd.merge(dframe3,dframe4)"
      ],
      "execution_count": null,
      "outputs": [
        {
          "output_type": "execute_result",
          "data": {
            "text/html": [
              "<div>\n",
              "<style scoped>\n",
              "    .dataframe tbody tr th:only-of-type {\n",
              "        vertical-align: middle;\n",
              "    }\n",
              "\n",
              "    .dataframe tbody tr th {\n",
              "        vertical-align: top;\n",
              "    }\n",
              "\n",
              "    .dataframe thead th {\n",
              "        text-align: right;\n",
              "    }\n",
              "</style>\n",
              "<table border=\"1\" class=\"dataframe\">\n",
              "  <thead>\n",
              "    <tr style=\"text-align: right;\">\n",
              "      <th></th>\n",
              "      <th>key</th>\n",
              "      <th>data_Set_3</th>\n",
              "      <th>data_Set_4</th>\n",
              "    </tr>\n",
              "  </thead>\n",
              "  <tbody>\n",
              "    <tr>\n",
              "      <th>0</th>\n",
              "      <td>x</td>\n",
              "      <td>0</td>\n",
              "      <td>2</td>\n",
              "    </tr>\n",
              "    <tr>\n",
              "      <th>1</th>\n",
              "      <td>x</td>\n",
              "      <td>0</td>\n",
              "      <td>3</td>\n",
              "    </tr>\n",
              "    <tr>\n",
              "      <th>2</th>\n",
              "      <td>x</td>\n",
              "      <td>1</td>\n",
              "      <td>2</td>\n",
              "    </tr>\n",
              "    <tr>\n",
              "      <th>3</th>\n",
              "      <td>x</td>\n",
              "      <td>1</td>\n",
              "      <td>3</td>\n",
              "    </tr>\n",
              "    <tr>\n",
              "      <th>4</th>\n",
              "      <td>y</td>\n",
              "      <td>2</td>\n",
              "      <td>0</td>\n",
              "    </tr>\n",
              "    <tr>\n",
              "      <th>5</th>\n",
              "      <td>y</td>\n",
              "      <td>2</td>\n",
              "      <td>1</td>\n",
              "    </tr>\n",
              "    <tr>\n",
              "      <th>6</th>\n",
              "      <td>y</td>\n",
              "      <td>3</td>\n",
              "      <td>0</td>\n",
              "    </tr>\n",
              "    <tr>\n",
              "      <th>7</th>\n",
              "      <td>y</td>\n",
              "      <td>3</td>\n",
              "      <td>1</td>\n",
              "    </tr>\n",
              "    <tr>\n",
              "      <th>8</th>\n",
              "      <td>z</td>\n",
              "      <td>4</td>\n",
              "      <td>4</td>\n",
              "    </tr>\n",
              "    <tr>\n",
              "      <th>9</th>\n",
              "      <td>z</td>\n",
              "      <td>5</td>\n",
              "      <td>4</td>\n",
              "    </tr>\n",
              "  </tbody>\n",
              "</table>\n",
              "</div>"
            ],
            "text/plain": [
              "  key  data_Set_3  data_Set_4\n",
              "0   x           0           2\n",
              "1   x           0           3\n",
              "2   x           1           2\n",
              "3   x           1           3\n",
              "4   y           2           0\n",
              "5   y           2           1\n",
              "6   y           3           0\n",
              "7   y           3           1\n",
              "8   z           4           4\n",
              "9   z           5           4"
            ]
          },
          "metadata": {
            "tags": []
          },
          "execution_count": 36
        }
      ]
    },
    {
      "cell_type": "code",
      "metadata": {
        "id": "fYBkZlcpts1X"
      },
      "source": [
        "dframe5 = DataFrame({'key1':['ab','cd','ef'],'key2':['gh','ij','jk'], 'data_Set_5':[10,20,30]})"
      ],
      "execution_count": null,
      "outputs": []
    },
    {
      "cell_type": "code",
      "metadata": {
        "colab": {
          "base_uri": "https://localhost:8080/",
          "height": 136
        },
        "id": "NEWMlktnuP4e",
        "outputId": "6a521b9b-002f-43c9-d479-714359337857"
      },
      "source": [
        "dframe5"
      ],
      "execution_count": null,
      "outputs": [
        {
          "output_type": "execute_result",
          "data": {
            "text/html": [
              "<div>\n",
              "<style scoped>\n",
              "    .dataframe tbody tr th:only-of-type {\n",
              "        vertical-align: middle;\n",
              "    }\n",
              "\n",
              "    .dataframe tbody tr th {\n",
              "        vertical-align: top;\n",
              "    }\n",
              "\n",
              "    .dataframe thead th {\n",
              "        text-align: right;\n",
              "    }\n",
              "</style>\n",
              "<table border=\"1\" class=\"dataframe\">\n",
              "  <thead>\n",
              "    <tr style=\"text-align: right;\">\n",
              "      <th></th>\n",
              "      <th>key1</th>\n",
              "      <th>key2</th>\n",
              "      <th>data_Set_5</th>\n",
              "    </tr>\n",
              "  </thead>\n",
              "  <tbody>\n",
              "    <tr>\n",
              "      <th>0</th>\n",
              "      <td>ab</td>\n",
              "      <td>gh</td>\n",
              "      <td>10</td>\n",
              "    </tr>\n",
              "    <tr>\n",
              "      <th>1</th>\n",
              "      <td>cd</td>\n",
              "      <td>ij</td>\n",
              "      <td>20</td>\n",
              "    </tr>\n",
              "    <tr>\n",
              "      <th>2</th>\n",
              "      <td>ef</td>\n",
              "      <td>jk</td>\n",
              "      <td>30</td>\n",
              "    </tr>\n",
              "  </tbody>\n",
              "</table>\n",
              "</div>"
            ],
            "text/plain": [
              "  key1 key2  data_Set_5\n",
              "0   ab   gh          10\n",
              "1   cd   ij          20\n",
              "2   ef   jk          30"
            ]
          },
          "metadata": {
            "tags": []
          },
          "execution_count": 48
        }
      ]
    },
    {
      "cell_type": "code",
      "metadata": {
        "id": "VA62r7MlujyG"
      },
      "source": [
        "dframe6 = DataFrame({'key1':['ab','cd','ef','ab'],'key2':['gh','ij','jk','ij'], 'data_Set_6':[40,50,60,70]})"
      ],
      "execution_count": null,
      "outputs": []
    },
    {
      "cell_type": "code",
      "metadata": {
        "colab": {
          "base_uri": "https://localhost:8080/",
          "height": 166
        },
        "id": "BDM_NhRvu126",
        "outputId": "7f939032-554d-4bcd-8432-57f25bff03fa"
      },
      "source": [
        "dframe6"
      ],
      "execution_count": null,
      "outputs": [
        {
          "output_type": "execute_result",
          "data": {
            "text/html": [
              "<div>\n",
              "<style scoped>\n",
              "    .dataframe tbody tr th:only-of-type {\n",
              "        vertical-align: middle;\n",
              "    }\n",
              "\n",
              "    .dataframe tbody tr th {\n",
              "        vertical-align: top;\n",
              "    }\n",
              "\n",
              "    .dataframe thead th {\n",
              "        text-align: right;\n",
              "    }\n",
              "</style>\n",
              "<table border=\"1\" class=\"dataframe\">\n",
              "  <thead>\n",
              "    <tr style=\"text-align: right;\">\n",
              "      <th></th>\n",
              "      <th>key</th>\n",
              "      <th>data_Set_6</th>\n",
              "    </tr>\n",
              "  </thead>\n",
              "  <tbody>\n",
              "    <tr>\n",
              "      <th>0</th>\n",
              "      <td>gh</td>\n",
              "      <td>40</td>\n",
              "    </tr>\n",
              "    <tr>\n",
              "      <th>1</th>\n",
              "      <td>ij</td>\n",
              "      <td>50</td>\n",
              "    </tr>\n",
              "    <tr>\n",
              "      <th>2</th>\n",
              "      <td>jk</td>\n",
              "      <td>60</td>\n",
              "    </tr>\n",
              "    <tr>\n",
              "      <th>3</th>\n",
              "      <td>ij</td>\n",
              "      <td>70</td>\n",
              "    </tr>\n",
              "  </tbody>\n",
              "</table>\n",
              "</div>"
            ],
            "text/plain": [
              "  key  data_Set_6\n",
              "0  gh          40\n",
              "1  ij          50\n",
              "2  jk          60\n",
              "3  ij          70"
            ]
          },
          "metadata": {
            "tags": []
          },
          "execution_count": 46
        }
      ]
    },
    {
      "cell_type": "code",
      "metadata": {
        "colab": {
          "base_uri": "https://localhost:8080/",
          "height": 166
        },
        "id": "jK6BAJMou4eN",
        "outputId": "e3125c81-24a2-4459-9ec4-66f2e600c742"
      },
      "source": [
        "pd.merge(dframe5,dframe6, on=['key1','key2'], how='outer')"
      ],
      "execution_count": null,
      "outputs": [
        {
          "output_type": "execute_result",
          "data": {
            "text/html": [
              "<div>\n",
              "<style scoped>\n",
              "    .dataframe tbody tr th:only-of-type {\n",
              "        vertical-align: middle;\n",
              "    }\n",
              "\n",
              "    .dataframe tbody tr th {\n",
              "        vertical-align: top;\n",
              "    }\n",
              "\n",
              "    .dataframe thead th {\n",
              "        text-align: right;\n",
              "    }\n",
              "</style>\n",
              "<table border=\"1\" class=\"dataframe\">\n",
              "  <thead>\n",
              "    <tr style=\"text-align: right;\">\n",
              "      <th></th>\n",
              "      <th>key1</th>\n",
              "      <th>key2</th>\n",
              "      <th>data_Set_5</th>\n",
              "      <th>data_Set_6</th>\n",
              "    </tr>\n",
              "  </thead>\n",
              "  <tbody>\n",
              "    <tr>\n",
              "      <th>0</th>\n",
              "      <td>ab</td>\n",
              "      <td>gh</td>\n",
              "      <td>10.0</td>\n",
              "      <td>40</td>\n",
              "    </tr>\n",
              "    <tr>\n",
              "      <th>1</th>\n",
              "      <td>cd</td>\n",
              "      <td>ij</td>\n",
              "      <td>20.0</td>\n",
              "      <td>50</td>\n",
              "    </tr>\n",
              "    <tr>\n",
              "      <th>2</th>\n",
              "      <td>ef</td>\n",
              "      <td>jk</td>\n",
              "      <td>30.0</td>\n",
              "      <td>60</td>\n",
              "    </tr>\n",
              "    <tr>\n",
              "      <th>3</th>\n",
              "      <td>ab</td>\n",
              "      <td>ij</td>\n",
              "      <td>NaN</td>\n",
              "      <td>70</td>\n",
              "    </tr>\n",
              "  </tbody>\n",
              "</table>\n",
              "</div>"
            ],
            "text/plain": [
              "  key1 key2  data_Set_5  data_Set_6\n",
              "0   ab   gh        10.0          40\n",
              "1   cd   ij        20.0          50\n",
              "2   ef   jk        30.0          60\n",
              "3   ab   ij         NaN          70"
            ]
          },
          "metadata": {
            "tags": []
          },
          "execution_count": 52
        }
      ]
    },
    {
      "cell_type": "code",
      "metadata": {
        "colab": {
          "base_uri": "https://localhost:8080/",
          "height": 166
        },
        "id": "h8mBkcZOvL7-",
        "outputId": "e00dc9d8-b749-4438-ed06-c931e6ba3617"
      },
      "source": [
        "pd.merge(dframe5,dframe6, on='key1', suffixes=('_lefty','_righty'))"
      ],
      "execution_count": null,
      "outputs": [
        {
          "output_type": "execute_result",
          "data": {
            "text/html": [
              "<div>\n",
              "<style scoped>\n",
              "    .dataframe tbody tr th:only-of-type {\n",
              "        vertical-align: middle;\n",
              "    }\n",
              "\n",
              "    .dataframe tbody tr th {\n",
              "        vertical-align: top;\n",
              "    }\n",
              "\n",
              "    .dataframe thead th {\n",
              "        text-align: right;\n",
              "    }\n",
              "</style>\n",
              "<table border=\"1\" class=\"dataframe\">\n",
              "  <thead>\n",
              "    <tr style=\"text-align: right;\">\n",
              "      <th></th>\n",
              "      <th>key1</th>\n",
              "      <th>key2_lefty</th>\n",
              "      <th>data_Set_5</th>\n",
              "      <th>key2_righty</th>\n",
              "      <th>data_Set_6</th>\n",
              "    </tr>\n",
              "  </thead>\n",
              "  <tbody>\n",
              "    <tr>\n",
              "      <th>0</th>\n",
              "      <td>ab</td>\n",
              "      <td>gh</td>\n",
              "      <td>10</td>\n",
              "      <td>gh</td>\n",
              "      <td>40</td>\n",
              "    </tr>\n",
              "    <tr>\n",
              "      <th>1</th>\n",
              "      <td>ab</td>\n",
              "      <td>gh</td>\n",
              "      <td>10</td>\n",
              "      <td>ij</td>\n",
              "      <td>70</td>\n",
              "    </tr>\n",
              "    <tr>\n",
              "      <th>2</th>\n",
              "      <td>cd</td>\n",
              "      <td>ij</td>\n",
              "      <td>20</td>\n",
              "      <td>ij</td>\n",
              "      <td>50</td>\n",
              "    </tr>\n",
              "    <tr>\n",
              "      <th>3</th>\n",
              "      <td>ef</td>\n",
              "      <td>jk</td>\n",
              "      <td>30</td>\n",
              "      <td>jk</td>\n",
              "      <td>60</td>\n",
              "    </tr>\n",
              "  </tbody>\n",
              "</table>\n",
              "</div>"
            ],
            "text/plain": [
              "  key1 key2_lefty  data_Set_5 key2_righty  data_Set_6\n",
              "0   ab         gh          10          gh          40\n",
              "1   ab         gh          10          ij          70\n",
              "2   cd         ij          20          ij          50\n",
              "3   ef         jk          30          jk          60"
            ]
          },
          "metadata": {
            "tags": []
          },
          "execution_count": 55
        }
      ]
    },
    {
      "cell_type": "markdown",
      "metadata": {
        "id": "LIibqsKmvwSS"
      },
      "source": [
        "# Merge on Index"
      ]
    },
    {
      "cell_type": "code",
      "metadata": {
        "id": "q413exYAvYm2"
      },
      "source": [
        "dframe_left = DataFrame({'key':['x','y','z','x','y'], 'data':range(5)})"
      ],
      "execution_count": null,
      "outputs": []
    },
    {
      "cell_type": "code",
      "metadata": {
        "colab": {
          "base_uri": "https://localhost:8080/",
          "height": 195
        },
        "id": "E0n81anBvvPe",
        "outputId": "0d035843-21ab-44b6-965c-7e01422bc89d"
      },
      "source": [
        "dframe_left"
      ],
      "execution_count": null,
      "outputs": [
        {
          "output_type": "execute_result",
          "data": {
            "text/html": [
              "<div>\n",
              "<style scoped>\n",
              "    .dataframe tbody tr th:only-of-type {\n",
              "        vertical-align: middle;\n",
              "    }\n",
              "\n",
              "    .dataframe tbody tr th {\n",
              "        vertical-align: top;\n",
              "    }\n",
              "\n",
              "    .dataframe thead th {\n",
              "        text-align: right;\n",
              "    }\n",
              "</style>\n",
              "<table border=\"1\" class=\"dataframe\">\n",
              "  <thead>\n",
              "    <tr style=\"text-align: right;\">\n",
              "      <th></th>\n",
              "      <th>key</th>\n",
              "      <th>data</th>\n",
              "    </tr>\n",
              "  </thead>\n",
              "  <tbody>\n",
              "    <tr>\n",
              "      <th>0</th>\n",
              "      <td>x</td>\n",
              "      <td>0</td>\n",
              "    </tr>\n",
              "    <tr>\n",
              "      <th>1</th>\n",
              "      <td>y</td>\n",
              "      <td>1</td>\n",
              "    </tr>\n",
              "    <tr>\n",
              "      <th>2</th>\n",
              "      <td>z</td>\n",
              "      <td>2</td>\n",
              "    </tr>\n",
              "    <tr>\n",
              "      <th>3</th>\n",
              "      <td>x</td>\n",
              "      <td>3</td>\n",
              "    </tr>\n",
              "    <tr>\n",
              "      <th>4</th>\n",
              "      <td>y</td>\n",
              "      <td>4</td>\n",
              "    </tr>\n",
              "  </tbody>\n",
              "</table>\n",
              "</div>"
            ],
            "text/plain": [
              "  key  data\n",
              "0   x     0\n",
              "1   y     1\n",
              "2   z     2\n",
              "3   x     3\n",
              "4   y     4"
            ]
          },
          "metadata": {
            "tags": []
          },
          "execution_count": 57
        }
      ]
    },
    {
      "cell_type": "code",
      "metadata": {
        "id": "VV2tZrXCwUs-"
      },
      "source": [
        "dframe_right = DataFrame({'group_data':[10,20]}, index=['x','y'])"
      ],
      "execution_count": null,
      "outputs": []
    },
    {
      "cell_type": "code",
      "metadata": {
        "colab": {
          "base_uri": "https://localhost:8080/",
          "height": 106
        },
        "id": "61gbc7BWwi3H",
        "outputId": "b2417ff5-c69d-411c-ce13-a4f2b33409f8"
      },
      "source": [
        "dframe_right"
      ],
      "execution_count": null,
      "outputs": [
        {
          "output_type": "execute_result",
          "data": {
            "text/html": [
              "<div>\n",
              "<style scoped>\n",
              "    .dataframe tbody tr th:only-of-type {\n",
              "        vertical-align: middle;\n",
              "    }\n",
              "\n",
              "    .dataframe tbody tr th {\n",
              "        vertical-align: top;\n",
              "    }\n",
              "\n",
              "    .dataframe thead th {\n",
              "        text-align: right;\n",
              "    }\n",
              "</style>\n",
              "<table border=\"1\" class=\"dataframe\">\n",
              "  <thead>\n",
              "    <tr style=\"text-align: right;\">\n",
              "      <th></th>\n",
              "      <th>group_data</th>\n",
              "    </tr>\n",
              "  </thead>\n",
              "  <tbody>\n",
              "    <tr>\n",
              "      <th>x</th>\n",
              "      <td>10</td>\n",
              "    </tr>\n",
              "    <tr>\n",
              "      <th>y</th>\n",
              "      <td>20</td>\n",
              "    </tr>\n",
              "  </tbody>\n",
              "</table>\n",
              "</div>"
            ],
            "text/plain": [
              "   group_data\n",
              "x          10\n",
              "y          20"
            ]
          },
          "metadata": {
            "tags": []
          },
          "execution_count": 61
        }
      ]
    },
    {
      "cell_type": "code",
      "metadata": {
        "colab": {
          "base_uri": "https://localhost:8080/",
          "height": 166
        },
        "id": "VxJOY2zSwtnQ",
        "outputId": "17b1e79f-30d9-4fe8-8e13-dc3d7750cda3"
      },
      "source": [
        "pd.merge(dframe_left, dframe_right, left_on='key', right_index=True)"
      ],
      "execution_count": null,
      "outputs": [
        {
          "output_type": "execute_result",
          "data": {
            "text/html": [
              "<div>\n",
              "<style scoped>\n",
              "    .dataframe tbody tr th:only-of-type {\n",
              "        vertical-align: middle;\n",
              "    }\n",
              "\n",
              "    .dataframe tbody tr th {\n",
              "        vertical-align: top;\n",
              "    }\n",
              "\n",
              "    .dataframe thead th {\n",
              "        text-align: right;\n",
              "    }\n",
              "</style>\n",
              "<table border=\"1\" class=\"dataframe\">\n",
              "  <thead>\n",
              "    <tr style=\"text-align: right;\">\n",
              "      <th></th>\n",
              "      <th>key</th>\n",
              "      <th>data</th>\n",
              "      <th>group_data</th>\n",
              "    </tr>\n",
              "  </thead>\n",
              "  <tbody>\n",
              "    <tr>\n",
              "      <th>0</th>\n",
              "      <td>x</td>\n",
              "      <td>0</td>\n",
              "      <td>10</td>\n",
              "    </tr>\n",
              "    <tr>\n",
              "      <th>3</th>\n",
              "      <td>x</td>\n",
              "      <td>3</td>\n",
              "      <td>10</td>\n",
              "    </tr>\n",
              "    <tr>\n",
              "      <th>1</th>\n",
              "      <td>y</td>\n",
              "      <td>1</td>\n",
              "      <td>20</td>\n",
              "    </tr>\n",
              "    <tr>\n",
              "      <th>4</th>\n",
              "      <td>y</td>\n",
              "      <td>4</td>\n",
              "      <td>20</td>\n",
              "    </tr>\n",
              "  </tbody>\n",
              "</table>\n",
              "</div>"
            ],
            "text/plain": [
              "  key  data  group_data\n",
              "0   x     0          10\n",
              "3   x     3          10\n",
              "1   y     1          20\n",
              "4   y     4          20"
            ]
          },
          "metadata": {
            "tags": []
          },
          "execution_count": 71
        }
      ]
    },
    {
      "cell_type": "code",
      "metadata": {
        "id": "JigQ-Ff-wtqg"
      },
      "source": [
        "dframe_lest_hr = DataFrame({'key1':['ab','ab,','ab','cd','cd'],'key2':[10,20,30,20,30], 'data_Set_5':range(5)})"
      ],
      "execution_count": null,
      "outputs": []
    },
    {
      "cell_type": "code",
      "metadata": {
        "colab": {
          "base_uri": "https://localhost:8080/",
          "height": 195
        },
        "id": "biHjwurHwttp",
        "outputId": "f0375ec9-eabb-4861-e0c0-a16e98754bf9"
      },
      "source": [
        "dframe_lest_hr"
      ],
      "execution_count": null,
      "outputs": [
        {
          "output_type": "execute_result",
          "data": {
            "text/html": [
              "<div>\n",
              "<style scoped>\n",
              "    .dataframe tbody tr th:only-of-type {\n",
              "        vertical-align: middle;\n",
              "    }\n",
              "\n",
              "    .dataframe tbody tr th {\n",
              "        vertical-align: top;\n",
              "    }\n",
              "\n",
              "    .dataframe thead th {\n",
              "        text-align: right;\n",
              "    }\n",
              "</style>\n",
              "<table border=\"1\" class=\"dataframe\">\n",
              "  <thead>\n",
              "    <tr style=\"text-align: right;\">\n",
              "      <th></th>\n",
              "      <th>key1</th>\n",
              "      <th>key2</th>\n",
              "      <th>data_Set_5</th>\n",
              "    </tr>\n",
              "  </thead>\n",
              "  <tbody>\n",
              "    <tr>\n",
              "      <th>0</th>\n",
              "      <td>ab</td>\n",
              "      <td>10</td>\n",
              "      <td>0</td>\n",
              "    </tr>\n",
              "    <tr>\n",
              "      <th>1</th>\n",
              "      <td>ab,</td>\n",
              "      <td>20</td>\n",
              "      <td>1</td>\n",
              "    </tr>\n",
              "    <tr>\n",
              "      <th>2</th>\n",
              "      <td>ab</td>\n",
              "      <td>30</td>\n",
              "      <td>2</td>\n",
              "    </tr>\n",
              "    <tr>\n",
              "      <th>3</th>\n",
              "      <td>cd</td>\n",
              "      <td>20</td>\n",
              "      <td>3</td>\n",
              "    </tr>\n",
              "    <tr>\n",
              "      <th>4</th>\n",
              "      <td>cd</td>\n",
              "      <td>30</td>\n",
              "      <td>4</td>\n",
              "    </tr>\n",
              "  </tbody>\n",
              "</table>\n",
              "</div>"
            ],
            "text/plain": [
              "  key1  key2  data_Set_5\n",
              "0   ab    10           0\n",
              "1  ab,    20           1\n",
              "2   ab    30           2\n",
              "3   cd    20           3\n",
              "4   cd    30           4"
            ]
          },
          "metadata": {
            "tags": []
          },
          "execution_count": 73
        }
      ]
    },
    {
      "cell_type": "code",
      "metadata": {
        "id": "3vAcAOtzyX0X"
      },
      "source": [
        "dframe_right_hr = DataFrame(np.arange(10).reshape(5,2), index=[['cd','cd','ab','ab','cd'],[20,10,10,10,20]], columns=['col1','col2'])"
      ],
      "execution_count": null,
      "outputs": []
    },
    {
      "cell_type": "code",
      "metadata": {
        "colab": {
          "base_uri": "https://localhost:8080/",
          "height": 195
        },
        "id": "0yMKQ4yn1EHi",
        "outputId": "8e737a5d-4912-4fbe-894a-53e360e3c320"
      },
      "source": [
        "dframe_right_hr"
      ],
      "execution_count": null,
      "outputs": [
        {
          "output_type": "execute_result",
          "data": {
            "text/html": [
              "<div>\n",
              "<style scoped>\n",
              "    .dataframe tbody tr th:only-of-type {\n",
              "        vertical-align: middle;\n",
              "    }\n",
              "\n",
              "    .dataframe tbody tr th {\n",
              "        vertical-align: top;\n",
              "    }\n",
              "\n",
              "    .dataframe thead th {\n",
              "        text-align: right;\n",
              "    }\n",
              "</style>\n",
              "<table border=\"1\" class=\"dataframe\">\n",
              "  <thead>\n",
              "    <tr style=\"text-align: right;\">\n",
              "      <th></th>\n",
              "      <th></th>\n",
              "      <th>col1</th>\n",
              "      <th>col2</th>\n",
              "    </tr>\n",
              "  </thead>\n",
              "  <tbody>\n",
              "    <tr>\n",
              "      <th rowspan=\"2\" valign=\"top\">cd</th>\n",
              "      <th>20</th>\n",
              "      <td>0</td>\n",
              "      <td>1</td>\n",
              "    </tr>\n",
              "    <tr>\n",
              "      <th>10</th>\n",
              "      <td>2</td>\n",
              "      <td>3</td>\n",
              "    </tr>\n",
              "    <tr>\n",
              "      <th rowspan=\"2\" valign=\"top\">ab</th>\n",
              "      <th>10</th>\n",
              "      <td>4</td>\n",
              "      <td>5</td>\n",
              "    </tr>\n",
              "    <tr>\n",
              "      <th>10</th>\n",
              "      <td>6</td>\n",
              "      <td>7</td>\n",
              "    </tr>\n",
              "    <tr>\n",
              "      <th>cd</th>\n",
              "      <th>20</th>\n",
              "      <td>8</td>\n",
              "      <td>9</td>\n",
              "    </tr>\n",
              "  </tbody>\n",
              "</table>\n",
              "</div>"
            ],
            "text/plain": [
              "       col1  col2\n",
              "cd 20     0     1\n",
              "   10     2     3\n",
              "ab 10     4     5\n",
              "   10     6     7\n",
              "cd 20     8     9"
            ]
          },
          "metadata": {
            "tags": []
          },
          "execution_count": 77
        }
      ]
    },
    {
      "cell_type": "code",
      "metadata": {
        "colab": {
          "base_uri": "https://localhost:8080/",
          "height": 166
        },
        "id": "FI08HaBh1EKb",
        "outputId": "93f189f1-73ab-4245-8043-f234ef8b4f4d"
      },
      "source": [
        "pd.merge(dframe_lest_hr,dframe_right_hr, left_on=['key1','key2'], right_index=True)"
      ],
      "execution_count": null,
      "outputs": [
        {
          "output_type": "execute_result",
          "data": {
            "text/html": [
              "<div>\n",
              "<style scoped>\n",
              "    .dataframe tbody tr th:only-of-type {\n",
              "        vertical-align: middle;\n",
              "    }\n",
              "\n",
              "    .dataframe tbody tr th {\n",
              "        vertical-align: top;\n",
              "    }\n",
              "\n",
              "    .dataframe thead th {\n",
              "        text-align: right;\n",
              "    }\n",
              "</style>\n",
              "<table border=\"1\" class=\"dataframe\">\n",
              "  <thead>\n",
              "    <tr style=\"text-align: right;\">\n",
              "      <th></th>\n",
              "      <th>key1</th>\n",
              "      <th>key2</th>\n",
              "      <th>data_Set_5</th>\n",
              "      <th>col1</th>\n",
              "      <th>col2</th>\n",
              "    </tr>\n",
              "  </thead>\n",
              "  <tbody>\n",
              "    <tr>\n",
              "      <th>0</th>\n",
              "      <td>ab</td>\n",
              "      <td>10</td>\n",
              "      <td>0</td>\n",
              "      <td>4</td>\n",
              "      <td>5</td>\n",
              "    </tr>\n",
              "    <tr>\n",
              "      <th>0</th>\n",
              "      <td>ab</td>\n",
              "      <td>10</td>\n",
              "      <td>0</td>\n",
              "      <td>6</td>\n",
              "      <td>7</td>\n",
              "    </tr>\n",
              "    <tr>\n",
              "      <th>3</th>\n",
              "      <td>cd</td>\n",
              "      <td>20</td>\n",
              "      <td>3</td>\n",
              "      <td>0</td>\n",
              "      <td>1</td>\n",
              "    </tr>\n",
              "    <tr>\n",
              "      <th>3</th>\n",
              "      <td>cd</td>\n",
              "      <td>20</td>\n",
              "      <td>3</td>\n",
              "      <td>8</td>\n",
              "      <td>9</td>\n",
              "    </tr>\n",
              "  </tbody>\n",
              "</table>\n",
              "</div>"
            ],
            "text/plain": [
              "  key1  key2  data_Set_5  col1  col2\n",
              "0   ab    10           0     4     5\n",
              "0   ab    10           0     6     7\n",
              "3   cd    20           3     0     1\n",
              "3   cd    20           3     8     9"
            ]
          },
          "metadata": {
            "tags": []
          },
          "execution_count": 78
        }
      ]
    },
    {
      "cell_type": "markdown",
      "metadata": {
        "id": "vg4MA4cx3CwS"
      },
      "source": [
        "# Concatenate"
      ]
    },
    {
      "cell_type": "code",
      "metadata": {
        "id": "RnqEIxtv2SWw"
      },
      "source": [
        "arr1 = np.arange(9).reshape(3,3)"
      ],
      "execution_count": null,
      "outputs": []
    },
    {
      "cell_type": "code",
      "metadata": {
        "colab": {
          "base_uri": "https://localhost:8080/"
        },
        "id": "IcV4_05q3Qrp",
        "outputId": "0c66b897-b843-421c-d366-b0e3d4e6d476"
      },
      "source": [
        "arr1"
      ],
      "execution_count": null,
      "outputs": [
        {
          "output_type": "execute_result",
          "data": {
            "text/plain": [
              "array([[0, 1, 2],\n",
              "       [3, 4, 5],\n",
              "       [6, 7, 8]])"
            ]
          },
          "metadata": {
            "tags": []
          },
          "execution_count": 86
        }
      ]
    },
    {
      "cell_type": "code",
      "metadata": {
        "colab": {
          "base_uri": "https://localhost:8080/"
        },
        "id": "fsK8rAWn3SGO",
        "outputId": "b3fbca61-8ad9-4f89-a7ff-4e2052a36eb4"
      },
      "source": [
        "np.concatenate([arr1,arr1],axis=1)"
      ],
      "execution_count": null,
      "outputs": [
        {
          "output_type": "execute_result",
          "data": {
            "text/plain": [
              "array([[0, 1, 2, 0, 1, 2],\n",
              "       [3, 4, 5, 3, 4, 5],\n",
              "       [6, 7, 8, 6, 7, 8]])"
            ]
          },
          "metadata": {
            "tags": []
          },
          "execution_count": 87
        }
      ]
    },
    {
      "cell_type": "code",
      "metadata": {
        "colab": {
          "base_uri": "https://localhost:8080/"
        },
        "id": "hWWczF9e3SjK",
        "outputId": "c8e87b8c-0490-4628-8df7-61e83fe304db"
      },
      "source": [
        "np.concatenate([arr1,arr1],axis=0)"
      ],
      "execution_count": null,
      "outputs": [
        {
          "output_type": "execute_result",
          "data": {
            "text/plain": [
              "array([[0, 1, 2],\n",
              "       [3, 4, 5],\n",
              "       [6, 7, 8],\n",
              "       [0, 1, 2],\n",
              "       [3, 4, 5],\n",
              "       [6, 7, 8]])"
            ]
          },
          "metadata": {
            "tags": []
          },
          "execution_count": 88
        }
      ]
    },
    {
      "cell_type": "code",
      "metadata": {
        "id": "eWtG1wlM3Sma"
      },
      "source": [
        "ser1 = Series([0,1,2],index=['x','y','z'])"
      ],
      "execution_count": null,
      "outputs": []
    },
    {
      "cell_type": "code",
      "metadata": {
        "colab": {
          "base_uri": "https://localhost:8080/"
        },
        "id": "a_bZqSlS3nr0",
        "outputId": "8695cc4b-a3ae-48a1-e5ce-039e1a0f71ed"
      },
      "source": [
        "ser1"
      ],
      "execution_count": null,
      "outputs": [
        {
          "output_type": "execute_result",
          "data": {
            "text/plain": [
              "x    0\n",
              "y    1\n",
              "z    2\n",
              "dtype: int64"
            ]
          },
          "metadata": {
            "tags": []
          },
          "execution_count": 96
        }
      ]
    },
    {
      "cell_type": "code",
      "metadata": {
        "id": "04v7iDJw3pQB"
      },
      "source": [
        "ser2 = Series([3,4],index=['y','z'])"
      ],
      "execution_count": null,
      "outputs": []
    },
    {
      "cell_type": "code",
      "metadata": {
        "colab": {
          "base_uri": "https://localhost:8080/"
        },
        "id": "yBUjF4hI3pSL",
        "outputId": "9a7c0dac-232a-4d5e-bb9f-780509705a55"
      },
      "source": [
        "pd.concat([ser1,ser2])"
      ],
      "execution_count": null,
      "outputs": [
        {
          "output_type": "execute_result",
          "data": {
            "text/plain": [
              "x    0\n",
              "y    1\n",
              "z    2\n",
              "y    3\n",
              "z    4\n",
              "dtype: int64"
            ]
          },
          "metadata": {
            "tags": []
          },
          "execution_count": 98
        }
      ]
    },
    {
      "cell_type": "code",
      "metadata": {
        "colab": {
          "base_uri": "https://localhost:8080/",
          "height": 136
        },
        "id": "-Iniq8QF3-vW",
        "outputId": "71954756-c9e6-4955-bc6c-7a2a35bb6b0d"
      },
      "source": [
        "pd.concat([ser1,ser2], axis=1)"
      ],
      "execution_count": null,
      "outputs": [
        {
          "output_type": "execute_result",
          "data": {
            "text/html": [
              "<div>\n",
              "<style scoped>\n",
              "    .dataframe tbody tr th:only-of-type {\n",
              "        vertical-align: middle;\n",
              "    }\n",
              "\n",
              "    .dataframe tbody tr th {\n",
              "        vertical-align: top;\n",
              "    }\n",
              "\n",
              "    .dataframe thead th {\n",
              "        text-align: right;\n",
              "    }\n",
              "</style>\n",
              "<table border=\"1\" class=\"dataframe\">\n",
              "  <thead>\n",
              "    <tr style=\"text-align: right;\">\n",
              "      <th></th>\n",
              "      <th>0</th>\n",
              "      <th>1</th>\n",
              "    </tr>\n",
              "  </thead>\n",
              "  <tbody>\n",
              "    <tr>\n",
              "      <th>x</th>\n",
              "      <td>0</td>\n",
              "      <td>NaN</td>\n",
              "    </tr>\n",
              "    <tr>\n",
              "      <th>y</th>\n",
              "      <td>1</td>\n",
              "      <td>3.0</td>\n",
              "    </tr>\n",
              "    <tr>\n",
              "      <th>z</th>\n",
              "      <td>2</td>\n",
              "      <td>4.0</td>\n",
              "    </tr>\n",
              "  </tbody>\n",
              "</table>\n",
              "</div>"
            ],
            "text/plain": [
              "   0    1\n",
              "x  0  NaN\n",
              "y  1  3.0\n",
              "z  2  4.0"
            ]
          },
          "metadata": {
            "tags": []
          },
          "execution_count": 99
        }
      ]
    },
    {
      "cell_type": "code",
      "metadata": {
        "colab": {
          "base_uri": "https://localhost:8080/"
        },
        "id": "lohc7bRK4IMu",
        "outputId": "6514ffca-38f8-4ad9-aa6d-733c0b466285"
      },
      "source": [
        "pd.concat([ser1,ser2], keys=['cat1','cat2'])"
      ],
      "execution_count": null,
      "outputs": [
        {
          "output_type": "execute_result",
          "data": {
            "text/plain": [
              "cat1  x    0\n",
              "      y    1\n",
              "      z    2\n",
              "cat2  y    3\n",
              "      z    4\n",
              "dtype: int64"
            ]
          },
          "metadata": {
            "tags": []
          },
          "execution_count": 101
        }
      ]
    },
    {
      "cell_type": "code",
      "metadata": {
        "id": "lxm-935J4KPs"
      },
      "source": [
        "dframe1 = DataFrame(np.random.randn(3,3), columns=['x','y','z'])"
      ],
      "execution_count": null,
      "outputs": []
    },
    {
      "cell_type": "code",
      "metadata": {
        "colab": {
          "base_uri": "https://localhost:8080/",
          "height": 166
        },
        "id": "bEQ3h6OL4tMP",
        "outputId": "79ab03df-7b36-45a8-fcb8-d240df565b69"
      },
      "source": [
        "dframe1"
      ],
      "execution_count": null,
      "outputs": [
        {
          "output_type": "execute_result",
          "data": {
            "text/html": [
              "<div>\n",
              "<style scoped>\n",
              "    .dataframe tbody tr th:only-of-type {\n",
              "        vertical-align: middle;\n",
              "    }\n",
              "\n",
              "    .dataframe tbody tr th {\n",
              "        vertical-align: top;\n",
              "    }\n",
              "\n",
              "    .dataframe thead th {\n",
              "        text-align: right;\n",
              "    }\n",
              "</style>\n",
              "<table border=\"1\" class=\"dataframe\">\n",
              "  <thead>\n",
              "    <tr style=\"text-align: right;\">\n",
              "      <th></th>\n",
              "      <th>x</th>\n",
              "      <th>y</th>\n",
              "      <th>z</th>\n",
              "    </tr>\n",
              "  </thead>\n",
              "  <tbody>\n",
              "    <tr>\n",
              "      <th>0</th>\n",
              "      <td>1.325799</td>\n",
              "      <td>-0.926243</td>\n",
              "      <td>-0.920444</td>\n",
              "    </tr>\n",
              "    <tr>\n",
              "      <th>1</th>\n",
              "      <td>-1.961822</td>\n",
              "      <td>-0.684057</td>\n",
              "      <td>-0.913454</td>\n",
              "    </tr>\n",
              "    <tr>\n",
              "      <th>2</th>\n",
              "      <td>-1.103186</td>\n",
              "      <td>0.906174</td>\n",
              "      <td>-0.283436</td>\n",
              "    </tr>\n",
              "    <tr>\n",
              "      <th>3</th>\n",
              "      <td>-0.109898</td>\n",
              "      <td>-1.198636</td>\n",
              "      <td>-0.686956</td>\n",
              "    </tr>\n",
              "  </tbody>\n",
              "</table>\n",
              "</div>"
            ],
            "text/plain": [
              "          x         y         z\n",
              "0  1.325799 -0.926243 -0.920444\n",
              "1 -1.961822 -0.684057 -0.913454\n",
              "2 -1.103186  0.906174 -0.283436\n",
              "3 -0.109898 -1.198636 -0.686956"
            ]
          },
          "metadata": {
            "tags": []
          },
          "execution_count": 104
        }
      ]
    },
    {
      "cell_type": "code",
      "metadata": {
        "id": "9o1FxSVw4KUm"
      },
      "source": [
        "dframe2 = DataFrame(np.random.randn(3,3), columns=['a','b','z'])"
      ],
      "execution_count": null,
      "outputs": []
    },
    {
      "cell_type": "code",
      "metadata": {
        "colab": {
          "base_uri": "https://localhost:8080/",
          "height": 136
        },
        "id": "CqH_6OuC4KYI",
        "outputId": "7ec85164-c062-4b9c-b3ae-907ac751ab90"
      },
      "source": [
        "dframe2"
      ],
      "execution_count": null,
      "outputs": [
        {
          "output_type": "execute_result",
          "data": {
            "text/html": [
              "<div>\n",
              "<style scoped>\n",
              "    .dataframe tbody tr th:only-of-type {\n",
              "        vertical-align: middle;\n",
              "    }\n",
              "\n",
              "    .dataframe tbody tr th {\n",
              "        vertical-align: top;\n",
              "    }\n",
              "\n",
              "    .dataframe thead th {\n",
              "        text-align: right;\n",
              "    }\n",
              "</style>\n",
              "<table border=\"1\" class=\"dataframe\">\n",
              "  <thead>\n",
              "    <tr style=\"text-align: right;\">\n",
              "      <th></th>\n",
              "      <th>a</th>\n",
              "      <th>b</th>\n",
              "      <th>z</th>\n",
              "    </tr>\n",
              "  </thead>\n",
              "  <tbody>\n",
              "    <tr>\n",
              "      <th>0</th>\n",
              "      <td>0.007455</td>\n",
              "      <td>1.073840</td>\n",
              "      <td>-1.022249</td>\n",
              "    </tr>\n",
              "    <tr>\n",
              "      <th>1</th>\n",
              "      <td>-0.350831</td>\n",
              "      <td>-1.375166</td>\n",
              "      <td>-0.265834</td>\n",
              "    </tr>\n",
              "    <tr>\n",
              "      <th>2</th>\n",
              "      <td>0.016211</td>\n",
              "      <td>0.448294</td>\n",
              "      <td>-1.008803</td>\n",
              "    </tr>\n",
              "  </tbody>\n",
              "</table>\n",
              "</div>"
            ],
            "text/plain": [
              "          a         b         z\n",
              "0  0.007455  1.073840 -1.022249\n",
              "1 -0.350831 -1.375166 -0.265834\n",
              "2  0.016211  0.448294 -1.008803"
            ]
          },
          "metadata": {
            "tags": []
          },
          "execution_count": 105
        }
      ]
    },
    {
      "cell_type": "code",
      "metadata": {
        "colab": {
          "base_uri": "https://localhost:8080/",
          "height": 254
        },
        "id": "mXf3kIld4uxd",
        "outputId": "1fab3fab-90db-4567-91c1-b439e893e8e7"
      },
      "source": [
        "pd.concat([dframe1,dframe2])"
      ],
      "execution_count": null,
      "outputs": [
        {
          "output_type": "execute_result",
          "data": {
            "text/html": [
              "<div>\n",
              "<style scoped>\n",
              "    .dataframe tbody tr th:only-of-type {\n",
              "        vertical-align: middle;\n",
              "    }\n",
              "\n",
              "    .dataframe tbody tr th {\n",
              "        vertical-align: top;\n",
              "    }\n",
              "\n",
              "    .dataframe thead th {\n",
              "        text-align: right;\n",
              "    }\n",
              "</style>\n",
              "<table border=\"1\" class=\"dataframe\">\n",
              "  <thead>\n",
              "    <tr style=\"text-align: right;\">\n",
              "      <th></th>\n",
              "      <th>x</th>\n",
              "      <th>y</th>\n",
              "      <th>z</th>\n",
              "      <th>a</th>\n",
              "      <th>b</th>\n",
              "    </tr>\n",
              "  </thead>\n",
              "  <tbody>\n",
              "    <tr>\n",
              "      <th>0</th>\n",
              "      <td>1.325799</td>\n",
              "      <td>-0.926243</td>\n",
              "      <td>-0.920444</td>\n",
              "      <td>NaN</td>\n",
              "      <td>NaN</td>\n",
              "    </tr>\n",
              "    <tr>\n",
              "      <th>1</th>\n",
              "      <td>-1.961822</td>\n",
              "      <td>-0.684057</td>\n",
              "      <td>-0.913454</td>\n",
              "      <td>NaN</td>\n",
              "      <td>NaN</td>\n",
              "    </tr>\n",
              "    <tr>\n",
              "      <th>2</th>\n",
              "      <td>-1.103186</td>\n",
              "      <td>0.906174</td>\n",
              "      <td>-0.283436</td>\n",
              "      <td>NaN</td>\n",
              "      <td>NaN</td>\n",
              "    </tr>\n",
              "    <tr>\n",
              "      <th>3</th>\n",
              "      <td>-0.109898</td>\n",
              "      <td>-1.198636</td>\n",
              "      <td>-0.686956</td>\n",
              "      <td>NaN</td>\n",
              "      <td>NaN</td>\n",
              "    </tr>\n",
              "    <tr>\n",
              "      <th>0</th>\n",
              "      <td>NaN</td>\n",
              "      <td>NaN</td>\n",
              "      <td>-1.022249</td>\n",
              "      <td>0.007455</td>\n",
              "      <td>1.073840</td>\n",
              "    </tr>\n",
              "    <tr>\n",
              "      <th>1</th>\n",
              "      <td>NaN</td>\n",
              "      <td>NaN</td>\n",
              "      <td>-0.265834</td>\n",
              "      <td>-0.350831</td>\n",
              "      <td>-1.375166</td>\n",
              "    </tr>\n",
              "    <tr>\n",
              "      <th>2</th>\n",
              "      <td>NaN</td>\n",
              "      <td>NaN</td>\n",
              "      <td>-1.008803</td>\n",
              "      <td>0.016211</td>\n",
              "      <td>0.448294</td>\n",
              "    </tr>\n",
              "  </tbody>\n",
              "</table>\n",
              "</div>"
            ],
            "text/plain": [
              "          x         y         z         a         b\n",
              "0  1.325799 -0.926243 -0.920444       NaN       NaN\n",
              "1 -1.961822 -0.684057 -0.913454       NaN       NaN\n",
              "2 -1.103186  0.906174 -0.283436       NaN       NaN\n",
              "3 -0.109898 -1.198636 -0.686956       NaN       NaN\n",
              "0       NaN       NaN -1.022249  0.007455  1.073840\n",
              "1       NaN       NaN -0.265834 -0.350831 -1.375166\n",
              "2       NaN       NaN -1.008803  0.016211  0.448294"
            ]
          },
          "metadata": {
            "tags": []
          },
          "execution_count": 106
        }
      ]
    },
    {
      "cell_type": "code",
      "metadata": {
        "colab": {
          "base_uri": "https://localhost:8080/",
          "height": 254
        },
        "id": "ZZ5LYf9f4vNZ",
        "outputId": "5f3e6131-16ca-4833-eedb-1638f1fda0a3"
      },
      "source": [
        "pd.concat([dframe1,dframe2], ignore_index=True)"
      ],
      "execution_count": null,
      "outputs": [
        {
          "output_type": "execute_result",
          "data": {
            "text/html": [
              "<div>\n",
              "<style scoped>\n",
              "    .dataframe tbody tr th:only-of-type {\n",
              "        vertical-align: middle;\n",
              "    }\n",
              "\n",
              "    .dataframe tbody tr th {\n",
              "        vertical-align: top;\n",
              "    }\n",
              "\n",
              "    .dataframe thead th {\n",
              "        text-align: right;\n",
              "    }\n",
              "</style>\n",
              "<table border=\"1\" class=\"dataframe\">\n",
              "  <thead>\n",
              "    <tr style=\"text-align: right;\">\n",
              "      <th></th>\n",
              "      <th>x</th>\n",
              "      <th>y</th>\n",
              "      <th>z</th>\n",
              "      <th>a</th>\n",
              "      <th>b</th>\n",
              "    </tr>\n",
              "  </thead>\n",
              "  <tbody>\n",
              "    <tr>\n",
              "      <th>0</th>\n",
              "      <td>1.325799</td>\n",
              "      <td>-0.926243</td>\n",
              "      <td>-0.920444</td>\n",
              "      <td>NaN</td>\n",
              "      <td>NaN</td>\n",
              "    </tr>\n",
              "    <tr>\n",
              "      <th>1</th>\n",
              "      <td>-1.961822</td>\n",
              "      <td>-0.684057</td>\n",
              "      <td>-0.913454</td>\n",
              "      <td>NaN</td>\n",
              "      <td>NaN</td>\n",
              "    </tr>\n",
              "    <tr>\n",
              "      <th>2</th>\n",
              "      <td>-1.103186</td>\n",
              "      <td>0.906174</td>\n",
              "      <td>-0.283436</td>\n",
              "      <td>NaN</td>\n",
              "      <td>NaN</td>\n",
              "    </tr>\n",
              "    <tr>\n",
              "      <th>3</th>\n",
              "      <td>-0.109898</td>\n",
              "      <td>-1.198636</td>\n",
              "      <td>-0.686956</td>\n",
              "      <td>NaN</td>\n",
              "      <td>NaN</td>\n",
              "    </tr>\n",
              "    <tr>\n",
              "      <th>4</th>\n",
              "      <td>NaN</td>\n",
              "      <td>NaN</td>\n",
              "      <td>-1.022249</td>\n",
              "      <td>0.007455</td>\n",
              "      <td>1.073840</td>\n",
              "    </tr>\n",
              "    <tr>\n",
              "      <th>5</th>\n",
              "      <td>NaN</td>\n",
              "      <td>NaN</td>\n",
              "      <td>-0.265834</td>\n",
              "      <td>-0.350831</td>\n",
              "      <td>-1.375166</td>\n",
              "    </tr>\n",
              "    <tr>\n",
              "      <th>6</th>\n",
              "      <td>NaN</td>\n",
              "      <td>NaN</td>\n",
              "      <td>-1.008803</td>\n",
              "      <td>0.016211</td>\n",
              "      <td>0.448294</td>\n",
              "    </tr>\n",
              "  </tbody>\n",
              "</table>\n",
              "</div>"
            ],
            "text/plain": [
              "          x         y         z         a         b\n",
              "0  1.325799 -0.926243 -0.920444       NaN       NaN\n",
              "1 -1.961822 -0.684057 -0.913454       NaN       NaN\n",
              "2 -1.103186  0.906174 -0.283436       NaN       NaN\n",
              "3 -0.109898 -1.198636 -0.686956       NaN       NaN\n",
              "4       NaN       NaN -1.022249  0.007455  1.073840\n",
              "5       NaN       NaN -0.265834 -0.350831 -1.375166\n",
              "6       NaN       NaN -1.008803  0.016211  0.448294"
            ]
          },
          "metadata": {
            "tags": []
          },
          "execution_count": 107
        }
      ]
    },
    {
      "cell_type": "markdown",
      "metadata": {
        "id": "39gYeKi_5NOw"
      },
      "source": [
        "# Combine DataFrame"
      ]
    },
    {
      "cell_type": "code",
      "metadata": {
        "id": "bs2vsuWv4vQe"
      },
      "source": [
        "ser1 = Series([2,np.nan,4,np.nan,6,np.nan], index=['a','b','c','d','e','f'])"
      ],
      "execution_count": null,
      "outputs": []
    },
    {
      "cell_type": "code",
      "metadata": {
        "colab": {
          "base_uri": "https://localhost:8080/"
        },
        "id": "oVjExRwV5x0V",
        "outputId": "1a4a2dea-f631-4736-d9fa-8dbb45272434"
      },
      "source": [
        "ser1"
      ],
      "execution_count": null,
      "outputs": [
        {
          "output_type": "execute_result",
          "data": {
            "text/plain": [
              "a    2.0\n",
              "b    NaN\n",
              "c    4.0\n",
              "d    NaN\n",
              "e    6.0\n",
              "f    NaN\n",
              "dtype: float64"
            ]
          },
          "metadata": {
            "tags": []
          },
          "execution_count": 110
        }
      ]
    },
    {
      "cell_type": "code",
      "metadata": {
        "id": "GUBUCbcE51K2"
      },
      "source": [
        "ser2 = Series(np.arange(len(ser1)), dtype=np.float64, index=['a','b','c','d','e','f'])"
      ],
      "execution_count": null,
      "outputs": []
    },
    {
      "cell_type": "code",
      "metadata": {
        "colab": {
          "base_uri": "https://localhost:8080/"
        },
        "id": "ZREodf_K6RVO",
        "outputId": "7c74c4bf-a4e8-40ff-c882-fc9bacd71587"
      },
      "source": [
        "ser2"
      ],
      "execution_count": null,
      "outputs": [
        {
          "output_type": "execute_result",
          "data": {
            "text/plain": [
              "a    0.0\n",
              "b    1.0\n",
              "c    2.0\n",
              "d    3.0\n",
              "e    4.0\n",
              "f    5.0\n",
              "dtype: float64"
            ]
          },
          "metadata": {
            "tags": []
          },
          "execution_count": 114
        }
      ]
    },
    {
      "cell_type": "code",
      "metadata": {
        "colab": {
          "base_uri": "https://localhost:8080/"
        },
        "id": "VXoKcvuP6eLN",
        "outputId": "cf68977e-6ab6-440d-9327-5ffadf5a9457"
      },
      "source": [
        "Series(np.where(pd.isnull(ser1),ser2,ser1),index=ser1.index)"
      ],
      "execution_count": null,
      "outputs": [
        {
          "output_type": "execute_result",
          "data": {
            "text/plain": [
              "a    2.0\n",
              "b    1.0\n",
              "c    4.0\n",
              "d    3.0\n",
              "e    6.0\n",
              "f    5.0\n",
              "dtype: float64"
            ]
          },
          "metadata": {
            "tags": []
          },
          "execution_count": 116
        }
      ]
    },
    {
      "cell_type": "code",
      "metadata": {
        "colab": {
          "base_uri": "https://localhost:8080/"
        },
        "id": "0z37rFbq6ryN",
        "outputId": "ca9de02e-9d80-47bf-9d42-5291cf67eaa2"
      },
      "source": [
        "#shortcut method\n",
        "ser1.combine_first(ser2)"
      ],
      "execution_count": null,
      "outputs": [
        {
          "output_type": "execute_result",
          "data": {
            "text/plain": [
              "a    2.0\n",
              "b    1.0\n",
              "c    4.0\n",
              "d    3.0\n",
              "e    6.0\n",
              "f    5.0\n",
              "dtype: float64"
            ]
          },
          "metadata": {
            "tags": []
          },
          "execution_count": 117
        }
      ]
    },
    {
      "cell_type": "code",
      "metadata": {
        "id": "yJNDR0hQ7ky_"
      },
      "source": [
        "dframe_odds = DataFrame({'x':[1,np.nan,3,np.nan],'y':[4,5,np.nan,np.nan],'z':[np.nan,6,7,np.nan]})"
      ],
      "execution_count": null,
      "outputs": []
    },
    {
      "cell_type": "code",
      "metadata": {
        "colab": {
          "base_uri": "https://localhost:8080/",
          "height": 166
        },
        "id": "SDsMVVAa7k1u",
        "outputId": "974b928c-0c51-434e-8173-9726abd48f9c"
      },
      "source": [
        "dframe_odds"
      ],
      "execution_count": null,
      "outputs": [
        {
          "output_type": "execute_result",
          "data": {
            "text/html": [
              "<div>\n",
              "<style scoped>\n",
              "    .dataframe tbody tr th:only-of-type {\n",
              "        vertical-align: middle;\n",
              "    }\n",
              "\n",
              "    .dataframe tbody tr th {\n",
              "        vertical-align: top;\n",
              "    }\n",
              "\n",
              "    .dataframe thead th {\n",
              "        text-align: right;\n",
              "    }\n",
              "</style>\n",
              "<table border=\"1\" class=\"dataframe\">\n",
              "  <thead>\n",
              "    <tr style=\"text-align: right;\">\n",
              "      <th></th>\n",
              "      <th>x</th>\n",
              "      <th>y</th>\n",
              "      <th>z</th>\n",
              "    </tr>\n",
              "  </thead>\n",
              "  <tbody>\n",
              "    <tr>\n",
              "      <th>0</th>\n",
              "      <td>1.0</td>\n",
              "      <td>4.0</td>\n",
              "      <td>NaN</td>\n",
              "    </tr>\n",
              "    <tr>\n",
              "      <th>1</th>\n",
              "      <td>NaN</td>\n",
              "      <td>5.0</td>\n",
              "      <td>6.0</td>\n",
              "    </tr>\n",
              "    <tr>\n",
              "      <th>2</th>\n",
              "      <td>3.0</td>\n",
              "      <td>NaN</td>\n",
              "      <td>7.0</td>\n",
              "    </tr>\n",
              "    <tr>\n",
              "      <th>3</th>\n",
              "      <td>NaN</td>\n",
              "      <td>NaN</td>\n",
              "      <td>NaN</td>\n",
              "    </tr>\n",
              "  </tbody>\n",
              "</table>\n",
              "</div>"
            ],
            "text/plain": [
              "     x    y    z\n",
              "0  1.0  4.0  NaN\n",
              "1  NaN  5.0  6.0\n",
              "2  3.0  NaN  7.0\n",
              "3  NaN  NaN  NaN"
            ]
          },
          "metadata": {
            "tags": []
          },
          "execution_count": 123
        }
      ]
    },
    {
      "cell_type": "code",
      "metadata": {
        "id": "OGEO78ad7k4K"
      },
      "source": [
        "dframe_even = DataFrame({'x':[4,5,np.nan,6],'y':[np.nan,np.nan,7,8],'z':[99,np.nan,np.nan,10]})"
      ],
      "execution_count": null,
      "outputs": []
    },
    {
      "cell_type": "code",
      "metadata": {
        "colab": {
          "base_uri": "https://localhost:8080/",
          "height": 166
        },
        "id": "fuGTn1J-7c4N",
        "outputId": "5768a2e1-0edb-4dba-c25a-2564049e8599"
      },
      "source": [
        "dframe_even"
      ],
      "execution_count": null,
      "outputs": [
        {
          "output_type": "execute_result",
          "data": {
            "text/html": [
              "<div>\n",
              "<style scoped>\n",
              "    .dataframe tbody tr th:only-of-type {\n",
              "        vertical-align: middle;\n",
              "    }\n",
              "\n",
              "    .dataframe tbody tr th {\n",
              "        vertical-align: top;\n",
              "    }\n",
              "\n",
              "    .dataframe thead th {\n",
              "        text-align: right;\n",
              "    }\n",
              "</style>\n",
              "<table border=\"1\" class=\"dataframe\">\n",
              "  <thead>\n",
              "    <tr style=\"text-align: right;\">\n",
              "      <th></th>\n",
              "      <th>x</th>\n",
              "      <th>y</th>\n",
              "      <th>z</th>\n",
              "    </tr>\n",
              "  </thead>\n",
              "  <tbody>\n",
              "    <tr>\n",
              "      <th>0</th>\n",
              "      <td>4.0</td>\n",
              "      <td>NaN</td>\n",
              "      <td>99.0</td>\n",
              "    </tr>\n",
              "    <tr>\n",
              "      <th>1</th>\n",
              "      <td>5.0</td>\n",
              "      <td>NaN</td>\n",
              "      <td>NaN</td>\n",
              "    </tr>\n",
              "    <tr>\n",
              "      <th>2</th>\n",
              "      <td>NaN</td>\n",
              "      <td>7.0</td>\n",
              "      <td>NaN</td>\n",
              "    </tr>\n",
              "    <tr>\n",
              "      <th>3</th>\n",
              "      <td>6.0</td>\n",
              "      <td>8.0</td>\n",
              "      <td>10.0</td>\n",
              "    </tr>\n",
              "  </tbody>\n",
              "</table>\n",
              "</div>"
            ],
            "text/plain": [
              "     x    y     z\n",
              "0  4.0  NaN  99.0\n",
              "1  5.0  NaN   NaN\n",
              "2  NaN  7.0   NaN\n",
              "3  6.0  8.0  10.0"
            ]
          },
          "metadata": {
            "tags": []
          },
          "execution_count": 128
        }
      ]
    },
    {
      "cell_type": "code",
      "metadata": {
        "colab": {
          "base_uri": "https://localhost:8080/",
          "height": 166
        },
        "id": "0ak0nfLx8edo",
        "outputId": "0c08a8b1-e6fa-4be1-dbb5-583a967b538a"
      },
      "source": [
        "dframe_odds.combine_first(dframe_even)\n",
        "                          "
      ],
      "execution_count": null,
      "outputs": [
        {
          "output_type": "execute_result",
          "data": {
            "text/html": [
              "<div>\n",
              "<style scoped>\n",
              "    .dataframe tbody tr th:only-of-type {\n",
              "        vertical-align: middle;\n",
              "    }\n",
              "\n",
              "    .dataframe tbody tr th {\n",
              "        vertical-align: top;\n",
              "    }\n",
              "\n",
              "    .dataframe thead th {\n",
              "        text-align: right;\n",
              "    }\n",
              "</style>\n",
              "<table border=\"1\" class=\"dataframe\">\n",
              "  <thead>\n",
              "    <tr style=\"text-align: right;\">\n",
              "      <th></th>\n",
              "      <th>x</th>\n",
              "      <th>y</th>\n",
              "      <th>z</th>\n",
              "    </tr>\n",
              "  </thead>\n",
              "  <tbody>\n",
              "    <tr>\n",
              "      <th>0</th>\n",
              "      <td>1.0</td>\n",
              "      <td>4.0</td>\n",
              "      <td>99.0</td>\n",
              "    </tr>\n",
              "    <tr>\n",
              "      <th>1</th>\n",
              "      <td>5.0</td>\n",
              "      <td>5.0</td>\n",
              "      <td>6.0</td>\n",
              "    </tr>\n",
              "    <tr>\n",
              "      <th>2</th>\n",
              "      <td>3.0</td>\n",
              "      <td>7.0</td>\n",
              "      <td>7.0</td>\n",
              "    </tr>\n",
              "    <tr>\n",
              "      <th>3</th>\n",
              "      <td>6.0</td>\n",
              "      <td>8.0</td>\n",
              "      <td>10.0</td>\n",
              "    </tr>\n",
              "  </tbody>\n",
              "</table>\n",
              "</div>"
            ],
            "text/plain": [
              "     x    y     z\n",
              "0  1.0  4.0  99.0\n",
              "1  5.0  5.0   6.0\n",
              "2  3.0  7.0   7.0\n",
              "3  6.0  8.0  10.0"
            ]
          },
          "metadata": {
            "tags": []
          },
          "execution_count": 129
        }
      ]
    },
    {
      "cell_type": "markdown",
      "metadata": {
        "id": "LTlJ2LkdBWFI"
      },
      "source": [
        "#Reshaping"
      ]
    },
    {
      "cell_type": "code",
      "metadata": {
        "id": "ta8JBqLX8myl"
      },
      "source": [
        "dframe1 = DataFrame(np.arange(8).reshape(2,4),index=pd.Index(['la','sf'], name='city'),columns=pd.Index(['a','b','c','d'],name='letter'))"
      ],
      "execution_count": 22,
      "outputs": []
    },
    {
      "cell_type": "code",
      "metadata": {
        "colab": {
          "base_uri": "https://localhost:8080/",
          "height": 136
        },
        "id": "yHmE9QZyCMon",
        "outputId": "fbe2ca69-8a3c-463b-c937-186b59dd39d9"
      },
      "source": [
        "dframe1"
      ],
      "execution_count": 23,
      "outputs": [
        {
          "output_type": "execute_result",
          "data": {
            "text/html": [
              "<div>\n",
              "<style scoped>\n",
              "    .dataframe tbody tr th:only-of-type {\n",
              "        vertical-align: middle;\n",
              "    }\n",
              "\n",
              "    .dataframe tbody tr th {\n",
              "        vertical-align: top;\n",
              "    }\n",
              "\n",
              "    .dataframe thead th {\n",
              "        text-align: right;\n",
              "    }\n",
              "</style>\n",
              "<table border=\"1\" class=\"dataframe\">\n",
              "  <thead>\n",
              "    <tr style=\"text-align: right;\">\n",
              "      <th>letter</th>\n",
              "      <th>a</th>\n",
              "      <th>b</th>\n",
              "      <th>c</th>\n",
              "      <th>d</th>\n",
              "    </tr>\n",
              "    <tr>\n",
              "      <th>city</th>\n",
              "      <th></th>\n",
              "      <th></th>\n",
              "      <th></th>\n",
              "      <th></th>\n",
              "    </tr>\n",
              "  </thead>\n",
              "  <tbody>\n",
              "    <tr>\n",
              "      <th>la</th>\n",
              "      <td>0</td>\n",
              "      <td>1</td>\n",
              "      <td>2</td>\n",
              "      <td>3</td>\n",
              "    </tr>\n",
              "    <tr>\n",
              "      <th>sf</th>\n",
              "      <td>4</td>\n",
              "      <td>5</td>\n",
              "      <td>6</td>\n",
              "      <td>7</td>\n",
              "    </tr>\n",
              "  </tbody>\n",
              "</table>\n",
              "</div>"
            ],
            "text/plain": [
              "letter  a  b  c  d\n",
              "city              \n",
              "la      0  1  2  3\n",
              "sf      4  5  6  7"
            ]
          },
          "metadata": {
            "tags": []
          },
          "execution_count": 23
        }
      ]
    },
    {
      "cell_type": "code",
      "metadata": {
        "id": "z1YrfcC7CPX7"
      },
      "source": [
        "dframe_st = dframe1.stack()"
      ],
      "execution_count": 24,
      "outputs": []
    },
    {
      "cell_type": "code",
      "metadata": {
        "colab": {
          "base_uri": "https://localhost:8080/"
        },
        "id": "WwFu0_26CXyD",
        "outputId": "618f5719-c67d-4ddf-969b-d64752bcc808"
      },
      "source": [
        "dframe_st"
      ],
      "execution_count": 25,
      "outputs": [
        {
          "output_type": "execute_result",
          "data": {
            "text/plain": [
              "city  letter\n",
              "la    a         0\n",
              "      b         1\n",
              "      c         2\n",
              "      d         3\n",
              "sf    a         4\n",
              "      b         5\n",
              "      c         6\n",
              "      d         7\n",
              "dtype: int64"
            ]
          },
          "metadata": {
            "tags": []
          },
          "execution_count": 25
        }
      ]
    },
    {
      "cell_type": "code",
      "metadata": {
        "colab": {
          "base_uri": "https://localhost:8080/",
          "height": 136
        },
        "id": "e6-cu_80CbnF",
        "outputId": "da8c167b-6673-469d-f8bf-68c7d6d86a6a"
      },
      "source": [
        "dframe_st.unstack()"
      ],
      "execution_count": 26,
      "outputs": [
        {
          "output_type": "execute_result",
          "data": {
            "text/html": [
              "<div>\n",
              "<style scoped>\n",
              "    .dataframe tbody tr th:only-of-type {\n",
              "        vertical-align: middle;\n",
              "    }\n",
              "\n",
              "    .dataframe tbody tr th {\n",
              "        vertical-align: top;\n",
              "    }\n",
              "\n",
              "    .dataframe thead th {\n",
              "        text-align: right;\n",
              "    }\n",
              "</style>\n",
              "<table border=\"1\" class=\"dataframe\">\n",
              "  <thead>\n",
              "    <tr style=\"text-align: right;\">\n",
              "      <th>letter</th>\n",
              "      <th>a</th>\n",
              "      <th>b</th>\n",
              "      <th>c</th>\n",
              "      <th>d</th>\n",
              "    </tr>\n",
              "    <tr>\n",
              "      <th>city</th>\n",
              "      <th></th>\n",
              "      <th></th>\n",
              "      <th></th>\n",
              "      <th></th>\n",
              "    </tr>\n",
              "  </thead>\n",
              "  <tbody>\n",
              "    <tr>\n",
              "      <th>la</th>\n",
              "      <td>0</td>\n",
              "      <td>1</td>\n",
              "      <td>2</td>\n",
              "      <td>3</td>\n",
              "    </tr>\n",
              "    <tr>\n",
              "      <th>sf</th>\n",
              "      <td>4</td>\n",
              "      <td>5</td>\n",
              "      <td>6</td>\n",
              "      <td>7</td>\n",
              "    </tr>\n",
              "  </tbody>\n",
              "</table>\n",
              "</div>"
            ],
            "text/plain": [
              "letter  a  b  c  d\n",
              "city              \n",
              "la      0  1  2  3\n",
              "sf      4  5  6  7"
            ]
          },
          "metadata": {
            "tags": []
          },
          "execution_count": 26
        }
      ]
    },
    {
      "cell_type": "code",
      "metadata": {
        "colab": {
          "base_uri": "https://localhost:8080/",
          "height": 195
        },
        "id": "tljkeRA0Ci4z",
        "outputId": "b233d10a-e216-4341-f526-08f5983aa639"
      },
      "source": [
        "dframe_st.unstack('city')"
      ],
      "execution_count": 27,
      "outputs": [
        {
          "output_type": "execute_result",
          "data": {
            "text/html": [
              "<div>\n",
              "<style scoped>\n",
              "    .dataframe tbody tr th:only-of-type {\n",
              "        vertical-align: middle;\n",
              "    }\n",
              "\n",
              "    .dataframe tbody tr th {\n",
              "        vertical-align: top;\n",
              "    }\n",
              "\n",
              "    .dataframe thead th {\n",
              "        text-align: right;\n",
              "    }\n",
              "</style>\n",
              "<table border=\"1\" class=\"dataframe\">\n",
              "  <thead>\n",
              "    <tr style=\"text-align: right;\">\n",
              "      <th>city</th>\n",
              "      <th>la</th>\n",
              "      <th>sf</th>\n",
              "    </tr>\n",
              "    <tr>\n",
              "      <th>letter</th>\n",
              "      <th></th>\n",
              "      <th></th>\n",
              "    </tr>\n",
              "  </thead>\n",
              "  <tbody>\n",
              "    <tr>\n",
              "      <th>a</th>\n",
              "      <td>0</td>\n",
              "      <td>4</td>\n",
              "    </tr>\n",
              "    <tr>\n",
              "      <th>b</th>\n",
              "      <td>1</td>\n",
              "      <td>5</td>\n",
              "    </tr>\n",
              "    <tr>\n",
              "      <th>c</th>\n",
              "      <td>2</td>\n",
              "      <td>6</td>\n",
              "    </tr>\n",
              "    <tr>\n",
              "      <th>d</th>\n",
              "      <td>3</td>\n",
              "      <td>7</td>\n",
              "    </tr>\n",
              "  </tbody>\n",
              "</table>\n",
              "</div>"
            ],
            "text/plain": [
              "city    la  sf\n",
              "letter        \n",
              "a        0   4\n",
              "b        1   5\n",
              "c        2   6\n",
              "d        3   7"
            ]
          },
          "metadata": {
            "tags": []
          },
          "execution_count": 27
        }
      ]
    },
    {
      "cell_type": "code",
      "metadata": {
        "id": "VcU3lUlcCmaD"
      },
      "source": [
        "ser1 = Series([0,1,2],index=['q','x','y'])\n",
        "ser2 = Series([4,5,6],index=['x','y','z'])"
      ],
      "execution_count": 37,
      "outputs": []
    },
    {
      "cell_type": "code",
      "metadata": {
        "id": "V2cQhdA3DCNO"
      },
      "source": [
        "dframe = pd.concat([ser1,ser2],keys=['alpha','beta'])"
      ],
      "execution_count": 38,
      "outputs": []
    },
    {
      "cell_type": "code",
      "metadata": {
        "colab": {
          "base_uri": "https://localhost:8080/"
        },
        "id": "5hE7AUoiDQWz",
        "outputId": "353d06bd-06b7-471e-ed55-6badbcb156b8"
      },
      "source": [
        "dframe"
      ],
      "execution_count": 39,
      "outputs": [
        {
          "output_type": "execute_result",
          "data": {
            "text/plain": [
              "alpha  q    0\n",
              "       x    1\n",
              "       y    2\n",
              "beta   x    4\n",
              "       y    5\n",
              "       z    6\n",
              "dtype: int64"
            ]
          },
          "metadata": {
            "tags": []
          },
          "execution_count": 39
        }
      ]
    },
    {
      "cell_type": "code",
      "metadata": {
        "id": "FTMIEKcADRSL"
      },
      "source": [
        "dframe = dframe.unstack()"
      ],
      "execution_count": 40,
      "outputs": []
    },
    {
      "cell_type": "code",
      "metadata": {
        "colab": {
          "base_uri": "https://localhost:8080/",
          "height": 106
        },
        "id": "K2eAzy2QDlXK",
        "outputId": "5d7840e8-d0fc-459f-a1f3-47f26b9b2e4b"
      },
      "source": [
        "dframe"
      ],
      "execution_count": 41,
      "outputs": [
        {
          "output_type": "execute_result",
          "data": {
            "text/html": [
              "<div>\n",
              "<style scoped>\n",
              "    .dataframe tbody tr th:only-of-type {\n",
              "        vertical-align: middle;\n",
              "    }\n",
              "\n",
              "    .dataframe tbody tr th {\n",
              "        vertical-align: top;\n",
              "    }\n",
              "\n",
              "    .dataframe thead th {\n",
              "        text-align: right;\n",
              "    }\n",
              "</style>\n",
              "<table border=\"1\" class=\"dataframe\">\n",
              "  <thead>\n",
              "    <tr style=\"text-align: right;\">\n",
              "      <th></th>\n",
              "      <th>q</th>\n",
              "      <th>x</th>\n",
              "      <th>y</th>\n",
              "      <th>z</th>\n",
              "    </tr>\n",
              "  </thead>\n",
              "  <tbody>\n",
              "    <tr>\n",
              "      <th>alpha</th>\n",
              "      <td>0.0</td>\n",
              "      <td>1.0</td>\n",
              "      <td>2.0</td>\n",
              "      <td>NaN</td>\n",
              "    </tr>\n",
              "    <tr>\n",
              "      <th>beta</th>\n",
              "      <td>NaN</td>\n",
              "      <td>4.0</td>\n",
              "      <td>5.0</td>\n",
              "      <td>6.0</td>\n",
              "    </tr>\n",
              "  </tbody>\n",
              "</table>\n",
              "</div>"
            ],
            "text/plain": [
              "         q    x    y    z\n",
              "alpha  0.0  1.0  2.0  NaN\n",
              "beta   NaN  4.0  5.0  6.0"
            ]
          },
          "metadata": {
            "tags": []
          },
          "execution_count": 41
        }
      ]
    },
    {
      "cell_type": "code",
      "metadata": {
        "colab": {
          "base_uri": "https://localhost:8080/"
        },
        "id": "WOkyy8wcDm17",
        "outputId": "817da6f5-ea58-4c1a-bda4-f9768577d6c1"
      },
      "source": [
        "dframe.stack(dropna=False)"
      ],
      "execution_count": 43,
      "outputs": [
        {
          "output_type": "execute_result",
          "data": {
            "text/plain": [
              "alpha  q    0.0\n",
              "       x    1.0\n",
              "       y    2.0\n",
              "       z    NaN\n",
              "beta   q    NaN\n",
              "       x    4.0\n",
              "       y    5.0\n",
              "       z    6.0\n",
              "dtype: float64"
            ]
          },
          "metadata": {
            "tags": []
          },
          "execution_count": 43
        }
      ]
    },
    {
      "cell_type": "markdown",
      "metadata": {
        "id": "Ioza5a1NEK3u"
      },
      "source": [
        "#Duplicates in Data Frames"
      ]
    },
    {
      "cell_type": "code",
      "metadata": {
        "id": "pOFqBCVOEArd"
      },
      "source": [
        "dframe = DataFrame({'key1':['a']*2 + ['b']*3,'key2':[2,2,2,3,3]})"
      ],
      "execution_count": 46,
      "outputs": []
    },
    {
      "cell_type": "code",
      "metadata": {
        "colab": {
          "base_uri": "https://localhost:8080/",
          "height": 195
        },
        "id": "Tg9r5O_TI4b4",
        "outputId": "641989ea-bafb-48b3-e07b-7b51672f7e8b"
      },
      "source": [
        "dframe"
      ],
      "execution_count": 48,
      "outputs": [
        {
          "output_type": "execute_result",
          "data": {
            "text/html": [
              "<div>\n",
              "<style scoped>\n",
              "    .dataframe tbody tr th:only-of-type {\n",
              "        vertical-align: middle;\n",
              "    }\n",
              "\n",
              "    .dataframe tbody tr th {\n",
              "        vertical-align: top;\n",
              "    }\n",
              "\n",
              "    .dataframe thead th {\n",
              "        text-align: right;\n",
              "    }\n",
              "</style>\n",
              "<table border=\"1\" class=\"dataframe\">\n",
              "  <thead>\n",
              "    <tr style=\"text-align: right;\">\n",
              "      <th></th>\n",
              "      <th>key1</th>\n",
              "      <th>key2</th>\n",
              "    </tr>\n",
              "  </thead>\n",
              "  <tbody>\n",
              "    <tr>\n",
              "      <th>0</th>\n",
              "      <td>a</td>\n",
              "      <td>2</td>\n",
              "    </tr>\n",
              "    <tr>\n",
              "      <th>1</th>\n",
              "      <td>a</td>\n",
              "      <td>2</td>\n",
              "    </tr>\n",
              "    <tr>\n",
              "      <th>2</th>\n",
              "      <td>b</td>\n",
              "      <td>2</td>\n",
              "    </tr>\n",
              "    <tr>\n",
              "      <th>3</th>\n",
              "      <td>b</td>\n",
              "      <td>3</td>\n",
              "    </tr>\n",
              "    <tr>\n",
              "      <th>4</th>\n",
              "      <td>b</td>\n",
              "      <td>3</td>\n",
              "    </tr>\n",
              "  </tbody>\n",
              "</table>\n",
              "</div>"
            ],
            "text/plain": [
              "  key1  key2\n",
              "0    a     2\n",
              "1    a     2\n",
              "2    b     2\n",
              "3    b     3\n",
              "4    b     3"
            ]
          },
          "metadata": {
            "tags": []
          },
          "execution_count": 48
        }
      ]
    },
    {
      "cell_type": "code",
      "metadata": {
        "colab": {
          "base_uri": "https://localhost:8080/"
        },
        "id": "bNuExxUvJAMb",
        "outputId": "a2e72f7a-5eeb-4afe-a737-5920b6683394"
      },
      "source": [
        "dframe.duplicated()"
      ],
      "execution_count": 49,
      "outputs": [
        {
          "output_type": "execute_result",
          "data": {
            "text/plain": [
              "0    False\n",
              "1     True\n",
              "2    False\n",
              "3    False\n",
              "4     True\n",
              "dtype: bool"
            ]
          },
          "metadata": {
            "tags": []
          },
          "execution_count": 49
        }
      ]
    },
    {
      "cell_type": "code",
      "metadata": {
        "colab": {
          "base_uri": "https://localhost:8080/",
          "height": 136
        },
        "id": "jEzDn9w6JJrD",
        "outputId": "da646bf6-2634-4c20-daf0-f48bd53a307e"
      },
      "source": [
        "dframe.drop_duplicates()"
      ],
      "execution_count": 50,
      "outputs": [
        {
          "output_type": "execute_result",
          "data": {
            "text/html": [
              "<div>\n",
              "<style scoped>\n",
              "    .dataframe tbody tr th:only-of-type {\n",
              "        vertical-align: middle;\n",
              "    }\n",
              "\n",
              "    .dataframe tbody tr th {\n",
              "        vertical-align: top;\n",
              "    }\n",
              "\n",
              "    .dataframe thead th {\n",
              "        text-align: right;\n",
              "    }\n",
              "</style>\n",
              "<table border=\"1\" class=\"dataframe\">\n",
              "  <thead>\n",
              "    <tr style=\"text-align: right;\">\n",
              "      <th></th>\n",
              "      <th>key1</th>\n",
              "      <th>key2</th>\n",
              "    </tr>\n",
              "  </thead>\n",
              "  <tbody>\n",
              "    <tr>\n",
              "      <th>0</th>\n",
              "      <td>a</td>\n",
              "      <td>2</td>\n",
              "    </tr>\n",
              "    <tr>\n",
              "      <th>2</th>\n",
              "      <td>b</td>\n",
              "      <td>2</td>\n",
              "    </tr>\n",
              "    <tr>\n",
              "      <th>3</th>\n",
              "      <td>b</td>\n",
              "      <td>3</td>\n",
              "    </tr>\n",
              "  </tbody>\n",
              "</table>\n",
              "</div>"
            ],
            "text/plain": [
              "  key1  key2\n",
              "0    a     2\n",
              "2    b     2\n",
              "3    b     3"
            ]
          },
          "metadata": {
            "tags": []
          },
          "execution_count": 50
        }
      ]
    },
    {
      "cell_type": "code",
      "metadata": {
        "colab": {
          "base_uri": "https://localhost:8080/",
          "height": 106
        },
        "id": "2HOMXoGHJS5j",
        "outputId": "b7764756-8626-4135-8add-ab504760f111"
      },
      "source": [
        "dframe.drop_duplicates(['key1'])"
      ],
      "execution_count": 52,
      "outputs": [
        {
          "output_type": "execute_result",
          "data": {
            "text/html": [
              "<div>\n",
              "<style scoped>\n",
              "    .dataframe tbody tr th:only-of-type {\n",
              "        vertical-align: middle;\n",
              "    }\n",
              "\n",
              "    .dataframe tbody tr th {\n",
              "        vertical-align: top;\n",
              "    }\n",
              "\n",
              "    .dataframe thead th {\n",
              "        text-align: right;\n",
              "    }\n",
              "</style>\n",
              "<table border=\"1\" class=\"dataframe\">\n",
              "  <thead>\n",
              "    <tr style=\"text-align: right;\">\n",
              "      <th></th>\n",
              "      <th>key1</th>\n",
              "      <th>key2</th>\n",
              "    </tr>\n",
              "  </thead>\n",
              "  <tbody>\n",
              "    <tr>\n",
              "      <th>0</th>\n",
              "      <td>a</td>\n",
              "      <td>2</td>\n",
              "    </tr>\n",
              "    <tr>\n",
              "      <th>2</th>\n",
              "      <td>b</td>\n",
              "      <td>2</td>\n",
              "    </tr>\n",
              "  </tbody>\n",
              "</table>\n",
              "</div>"
            ],
            "text/plain": [
              "  key1  key2\n",
              "0    a     2\n",
              "2    b     2"
            ]
          },
          "metadata": {
            "tags": []
          },
          "execution_count": 52
        }
      ]
    },
    {
      "cell_type": "code",
      "metadata": {
        "colab": {
          "base_uri": "https://localhost:8080/",
          "height": 195
        },
        "id": "kodPaXYqJc86",
        "outputId": "6bba7340-0b9c-40d4-cc2b-16d235c18bf9"
      },
      "source": [
        "dframe"
      ],
      "execution_count": 53,
      "outputs": [
        {
          "output_type": "execute_result",
          "data": {
            "text/html": [
              "<div>\n",
              "<style scoped>\n",
              "    .dataframe tbody tr th:only-of-type {\n",
              "        vertical-align: middle;\n",
              "    }\n",
              "\n",
              "    .dataframe tbody tr th {\n",
              "        vertical-align: top;\n",
              "    }\n",
              "\n",
              "    .dataframe thead th {\n",
              "        text-align: right;\n",
              "    }\n",
              "</style>\n",
              "<table border=\"1\" class=\"dataframe\">\n",
              "  <thead>\n",
              "    <tr style=\"text-align: right;\">\n",
              "      <th></th>\n",
              "      <th>key1</th>\n",
              "      <th>key2</th>\n",
              "    </tr>\n",
              "  </thead>\n",
              "  <tbody>\n",
              "    <tr>\n",
              "      <th>0</th>\n",
              "      <td>a</td>\n",
              "      <td>2</td>\n",
              "    </tr>\n",
              "    <tr>\n",
              "      <th>1</th>\n",
              "      <td>a</td>\n",
              "      <td>2</td>\n",
              "    </tr>\n",
              "    <tr>\n",
              "      <th>2</th>\n",
              "      <td>b</td>\n",
              "      <td>2</td>\n",
              "    </tr>\n",
              "    <tr>\n",
              "      <th>3</th>\n",
              "      <td>b</td>\n",
              "      <td>3</td>\n",
              "    </tr>\n",
              "    <tr>\n",
              "      <th>4</th>\n",
              "      <td>b</td>\n",
              "      <td>3</td>\n",
              "    </tr>\n",
              "  </tbody>\n",
              "</table>\n",
              "</div>"
            ],
            "text/plain": [
              "  key1  key2\n",
              "0    a     2\n",
              "1    a     2\n",
              "2    b     2\n",
              "3    b     3\n",
              "4    b     3"
            ]
          },
          "metadata": {
            "tags": []
          },
          "execution_count": 53
        }
      ]
    },
    {
      "cell_type": "markdown",
      "metadata": {
        "id": "ev9tRcojKMvh"
      },
      "source": [
        "\n",
        "# Mapping"
      ]
    },
    {
      "cell_type": "code",
      "metadata": {
        "id": "wXejwgC3J2Sa"
      },
      "source": [
        "dframe = DataFrame({'city':['mumbai','dehli','ahmedabad'], 'altitude':[3535,4564,3453]})"
      ],
      "execution_count": 55,
      "outputs": []
    },
    {
      "cell_type": "code",
      "metadata": {
        "colab": {
          "base_uri": "https://localhost:8080/",
          "height": 136
        },
        "id": "oWU31Bh3KpXO",
        "outputId": "1f92ab30-ba85-4fd9-e6d7-7075b8d2ccb3"
      },
      "source": [
        "dframe"
      ],
      "execution_count": 56,
      "outputs": [
        {
          "output_type": "execute_result",
          "data": {
            "text/html": [
              "<div>\n",
              "<style scoped>\n",
              "    .dataframe tbody tr th:only-of-type {\n",
              "        vertical-align: middle;\n",
              "    }\n",
              "\n",
              "    .dataframe tbody tr th {\n",
              "        vertical-align: top;\n",
              "    }\n",
              "\n",
              "    .dataframe thead th {\n",
              "        text-align: right;\n",
              "    }\n",
              "</style>\n",
              "<table border=\"1\" class=\"dataframe\">\n",
              "  <thead>\n",
              "    <tr style=\"text-align: right;\">\n",
              "      <th></th>\n",
              "      <th>city</th>\n",
              "      <th>altitude</th>\n",
              "    </tr>\n",
              "  </thead>\n",
              "  <tbody>\n",
              "    <tr>\n",
              "      <th>0</th>\n",
              "      <td>mumbai</td>\n",
              "      <td>3535</td>\n",
              "    </tr>\n",
              "    <tr>\n",
              "      <th>1</th>\n",
              "      <td>dehli</td>\n",
              "      <td>4564</td>\n",
              "    </tr>\n",
              "    <tr>\n",
              "      <th>2</th>\n",
              "      <td>ahmedabad</td>\n",
              "      <td>3453</td>\n",
              "    </tr>\n",
              "  </tbody>\n",
              "</table>\n",
              "</div>"
            ],
            "text/plain": [
              "        city  altitude\n",
              "0     mumbai      3535\n",
              "1      dehli      4564\n",
              "2  ahmedabad      3453"
            ]
          },
          "metadata": {
            "tags": []
          },
          "execution_count": 56
        }
      ]
    },
    {
      "cell_type": "code",
      "metadata": {
        "id": "L_ycLOPlKqVj"
      },
      "source": [
        "state_map = {'mumbai':'maharastra','dehli':'delhi','ahmedabad':'gujrat'}"
      ],
      "execution_count": 57,
      "outputs": []
    },
    {
      "cell_type": "code",
      "metadata": {
        "id": "zT75Xaj9K73T"
      },
      "source": [
        "dframe['state_map'] = dframe['city'].map(state_map)"
      ],
      "execution_count": 59,
      "outputs": []
    },
    {
      "cell_type": "code",
      "metadata": {
        "colab": {
          "base_uri": "https://localhost:8080/",
          "height": 136
        },
        "id": "m_LMSHHpLFFz",
        "outputId": "57c3c5af-4800-44b0-84fe-1b803225cb8f"
      },
      "source": [
        "dframe"
      ],
      "execution_count": 60,
      "outputs": [
        {
          "output_type": "execute_result",
          "data": {
            "text/html": [
              "<div>\n",
              "<style scoped>\n",
              "    .dataframe tbody tr th:only-of-type {\n",
              "        vertical-align: middle;\n",
              "    }\n",
              "\n",
              "    .dataframe tbody tr th {\n",
              "        vertical-align: top;\n",
              "    }\n",
              "\n",
              "    .dataframe thead th {\n",
              "        text-align: right;\n",
              "    }\n",
              "</style>\n",
              "<table border=\"1\" class=\"dataframe\">\n",
              "  <thead>\n",
              "    <tr style=\"text-align: right;\">\n",
              "      <th></th>\n",
              "      <th>city</th>\n",
              "      <th>altitude</th>\n",
              "      <th>state_map</th>\n",
              "    </tr>\n",
              "  </thead>\n",
              "  <tbody>\n",
              "    <tr>\n",
              "      <th>0</th>\n",
              "      <td>mumbai</td>\n",
              "      <td>3535</td>\n",
              "      <td>maharastra</td>\n",
              "    </tr>\n",
              "    <tr>\n",
              "      <th>1</th>\n",
              "      <td>dehli</td>\n",
              "      <td>4564</td>\n",
              "      <td>delhi</td>\n",
              "    </tr>\n",
              "    <tr>\n",
              "      <th>2</th>\n",
              "      <td>ahmedabad</td>\n",
              "      <td>3453</td>\n",
              "      <td>gujrat</td>\n",
              "    </tr>\n",
              "  </tbody>\n",
              "</table>\n",
              "</div>"
            ],
            "text/plain": [
              "        city  altitude   state_map\n",
              "0     mumbai      3535  maharastra\n",
              "1      dehli      4564       delhi\n",
              "2  ahmedabad      3453      gujrat"
            ]
          },
          "metadata": {
            "tags": []
          },
          "execution_count": 60
        }
      ]
    },
    {
      "cell_type": "markdown",
      "metadata": {
        "id": "Q6qttHAlLOI0"
      },
      "source": [
        "# Replace"
      ]
    },
    {
      "cell_type": "code",
      "metadata": {
        "id": "zIrMXGkLLJ17"
      },
      "source": [
        "ser1 = Series([1,2,3,4,1,2,3,4])"
      ],
      "execution_count": 63,
      "outputs": []
    },
    {
      "cell_type": "code",
      "metadata": {
        "colab": {
          "base_uri": "https://localhost:8080/"
        },
        "id": "QP7L68-WLemt",
        "outputId": "dfd8722a-35b8-471e-f0b6-3e47c94bb0ad"
      },
      "source": [
        "ser1"
      ],
      "execution_count": 64,
      "outputs": [
        {
          "output_type": "execute_result",
          "data": {
            "text/plain": [
              "0    1\n",
              "1    2\n",
              "2    3\n",
              "3    4\n",
              "4    1\n",
              "5    2\n",
              "6    3\n",
              "7    4\n",
              "dtype: int64"
            ]
          },
          "metadata": {
            "tags": []
          },
          "execution_count": 64
        }
      ]
    },
    {
      "cell_type": "code",
      "metadata": {
        "colab": {
          "base_uri": "https://localhost:8080/"
        },
        "id": "8iUfZ1-hLfXb",
        "outputId": "7babc624-bc62-48fa-8d2c-1a639613aab2"
      },
      "source": [
        "ser1.replace(1,np.nan)"
      ],
      "execution_count": 65,
      "outputs": [
        {
          "output_type": "execute_result",
          "data": {
            "text/plain": [
              "0    NaN\n",
              "1    2.0\n",
              "2    3.0\n",
              "3    4.0\n",
              "4    NaN\n",
              "5    2.0\n",
              "6    3.0\n",
              "7    4.0\n",
              "dtype: float64"
            ]
          },
          "metadata": {
            "tags": []
          },
          "execution_count": 65
        }
      ]
    },
    {
      "cell_type": "code",
      "metadata": {
        "colab": {
          "base_uri": "https://localhost:8080/"
        },
        "id": "FmbHkCd1LoDT",
        "outputId": "c64b1de1-4500-424a-f906-d2ea79bacb60"
      },
      "source": [
        "ser1.replace([1,4],[100,400])"
      ],
      "execution_count": 66,
      "outputs": [
        {
          "output_type": "execute_result",
          "data": {
            "text/plain": [
              "0    100\n",
              "1      2\n",
              "2      3\n",
              "3    400\n",
              "4    100\n",
              "5      2\n",
              "6      3\n",
              "7    400\n",
              "dtype: int64"
            ]
          },
          "metadata": {
            "tags": []
          },
          "execution_count": 66
        }
      ]
    },
    {
      "cell_type": "code",
      "metadata": {
        "colab": {
          "base_uri": "https://localhost:8080/"
        },
        "id": "owk1mK_MLvpq",
        "outputId": "36cac5b1-8d37-4c09-920b-2d14f718892b"
      },
      "source": [
        "ser1.replace({4:np.nan})"
      ],
      "execution_count": 67,
      "outputs": [
        {
          "output_type": "execute_result",
          "data": {
            "text/plain": [
              "0    1.0\n",
              "1    2.0\n",
              "2    3.0\n",
              "3    NaN\n",
              "4    1.0\n",
              "5    2.0\n",
              "6    3.0\n",
              "7    NaN\n",
              "dtype: float64"
            ]
          },
          "metadata": {
            "tags": []
          },
          "execution_count": 67
        }
      ]
    },
    {
      "cell_type": "markdown",
      "metadata": {
        "id": "H5vzHBOmL8pG"
      },
      "source": [
        "# Rename Index"
      ]
    },
    {
      "cell_type": "code",
      "metadata": {
        "id": "2AnuHrJdL14a"
      },
      "source": [
        "dframe = DataFrame(np.arange(12).reshape(3,4),index=['ny','la','sf'],columns=['a','b','c','d'])"
      ],
      "execution_count": 68,
      "outputs": []
    },
    {
      "cell_type": "code",
      "metadata": {
        "colab": {
          "base_uri": "https://localhost:8080/",
          "height": 136
        },
        "id": "nn8wrRj7MUJS",
        "outputId": "4e82058e-56bd-47c5-bb74-2d5a90f9a88b"
      },
      "source": [
        "dframe"
      ],
      "execution_count": 69,
      "outputs": [
        {
          "output_type": "execute_result",
          "data": {
            "text/html": [
              "<div>\n",
              "<style scoped>\n",
              "    .dataframe tbody tr th:only-of-type {\n",
              "        vertical-align: middle;\n",
              "    }\n",
              "\n",
              "    .dataframe tbody tr th {\n",
              "        vertical-align: top;\n",
              "    }\n",
              "\n",
              "    .dataframe thead th {\n",
              "        text-align: right;\n",
              "    }\n",
              "</style>\n",
              "<table border=\"1\" class=\"dataframe\">\n",
              "  <thead>\n",
              "    <tr style=\"text-align: right;\">\n",
              "      <th></th>\n",
              "      <th>a</th>\n",
              "      <th>b</th>\n",
              "      <th>c</th>\n",
              "      <th>d</th>\n",
              "    </tr>\n",
              "  </thead>\n",
              "  <tbody>\n",
              "    <tr>\n",
              "      <th>ny</th>\n",
              "      <td>0</td>\n",
              "      <td>1</td>\n",
              "      <td>2</td>\n",
              "      <td>3</td>\n",
              "    </tr>\n",
              "    <tr>\n",
              "      <th>la</th>\n",
              "      <td>4</td>\n",
              "      <td>5</td>\n",
              "      <td>6</td>\n",
              "      <td>7</td>\n",
              "    </tr>\n",
              "    <tr>\n",
              "      <th>sf</th>\n",
              "      <td>8</td>\n",
              "      <td>9</td>\n",
              "      <td>10</td>\n",
              "      <td>11</td>\n",
              "    </tr>\n",
              "  </tbody>\n",
              "</table>\n",
              "</div>"
            ],
            "text/plain": [
              "    a  b   c   d\n",
              "ny  0  1   2   3\n",
              "la  4  5   6   7\n",
              "sf  8  9  10  11"
            ]
          },
          "metadata": {
            "tags": []
          },
          "execution_count": 69
        }
      ]
    },
    {
      "cell_type": "code",
      "metadata": {
        "colab": {
          "base_uri": "https://localhost:8080/"
        },
        "id": "qXp1VlRwMVSq",
        "outputId": "728009cf-97aa-4ab9-c7fc-72d2ae3daedc"
      },
      "source": [
        "dframe.index.map(str.upper)"
      ],
      "execution_count": 70,
      "outputs": [
        {
          "output_type": "execute_result",
          "data": {
            "text/plain": [
              "Index(['NY', 'LA', 'SF'], dtype='object')"
            ]
          },
          "metadata": {
            "tags": []
          },
          "execution_count": 70
        }
      ]
    },
    {
      "cell_type": "code",
      "metadata": {
        "id": "oYMyY642Mesc"
      },
      "source": [
        "dframe.index = dframe.index.map(str.upper)"
      ],
      "execution_count": 71,
      "outputs": []
    },
    {
      "cell_type": "code",
      "metadata": {
        "colab": {
          "base_uri": "https://localhost:8080/",
          "height": 136
        },
        "id": "CwQEu4gHMngT",
        "outputId": "d53c16f2-887d-43b2-e548-81a3ffc7c164"
      },
      "source": [
        "dframe"
      ],
      "execution_count": 72,
      "outputs": [
        {
          "output_type": "execute_result",
          "data": {
            "text/html": [
              "<div>\n",
              "<style scoped>\n",
              "    .dataframe tbody tr th:only-of-type {\n",
              "        vertical-align: middle;\n",
              "    }\n",
              "\n",
              "    .dataframe tbody tr th {\n",
              "        vertical-align: top;\n",
              "    }\n",
              "\n",
              "    .dataframe thead th {\n",
              "        text-align: right;\n",
              "    }\n",
              "</style>\n",
              "<table border=\"1\" class=\"dataframe\">\n",
              "  <thead>\n",
              "    <tr style=\"text-align: right;\">\n",
              "      <th></th>\n",
              "      <th>a</th>\n",
              "      <th>b</th>\n",
              "      <th>c</th>\n",
              "      <th>d</th>\n",
              "    </tr>\n",
              "  </thead>\n",
              "  <tbody>\n",
              "    <tr>\n",
              "      <th>NY</th>\n",
              "      <td>0</td>\n",
              "      <td>1</td>\n",
              "      <td>2</td>\n",
              "      <td>3</td>\n",
              "    </tr>\n",
              "    <tr>\n",
              "      <th>LA</th>\n",
              "      <td>4</td>\n",
              "      <td>5</td>\n",
              "      <td>6</td>\n",
              "      <td>7</td>\n",
              "    </tr>\n",
              "    <tr>\n",
              "      <th>SF</th>\n",
              "      <td>8</td>\n",
              "      <td>9</td>\n",
              "      <td>10</td>\n",
              "      <td>11</td>\n",
              "    </tr>\n",
              "  </tbody>\n",
              "</table>\n",
              "</div>"
            ],
            "text/plain": [
              "    a  b   c   d\n",
              "NY  0  1   2   3\n",
              "LA  4  5   6   7\n",
              "SF  8  9  10  11"
            ]
          },
          "metadata": {
            "tags": []
          },
          "execution_count": 72
        }
      ]
    },
    {
      "cell_type": "code",
      "metadata": {
        "colab": {
          "base_uri": "https://localhost:8080/",
          "height": 136
        },
        "id": "HksWqwLYMoab",
        "outputId": "53e2e83b-c34b-4c7d-cee7-1bf599c56d5c"
      },
      "source": [
        "dframe.rename(index=str.title,columns=str.upper)"
      ],
      "execution_count": 74,
      "outputs": [
        {
          "output_type": "execute_result",
          "data": {
            "text/html": [
              "<div>\n",
              "<style scoped>\n",
              "    .dataframe tbody tr th:only-of-type {\n",
              "        vertical-align: middle;\n",
              "    }\n",
              "\n",
              "    .dataframe tbody tr th {\n",
              "        vertical-align: top;\n",
              "    }\n",
              "\n",
              "    .dataframe thead th {\n",
              "        text-align: right;\n",
              "    }\n",
              "</style>\n",
              "<table border=\"1\" class=\"dataframe\">\n",
              "  <thead>\n",
              "    <tr style=\"text-align: right;\">\n",
              "      <th></th>\n",
              "      <th>A</th>\n",
              "      <th>B</th>\n",
              "      <th>C</th>\n",
              "      <th>D</th>\n",
              "    </tr>\n",
              "  </thead>\n",
              "  <tbody>\n",
              "    <tr>\n",
              "      <th>Ny</th>\n",
              "      <td>0</td>\n",
              "      <td>1</td>\n",
              "      <td>2</td>\n",
              "      <td>3</td>\n",
              "    </tr>\n",
              "    <tr>\n",
              "      <th>La</th>\n",
              "      <td>4</td>\n",
              "      <td>5</td>\n",
              "      <td>6</td>\n",
              "      <td>7</td>\n",
              "    </tr>\n",
              "    <tr>\n",
              "      <th>Sf</th>\n",
              "      <td>8</td>\n",
              "      <td>9</td>\n",
              "      <td>10</td>\n",
              "      <td>11</td>\n",
              "    </tr>\n",
              "  </tbody>\n",
              "</table>\n",
              "</div>"
            ],
            "text/plain": [
              "    A  B   C   D\n",
              "Ny  0  1   2   3\n",
              "La  4  5   6   7\n",
              "Sf  8  9  10  11"
            ]
          },
          "metadata": {
            "tags": []
          },
          "execution_count": 74
        }
      ]
    },
    {
      "cell_type": "code",
      "metadata": {
        "colab": {
          "base_uri": "https://localhost:8080/",
          "height": 136
        },
        "id": "zGp7Zj6mMxwl",
        "outputId": "d0bce7a9-3d38-4b35-fa2f-44b65ccafbfd"
      },
      "source": [
        "dframe.rename(index={'NY':'NEW YORK'}, columns={'a':'ALPHA'})"
      ],
      "execution_count": 77,
      "outputs": [
        {
          "output_type": "execute_result",
          "data": {
            "text/html": [
              "<div>\n",
              "<style scoped>\n",
              "    .dataframe tbody tr th:only-of-type {\n",
              "        vertical-align: middle;\n",
              "    }\n",
              "\n",
              "    .dataframe tbody tr th {\n",
              "        vertical-align: top;\n",
              "    }\n",
              "\n",
              "    .dataframe thead th {\n",
              "        text-align: right;\n",
              "    }\n",
              "</style>\n",
              "<table border=\"1\" class=\"dataframe\">\n",
              "  <thead>\n",
              "    <tr style=\"text-align: right;\">\n",
              "      <th></th>\n",
              "      <th>ALPHA</th>\n",
              "      <th>b</th>\n",
              "      <th>c</th>\n",
              "      <th>d</th>\n",
              "    </tr>\n",
              "  </thead>\n",
              "  <tbody>\n",
              "    <tr>\n",
              "      <th>NEW YORK</th>\n",
              "      <td>0</td>\n",
              "      <td>1</td>\n",
              "      <td>2</td>\n",
              "      <td>3</td>\n",
              "    </tr>\n",
              "    <tr>\n",
              "      <th>LA</th>\n",
              "      <td>4</td>\n",
              "      <td>5</td>\n",
              "      <td>6</td>\n",
              "      <td>7</td>\n",
              "    </tr>\n",
              "    <tr>\n",
              "      <th>SF</th>\n",
              "      <td>8</td>\n",
              "      <td>9</td>\n",
              "      <td>10</td>\n",
              "      <td>11</td>\n",
              "    </tr>\n",
              "  </tbody>\n",
              "</table>\n",
              "</div>"
            ],
            "text/plain": [
              "          ALPHA  b   c   d\n",
              "NEW YORK      0  1   2   3\n",
              "LA            4  5   6   7\n",
              "SF            8  9  10  11"
            ]
          },
          "metadata": {
            "tags": []
          },
          "execution_count": 77
        }
      ]
    },
    {
      "cell_type": "code",
      "metadata": {
        "colab": {
          "base_uri": "https://localhost:8080/",
          "height": 136
        },
        "id": "p1QCJP7pNJoK",
        "outputId": "71415296-7597-4b0c-de36-bb5f832a239a"
      },
      "source": [
        "dframe"
      ],
      "execution_count": 78,
      "outputs": [
        {
          "output_type": "execute_result",
          "data": {
            "text/html": [
              "<div>\n",
              "<style scoped>\n",
              "    .dataframe tbody tr th:only-of-type {\n",
              "        vertical-align: middle;\n",
              "    }\n",
              "\n",
              "    .dataframe tbody tr th {\n",
              "        vertical-align: top;\n",
              "    }\n",
              "\n",
              "    .dataframe thead th {\n",
              "        text-align: right;\n",
              "    }\n",
              "</style>\n",
              "<table border=\"1\" class=\"dataframe\">\n",
              "  <thead>\n",
              "    <tr style=\"text-align: right;\">\n",
              "      <th></th>\n",
              "      <th>a</th>\n",
              "      <th>b</th>\n",
              "      <th>c</th>\n",
              "      <th>d</th>\n",
              "    </tr>\n",
              "  </thead>\n",
              "  <tbody>\n",
              "    <tr>\n",
              "      <th>NY</th>\n",
              "      <td>0</td>\n",
              "      <td>1</td>\n",
              "      <td>2</td>\n",
              "      <td>3</td>\n",
              "    </tr>\n",
              "    <tr>\n",
              "      <th>LA</th>\n",
              "      <td>4</td>\n",
              "      <td>5</td>\n",
              "      <td>6</td>\n",
              "      <td>7</td>\n",
              "    </tr>\n",
              "    <tr>\n",
              "      <th>SF</th>\n",
              "      <td>8</td>\n",
              "      <td>9</td>\n",
              "      <td>10</td>\n",
              "      <td>11</td>\n",
              "    </tr>\n",
              "  </tbody>\n",
              "</table>\n",
              "</div>"
            ],
            "text/plain": [
              "    a  b   c   d\n",
              "NY  0  1   2   3\n",
              "LA  4  5   6   7\n",
              "SF  8  9  10  11"
            ]
          },
          "metadata": {
            "tags": []
          },
          "execution_count": 78
        }
      ]
    },
    {
      "cell_type": "code",
      "metadata": {
        "id": "uIihqMsINbtr"
      },
      "source": [
        "dframe.rename(index={'NY':'NEW YORK'},inplace=True)"
      ],
      "execution_count": 79,
      "outputs": []
    },
    {
      "cell_type": "code",
      "metadata": {
        "colab": {
          "base_uri": "https://localhost:8080/",
          "height": 136
        },
        "id": "Y99HVwqYNmp7",
        "outputId": "6475def0-4c85-46ac-dcea-305420da1650"
      },
      "source": [
        "dframe"
      ],
      "execution_count": 80,
      "outputs": [
        {
          "output_type": "execute_result",
          "data": {
            "text/html": [
              "<div>\n",
              "<style scoped>\n",
              "    .dataframe tbody tr th:only-of-type {\n",
              "        vertical-align: middle;\n",
              "    }\n",
              "\n",
              "    .dataframe tbody tr th {\n",
              "        vertical-align: top;\n",
              "    }\n",
              "\n",
              "    .dataframe thead th {\n",
              "        text-align: right;\n",
              "    }\n",
              "</style>\n",
              "<table border=\"1\" class=\"dataframe\">\n",
              "  <thead>\n",
              "    <tr style=\"text-align: right;\">\n",
              "      <th></th>\n",
              "      <th>a</th>\n",
              "      <th>b</th>\n",
              "      <th>c</th>\n",
              "      <th>d</th>\n",
              "    </tr>\n",
              "  </thead>\n",
              "  <tbody>\n",
              "    <tr>\n",
              "      <th>NEW YORK</th>\n",
              "      <td>0</td>\n",
              "      <td>1</td>\n",
              "      <td>2</td>\n",
              "      <td>3</td>\n",
              "    </tr>\n",
              "    <tr>\n",
              "      <th>LA</th>\n",
              "      <td>4</td>\n",
              "      <td>5</td>\n",
              "      <td>6</td>\n",
              "      <td>7</td>\n",
              "    </tr>\n",
              "    <tr>\n",
              "      <th>SF</th>\n",
              "      <td>8</td>\n",
              "      <td>9</td>\n",
              "      <td>10</td>\n",
              "      <td>11</td>\n",
              "    </tr>\n",
              "  </tbody>\n",
              "</table>\n",
              "</div>"
            ],
            "text/plain": [
              "          a  b   c   d\n",
              "NEW YORK  0  1   2   3\n",
              "LA        4  5   6   7\n",
              "SF        8  9  10  11"
            ]
          },
          "metadata": {
            "tags": []
          },
          "execution_count": 80
        }
      ]
    },
    {
      "cell_type": "markdown",
      "metadata": {
        "id": "LMABU6elef_k"
      },
      "source": [
        "#Binning"
      ]
    },
    {
      "cell_type": "code",
      "metadata": {
        "id": "PYplnpkBNntU"
      },
      "source": [
        "years = [1990,1991,1992,2008,2012,2015,1987,1969,2013,2008,1999]"
      ],
      "execution_count": 82,
      "outputs": []
    },
    {
      "cell_type": "code",
      "metadata": {
        "id": "WDjJsJZNe68S"
      },
      "source": [
        "decade_bins = [1960,1970,1980,1990,2000,2010,2020]"
      ],
      "execution_count": 83,
      "outputs": []
    },
    {
      "cell_type": "code",
      "metadata": {
        "id": "Tibvp2MjfFmG"
      },
      "source": [
        "decade_cat = pd.cut(years,decade_bins)"
      ],
      "execution_count": 84,
      "outputs": []
    },
    {
      "cell_type": "code",
      "metadata": {
        "colab": {
          "base_uri": "https://localhost:8080/"
        },
        "id": "e8uCLk00fM8v",
        "outputId": "a48224ac-ce1e-4c51-9159-139e81b251ce"
      },
      "source": [
        "decade_cat"
      ],
      "execution_count": 85,
      "outputs": [
        {
          "output_type": "execute_result",
          "data": {
            "text/plain": [
              "[(1980, 1990], (1990, 2000], (1990, 2000], (2000, 2010], (2010, 2020], ..., (1980, 1990], (1960, 1970], (2010, 2020], (2000, 2010], (1990, 2000]]\n",
              "Length: 11\n",
              "Categories (6, interval[int64]): [(1960, 1970] < (1970, 1980] < (1980, 1990] < (1990, 2000] <\n",
              "                                  (2000, 2010] < (2010, 2020]]"
            ]
          },
          "metadata": {
            "tags": []
          },
          "execution_count": 85
        }
      ]
    },
    {
      "cell_type": "code",
      "metadata": {
        "colab": {
          "base_uri": "https://localhost:8080/"
        },
        "id": "kub57zdMfO6v",
        "outputId": "593f045d-a3c8-4819-8d3a-9a0a92ff179a"
      },
      "source": [
        "decade_cat.categories"
      ],
      "execution_count": 86,
      "outputs": [
        {
          "output_type": "execute_result",
          "data": {
            "text/plain": [
              "IntervalIndex([(1960, 1970], (1970, 1980], (1980, 1990], (1990, 2000], (2000, 2010], (2010, 2020]],\n",
              "              closed='right',\n",
              "              dtype='interval[int64]')"
            ]
          },
          "metadata": {
            "tags": []
          },
          "execution_count": 86
        }
      ]
    },
    {
      "cell_type": "code",
      "metadata": {
        "colab": {
          "base_uri": "https://localhost:8080/"
        },
        "id": "hLQww6mDfY4P",
        "outputId": "fa2ca19b-38dc-4fa7-bf88-1323518049bb"
      },
      "source": [
        "pd.value_counts(decade_cat)"
      ],
      "execution_count": 87,
      "outputs": [
        {
          "output_type": "execute_result",
          "data": {
            "text/plain": [
              "(2010, 2020]    3\n",
              "(1990, 2000]    3\n",
              "(2000, 2010]    2\n",
              "(1980, 1990]    2\n",
              "(1960, 1970]    1\n",
              "(1970, 1980]    0\n",
              "dtype: int64"
            ]
          },
          "metadata": {
            "tags": []
          },
          "execution_count": 87
        }
      ]
    },
    {
      "cell_type": "code",
      "metadata": {
        "colab": {
          "base_uri": "https://localhost:8080/"
        },
        "id": "8q2_5d61fgGJ",
        "outputId": "29437366-3a32-49bf-dee7-9a220fb6316f"
      },
      "source": [
        "pd.cut(years,2,precision=1)"
      ],
      "execution_count": 88,
      "outputs": [
        {
          "output_type": "execute_result",
          "data": {
            "text/plain": [
              "[(1969.0, 1992.0], (1969.0, 1992.0], (1969.0, 1992.0], (1992.0, 2015.0], (1992.0, 2015.0], ..., (1969.0, 1992.0], (1969.0, 1992.0], (1992.0, 2015.0], (1992.0, 2015.0], (1992.0, 2015.0]]\n",
              "Length: 11\n",
              "Categories (2, interval[float64]): [(1969.0, 1992.0] < (1992.0, 2015.0]]"
            ]
          },
          "metadata": {
            "tags": []
          },
          "execution_count": 88
        }
      ]
    },
    {
      "cell_type": "code",
      "metadata": {
        "colab": {
          "base_uri": "https://localhost:8080/"
        },
        "id": "eN5swkEHf5rW",
        "outputId": "b607b71f-90c8-487e-c3c2-6318b064857a"
      },
      "source": [
        "pd.cut(years,3,precision=1)"
      ],
      "execution_count": 89,
      "outputs": [
        {
          "output_type": "execute_result",
          "data": {
            "text/plain": [
              "[(1984.3, 1999.7], (1984.3, 1999.7], (1984.3, 1999.7], (1999.7, 2015.0], (1999.7, 2015.0], ..., (1984.3, 1999.7], (1969.0, 1984.3], (1999.7, 2015.0], (1999.7, 2015.0], (1984.3, 1999.7]]\n",
              "Length: 11\n",
              "Categories (3, interval[float64]): [(1969.0, 1984.3] < (1984.3, 1999.7] < (1999.7, 2015.0]]"
            ]
          },
          "metadata": {
            "tags": []
          },
          "execution_count": 89
        }
      ]
    },
    {
      "cell_type": "markdown",
      "metadata": {
        "id": "q7wZfoZWgDUJ"
      },
      "source": [
        "# Outliners"
      ]
    },
    {
      "cell_type": "code",
      "metadata": {
        "id": "_P3zToCRgAn2"
      },
      "source": [
        "np.random.seed(12345)"
      ],
      "execution_count": 90,
      "outputs": []
    },
    {
      "cell_type": "code",
      "metadata": {
        "id": "na4CS1ZXgbAo"
      },
      "source": [
        "dframe = DataFrame(np.random.randn(1000,4))"
      ],
      "execution_count": 91,
      "outputs": []
    },
    {
      "cell_type": "code",
      "metadata": {
        "colab": {
          "base_uri": "https://localhost:8080/",
          "height": 195
        },
        "id": "Up9Ib96IghpN",
        "outputId": "b703c35f-1dec-4de0-f448-127565aa4aef"
      },
      "source": [
        "dframe.head()"
      ],
      "execution_count": 93,
      "outputs": [
        {
          "output_type": "execute_result",
          "data": {
            "text/html": [
              "<div>\n",
              "<style scoped>\n",
              "    .dataframe tbody tr th:only-of-type {\n",
              "        vertical-align: middle;\n",
              "    }\n",
              "\n",
              "    .dataframe tbody tr th {\n",
              "        vertical-align: top;\n",
              "    }\n",
              "\n",
              "    .dataframe thead th {\n",
              "        text-align: right;\n",
              "    }\n",
              "</style>\n",
              "<table border=\"1\" class=\"dataframe\">\n",
              "  <thead>\n",
              "    <tr style=\"text-align: right;\">\n",
              "      <th></th>\n",
              "      <th>0</th>\n",
              "      <th>1</th>\n",
              "      <th>2</th>\n",
              "      <th>3</th>\n",
              "    </tr>\n",
              "  </thead>\n",
              "  <tbody>\n",
              "    <tr>\n",
              "      <th>0</th>\n",
              "      <td>-0.204708</td>\n",
              "      <td>0.478943</td>\n",
              "      <td>-0.519439</td>\n",
              "      <td>-0.555730</td>\n",
              "    </tr>\n",
              "    <tr>\n",
              "      <th>1</th>\n",
              "      <td>1.965781</td>\n",
              "      <td>1.393406</td>\n",
              "      <td>0.092908</td>\n",
              "      <td>0.281746</td>\n",
              "    </tr>\n",
              "    <tr>\n",
              "      <th>2</th>\n",
              "      <td>0.769023</td>\n",
              "      <td>1.246435</td>\n",
              "      <td>1.007189</td>\n",
              "      <td>-1.296221</td>\n",
              "    </tr>\n",
              "    <tr>\n",
              "      <th>3</th>\n",
              "      <td>0.274992</td>\n",
              "      <td>0.228913</td>\n",
              "      <td>1.352917</td>\n",
              "      <td>0.886429</td>\n",
              "    </tr>\n",
              "    <tr>\n",
              "      <th>4</th>\n",
              "      <td>-2.001637</td>\n",
              "      <td>-0.371843</td>\n",
              "      <td>1.669025</td>\n",
              "      <td>-0.438570</td>\n",
              "    </tr>\n",
              "  </tbody>\n",
              "</table>\n",
              "</div>"
            ],
            "text/plain": [
              "          0         1         2         3\n",
              "0 -0.204708  0.478943 -0.519439 -0.555730\n",
              "1  1.965781  1.393406  0.092908  0.281746\n",
              "2  0.769023  1.246435  1.007189 -1.296221\n",
              "3  0.274992  0.228913  1.352917  0.886429\n",
              "4 -2.001637 -0.371843  1.669025 -0.438570"
            ]
          },
          "metadata": {
            "tags": []
          },
          "execution_count": 93
        }
      ]
    },
    {
      "cell_type": "code",
      "metadata": {
        "colab": {
          "base_uri": "https://localhost:8080/",
          "height": 195
        },
        "id": "d4cfap4KgjZV",
        "outputId": "bcc6dab8-34a7-4335-9d6f-b545d4e2b4f4"
      },
      "source": [
        "dframe.tail()"
      ],
      "execution_count": 94,
      "outputs": [
        {
          "output_type": "execute_result",
          "data": {
            "text/html": [
              "<div>\n",
              "<style scoped>\n",
              "    .dataframe tbody tr th:only-of-type {\n",
              "        vertical-align: middle;\n",
              "    }\n",
              "\n",
              "    .dataframe tbody tr th {\n",
              "        vertical-align: top;\n",
              "    }\n",
              "\n",
              "    .dataframe thead th {\n",
              "        text-align: right;\n",
              "    }\n",
              "</style>\n",
              "<table border=\"1\" class=\"dataframe\">\n",
              "  <thead>\n",
              "    <tr style=\"text-align: right;\">\n",
              "      <th></th>\n",
              "      <th>0</th>\n",
              "      <th>1</th>\n",
              "      <th>2</th>\n",
              "      <th>3</th>\n",
              "    </tr>\n",
              "  </thead>\n",
              "  <tbody>\n",
              "    <tr>\n",
              "      <th>995</th>\n",
              "      <td>1.089085</td>\n",
              "      <td>0.251232</td>\n",
              "      <td>-1.451985</td>\n",
              "      <td>1.653126</td>\n",
              "    </tr>\n",
              "    <tr>\n",
              "      <th>996</th>\n",
              "      <td>-0.478509</td>\n",
              "      <td>-0.010663</td>\n",
              "      <td>-1.060881</td>\n",
              "      <td>-1.502870</td>\n",
              "    </tr>\n",
              "    <tr>\n",
              "      <th>997</th>\n",
              "      <td>-1.946267</td>\n",
              "      <td>1.013592</td>\n",
              "      <td>0.037333</td>\n",
              "      <td>0.133304</td>\n",
              "    </tr>\n",
              "    <tr>\n",
              "      <th>998</th>\n",
              "      <td>-1.293122</td>\n",
              "      <td>-0.322542</td>\n",
              "      <td>-0.782960</td>\n",
              "      <td>-0.303340</td>\n",
              "    </tr>\n",
              "    <tr>\n",
              "      <th>999</th>\n",
              "      <td>0.089987</td>\n",
              "      <td>0.292291</td>\n",
              "      <td>1.177706</td>\n",
              "      <td>0.882755</td>\n",
              "    </tr>\n",
              "  </tbody>\n",
              "</table>\n",
              "</div>"
            ],
            "text/plain": [
              "            0         1         2         3\n",
              "995  1.089085  0.251232 -1.451985  1.653126\n",
              "996 -0.478509 -0.010663 -1.060881 -1.502870\n",
              "997 -1.946267  1.013592  0.037333  0.133304\n",
              "998 -1.293122 -0.322542 -0.782960 -0.303340\n",
              "999  0.089987  0.292291  1.177706  0.882755"
            ]
          },
          "metadata": {
            "tags": []
          },
          "execution_count": 94
        }
      ]
    },
    {
      "cell_type": "code",
      "metadata": {
        "colab": {
          "base_uri": "https://localhost:8080/",
          "height": 284
        },
        "id": "Cr2SQ4FbguYw",
        "outputId": "032fe7f3-4d58-4ac6-e073-7ca5f17e412e"
      },
      "source": [
        "dframe.describe()"
      ],
      "execution_count": 95,
      "outputs": [
        {
          "output_type": "execute_result",
          "data": {
            "text/html": [
              "<div>\n",
              "<style scoped>\n",
              "    .dataframe tbody tr th:only-of-type {\n",
              "        vertical-align: middle;\n",
              "    }\n",
              "\n",
              "    .dataframe tbody tr th {\n",
              "        vertical-align: top;\n",
              "    }\n",
              "\n",
              "    .dataframe thead th {\n",
              "        text-align: right;\n",
              "    }\n",
              "</style>\n",
              "<table border=\"1\" class=\"dataframe\">\n",
              "  <thead>\n",
              "    <tr style=\"text-align: right;\">\n",
              "      <th></th>\n",
              "      <th>0</th>\n",
              "      <th>1</th>\n",
              "      <th>2</th>\n",
              "      <th>3</th>\n",
              "    </tr>\n",
              "  </thead>\n",
              "  <tbody>\n",
              "    <tr>\n",
              "      <th>count</th>\n",
              "      <td>1000.000000</td>\n",
              "      <td>1000.000000</td>\n",
              "      <td>1000.000000</td>\n",
              "      <td>1000.000000</td>\n",
              "    </tr>\n",
              "    <tr>\n",
              "      <th>mean</th>\n",
              "      <td>-0.067684</td>\n",
              "      <td>0.067924</td>\n",
              "      <td>0.025598</td>\n",
              "      <td>-0.002298</td>\n",
              "    </tr>\n",
              "    <tr>\n",
              "      <th>std</th>\n",
              "      <td>0.998035</td>\n",
              "      <td>0.992106</td>\n",
              "      <td>1.006835</td>\n",
              "      <td>0.996794</td>\n",
              "    </tr>\n",
              "    <tr>\n",
              "      <th>min</th>\n",
              "      <td>-3.428254</td>\n",
              "      <td>-3.548824</td>\n",
              "      <td>-3.184377</td>\n",
              "      <td>-3.745356</td>\n",
              "    </tr>\n",
              "    <tr>\n",
              "      <th>25%</th>\n",
              "      <td>-0.774890</td>\n",
              "      <td>-0.591841</td>\n",
              "      <td>-0.641675</td>\n",
              "      <td>-0.644144</td>\n",
              "    </tr>\n",
              "    <tr>\n",
              "      <th>50%</th>\n",
              "      <td>-0.116401</td>\n",
              "      <td>0.101143</td>\n",
              "      <td>0.002073</td>\n",
              "      <td>-0.013611</td>\n",
              "    </tr>\n",
              "    <tr>\n",
              "      <th>75%</th>\n",
              "      <td>0.616366</td>\n",
              "      <td>0.780282</td>\n",
              "      <td>0.680391</td>\n",
              "      <td>0.654328</td>\n",
              "    </tr>\n",
              "    <tr>\n",
              "      <th>max</th>\n",
              "      <td>3.366626</td>\n",
              "      <td>2.653656</td>\n",
              "      <td>3.260383</td>\n",
              "      <td>3.927528</td>\n",
              "    </tr>\n",
              "  </tbody>\n",
              "</table>\n",
              "</div>"
            ],
            "text/plain": [
              "                 0            1            2            3\n",
              "count  1000.000000  1000.000000  1000.000000  1000.000000\n",
              "mean     -0.067684     0.067924     0.025598    -0.002298\n",
              "std       0.998035     0.992106     1.006835     0.996794\n",
              "min      -3.428254    -3.548824    -3.184377    -3.745356\n",
              "25%      -0.774890    -0.591841    -0.641675    -0.644144\n",
              "50%      -0.116401     0.101143     0.002073    -0.013611\n",
              "75%       0.616366     0.780282     0.680391     0.654328\n",
              "max       3.366626     2.653656     3.260383     3.927528"
            ]
          },
          "metadata": {
            "tags": []
          },
          "execution_count": 95
        }
      ]
    },
    {
      "cell_type": "code",
      "metadata": {
        "id": "kgLLbspjgwmt"
      },
      "source": [
        "col = dframe[0]"
      ],
      "execution_count": 96,
      "outputs": []
    },
    {
      "cell_type": "code",
      "metadata": {
        "colab": {
          "base_uri": "https://localhost:8080/"
        },
        "id": "fb1lSxFJg127",
        "outputId": "6db00384-5af4-4237-d4cd-55f0abb12819"
      },
      "source": [
        "col.head"
      ],
      "execution_count": 97,
      "outputs": [
        {
          "output_type": "execute_result",
          "data": {
            "text/plain": [
              "<bound method NDFrame.head of 0     -0.204708\n",
              "1      1.965781\n",
              "2      0.769023\n",
              "3      0.274992\n",
              "4     -2.001637\n",
              "         ...   \n",
              "995    1.089085\n",
              "996   -0.478509\n",
              "997   -1.946267\n",
              "998   -1.293122\n",
              "999    0.089987\n",
              "Name: 0, Length: 1000, dtype: float64>"
            ]
          },
          "metadata": {
            "tags": []
          },
          "execution_count": 97
        }
      ]
    },
    {
      "cell_type": "code",
      "metadata": {
        "colab": {
          "base_uri": "https://localhost:8080/"
        },
        "id": "BsF-K0zlg3QY",
        "outputId": "4ca94783-737e-4a7c-eed7-4fd08588de20"
      },
      "source": [
        "col[np.abs(col)>3]"
      ],
      "execution_count": 98,
      "outputs": [
        {
          "output_type": "execute_result",
          "data": {
            "text/plain": [
              "523   -3.428254\n",
              "900    3.366626\n",
              "Name: 0, dtype: float64"
            ]
          },
          "metadata": {
            "tags": []
          },
          "execution_count": 98
        }
      ]
    },
    {
      "cell_type": "code",
      "metadata": {
        "colab": {
          "base_uri": "https://localhost:8080/",
          "height": 373
        },
        "id": "i2_oX--ShCWm",
        "outputId": "c7d4eb62-3d38-4b71-8828-de51d564e1e8"
      },
      "source": [
        "dframe[(np.abs(dframe)>3).any(1)]"
      ],
      "execution_count": 99,
      "outputs": [
        {
          "output_type": "execute_result",
          "data": {
            "text/html": [
              "<div>\n",
              "<style scoped>\n",
              "    .dataframe tbody tr th:only-of-type {\n",
              "        vertical-align: middle;\n",
              "    }\n",
              "\n",
              "    .dataframe tbody tr th {\n",
              "        vertical-align: top;\n",
              "    }\n",
              "\n",
              "    .dataframe thead th {\n",
              "        text-align: right;\n",
              "    }\n",
              "</style>\n",
              "<table border=\"1\" class=\"dataframe\">\n",
              "  <thead>\n",
              "    <tr style=\"text-align: right;\">\n",
              "      <th></th>\n",
              "      <th>0</th>\n",
              "      <th>1</th>\n",
              "      <th>2</th>\n",
              "      <th>3</th>\n",
              "    </tr>\n",
              "  </thead>\n",
              "  <tbody>\n",
              "    <tr>\n",
              "      <th>5</th>\n",
              "      <td>-0.539741</td>\n",
              "      <td>0.476985</td>\n",
              "      <td>3.248944</td>\n",
              "      <td>-1.021228</td>\n",
              "    </tr>\n",
              "    <tr>\n",
              "      <th>97</th>\n",
              "      <td>-0.774363</td>\n",
              "      <td>0.552936</td>\n",
              "      <td>0.106061</td>\n",
              "      <td>3.927528</td>\n",
              "    </tr>\n",
              "    <tr>\n",
              "      <th>102</th>\n",
              "      <td>-0.655054</td>\n",
              "      <td>-0.565230</td>\n",
              "      <td>3.176873</td>\n",
              "      <td>0.959533</td>\n",
              "    </tr>\n",
              "    <tr>\n",
              "      <th>305</th>\n",
              "      <td>-2.315555</td>\n",
              "      <td>0.457246</td>\n",
              "      <td>-0.025907</td>\n",
              "      <td>-3.399312</td>\n",
              "    </tr>\n",
              "    <tr>\n",
              "      <th>324</th>\n",
              "      <td>0.050188</td>\n",
              "      <td>1.951312</td>\n",
              "      <td>3.260383</td>\n",
              "      <td>0.963301</td>\n",
              "    </tr>\n",
              "    <tr>\n",
              "      <th>400</th>\n",
              "      <td>0.146326</td>\n",
              "      <td>0.508391</td>\n",
              "      <td>-0.196713</td>\n",
              "      <td>-3.745356</td>\n",
              "    </tr>\n",
              "    <tr>\n",
              "      <th>499</th>\n",
              "      <td>-0.293333</td>\n",
              "      <td>-0.242459</td>\n",
              "      <td>-3.056990</td>\n",
              "      <td>1.918403</td>\n",
              "    </tr>\n",
              "    <tr>\n",
              "      <th>523</th>\n",
              "      <td>-3.428254</td>\n",
              "      <td>-0.296336</td>\n",
              "      <td>-0.439938</td>\n",
              "      <td>-0.867165</td>\n",
              "    </tr>\n",
              "    <tr>\n",
              "      <th>586</th>\n",
              "      <td>0.275144</td>\n",
              "      <td>1.179227</td>\n",
              "      <td>-3.184377</td>\n",
              "      <td>1.369891</td>\n",
              "    </tr>\n",
              "    <tr>\n",
              "      <th>808</th>\n",
              "      <td>-0.362528</td>\n",
              "      <td>-3.548824</td>\n",
              "      <td>1.553205</td>\n",
              "      <td>-2.186301</td>\n",
              "    </tr>\n",
              "    <tr>\n",
              "      <th>900</th>\n",
              "      <td>3.366626</td>\n",
              "      <td>-2.372214</td>\n",
              "      <td>0.851010</td>\n",
              "      <td>1.332846</td>\n",
              "    </tr>\n",
              "  </tbody>\n",
              "</table>\n",
              "</div>"
            ],
            "text/plain": [
              "            0         1         2         3\n",
              "5   -0.539741  0.476985  3.248944 -1.021228\n",
              "97  -0.774363  0.552936  0.106061  3.927528\n",
              "102 -0.655054 -0.565230  3.176873  0.959533\n",
              "305 -2.315555  0.457246 -0.025907 -3.399312\n",
              "324  0.050188  1.951312  3.260383  0.963301\n",
              "400  0.146326  0.508391 -0.196713 -3.745356\n",
              "499 -0.293333 -0.242459 -3.056990  1.918403\n",
              "523 -3.428254 -0.296336 -0.439938 -0.867165\n",
              "586  0.275144  1.179227 -3.184377  1.369891\n",
              "808 -0.362528 -3.548824  1.553205 -2.186301\n",
              "900  3.366626 -2.372214  0.851010  1.332846"
            ]
          },
          "metadata": {
            "tags": []
          },
          "execution_count": 99
        }
      ]
    },
    {
      "cell_type": "code",
      "metadata": {
        "id": "3iXTTANrhR9-"
      },
      "source": [
        "dframe[(np.abs(dframe)>3)] = np.sign(dframe)*3"
      ],
      "execution_count": 101,
      "outputs": []
    },
    {
      "cell_type": "code",
      "metadata": {
        "colab": {
          "base_uri": "https://localhost:8080/",
          "height": 284
        },
        "id": "uzLtBkRdhn43",
        "outputId": "2d5f9e7d-c8ca-49f6-8cf9-9d5f0c9b5644"
      },
      "source": [
        "dframe.describe()"
      ],
      "execution_count": 102,
      "outputs": [
        {
          "output_type": "execute_result",
          "data": {
            "text/html": [
              "<div>\n",
              "<style scoped>\n",
              "    .dataframe tbody tr th:only-of-type {\n",
              "        vertical-align: middle;\n",
              "    }\n",
              "\n",
              "    .dataframe tbody tr th {\n",
              "        vertical-align: top;\n",
              "    }\n",
              "\n",
              "    .dataframe thead th {\n",
              "        text-align: right;\n",
              "    }\n",
              "</style>\n",
              "<table border=\"1\" class=\"dataframe\">\n",
              "  <thead>\n",
              "    <tr style=\"text-align: right;\">\n",
              "      <th></th>\n",
              "      <th>0</th>\n",
              "      <th>1</th>\n",
              "      <th>2</th>\n",
              "      <th>3</th>\n",
              "    </tr>\n",
              "  </thead>\n",
              "  <tbody>\n",
              "    <tr>\n",
              "      <th>count</th>\n",
              "      <td>1000.000000</td>\n",
              "      <td>1000.000000</td>\n",
              "      <td>1000.000000</td>\n",
              "      <td>1000.000000</td>\n",
              "    </tr>\n",
              "    <tr>\n",
              "      <th>mean</th>\n",
              "      <td>-0.067623</td>\n",
              "      <td>0.068473</td>\n",
              "      <td>0.025153</td>\n",
              "      <td>-0.002081</td>\n",
              "    </tr>\n",
              "    <tr>\n",
              "      <th>std</th>\n",
              "      <td>0.995485</td>\n",
              "      <td>0.990253</td>\n",
              "      <td>1.003977</td>\n",
              "      <td>0.989736</td>\n",
              "    </tr>\n",
              "    <tr>\n",
              "      <th>min</th>\n",
              "      <td>-3.000000</td>\n",
              "      <td>-3.000000</td>\n",
              "      <td>-3.000000</td>\n",
              "      <td>-3.000000</td>\n",
              "    </tr>\n",
              "    <tr>\n",
              "      <th>25%</th>\n",
              "      <td>-0.774890</td>\n",
              "      <td>-0.591841</td>\n",
              "      <td>-0.641675</td>\n",
              "      <td>-0.644144</td>\n",
              "    </tr>\n",
              "    <tr>\n",
              "      <th>50%</th>\n",
              "      <td>-0.116401</td>\n",
              "      <td>0.101143</td>\n",
              "      <td>0.002073</td>\n",
              "      <td>-0.013611</td>\n",
              "    </tr>\n",
              "    <tr>\n",
              "      <th>75%</th>\n",
              "      <td>0.616366</td>\n",
              "      <td>0.780282</td>\n",
              "      <td>0.680391</td>\n",
              "      <td>0.654328</td>\n",
              "    </tr>\n",
              "    <tr>\n",
              "      <th>max</th>\n",
              "      <td>3.000000</td>\n",
              "      <td>2.653656</td>\n",
              "      <td>3.000000</td>\n",
              "      <td>3.000000</td>\n",
              "    </tr>\n",
              "  </tbody>\n",
              "</table>\n",
              "</div>"
            ],
            "text/plain": [
              "                 0            1            2            3\n",
              "count  1000.000000  1000.000000  1000.000000  1000.000000\n",
              "mean     -0.067623     0.068473     0.025153    -0.002081\n",
              "std       0.995485     0.990253     1.003977     0.989736\n",
              "min      -3.000000    -3.000000    -3.000000    -3.000000\n",
              "25%      -0.774890    -0.591841    -0.641675    -0.644144\n",
              "50%      -0.116401     0.101143     0.002073    -0.013611\n",
              "75%       0.616366     0.780282     0.680391     0.654328\n",
              "max       3.000000     2.653656     3.000000     3.000000"
            ]
          },
          "metadata": {
            "tags": []
          },
          "execution_count": 102
        }
      ]
    },
    {
      "cell_type": "markdown",
      "metadata": {
        "id": "LHGvcDkyh22P"
      },
      "source": [
        "# Permutation"
      ]
    },
    {
      "cell_type": "code",
      "metadata": {
        "id": "WiqlhZnRhvNm"
      },
      "source": [
        "dframe =DataFrame(np.arange(16).reshape(4,4))"
      ],
      "execution_count": 103,
      "outputs": []
    },
    {
      "cell_type": "code",
      "metadata": {
        "colab": {
          "base_uri": "https://localhost:8080/",
          "height": 166
        },
        "id": "3JU7mBajiHFe",
        "outputId": "542e8230-890a-411c-df5d-62ebfd4bc557"
      },
      "source": [
        "dframe"
      ],
      "execution_count": 104,
      "outputs": [
        {
          "output_type": "execute_result",
          "data": {
            "text/html": [
              "<div>\n",
              "<style scoped>\n",
              "    .dataframe tbody tr th:only-of-type {\n",
              "        vertical-align: middle;\n",
              "    }\n",
              "\n",
              "    .dataframe tbody tr th {\n",
              "        vertical-align: top;\n",
              "    }\n",
              "\n",
              "    .dataframe thead th {\n",
              "        text-align: right;\n",
              "    }\n",
              "</style>\n",
              "<table border=\"1\" class=\"dataframe\">\n",
              "  <thead>\n",
              "    <tr style=\"text-align: right;\">\n",
              "      <th></th>\n",
              "      <th>0</th>\n",
              "      <th>1</th>\n",
              "      <th>2</th>\n",
              "      <th>3</th>\n",
              "    </tr>\n",
              "  </thead>\n",
              "  <tbody>\n",
              "    <tr>\n",
              "      <th>0</th>\n",
              "      <td>0</td>\n",
              "      <td>1</td>\n",
              "      <td>2</td>\n",
              "      <td>3</td>\n",
              "    </tr>\n",
              "    <tr>\n",
              "      <th>1</th>\n",
              "      <td>4</td>\n",
              "      <td>5</td>\n",
              "      <td>6</td>\n",
              "      <td>7</td>\n",
              "    </tr>\n",
              "    <tr>\n",
              "      <th>2</th>\n",
              "      <td>8</td>\n",
              "      <td>9</td>\n",
              "      <td>10</td>\n",
              "      <td>11</td>\n",
              "    </tr>\n",
              "    <tr>\n",
              "      <th>3</th>\n",
              "      <td>12</td>\n",
              "      <td>13</td>\n",
              "      <td>14</td>\n",
              "      <td>15</td>\n",
              "    </tr>\n",
              "  </tbody>\n",
              "</table>\n",
              "</div>"
            ],
            "text/plain": [
              "    0   1   2   3\n",
              "0   0   1   2   3\n",
              "1   4   5   6   7\n",
              "2   8   9  10  11\n",
              "3  12  13  14  15"
            ]
          },
          "metadata": {
            "tags": []
          },
          "execution_count": 104
        }
      ]
    },
    {
      "cell_type": "code",
      "metadata": {
        "id": "lDfRCIaeiH1t"
      },
      "source": [
        "blender = np.random.permutation(4)"
      ],
      "execution_count": 105,
      "outputs": []
    },
    {
      "cell_type": "code",
      "metadata": {
        "colab": {
          "base_uri": "https://localhost:8080/"
        },
        "id": "c5Q-De5TiOZ3",
        "outputId": "c8424854-93f4-4e6f-c185-bedb1f6feb45"
      },
      "source": [
        "blender"
      ],
      "execution_count": 106,
      "outputs": [
        {
          "output_type": "execute_result",
          "data": {
            "text/plain": [
              "array([1, 3, 2, 0])"
            ]
          },
          "metadata": {
            "tags": []
          },
          "execution_count": 106
        }
      ]
    },
    {
      "cell_type": "code",
      "metadata": {
        "colab": {
          "base_uri": "https://localhost:8080/",
          "height": 166
        },
        "id": "41gyUSueiPzu",
        "outputId": "c5913643-2546-4096-85c7-7f9579c27357"
      },
      "source": [
        "dframe.take(blender)"
      ],
      "execution_count": 107,
      "outputs": [
        {
          "output_type": "execute_result",
          "data": {
            "text/html": [
              "<div>\n",
              "<style scoped>\n",
              "    .dataframe tbody tr th:only-of-type {\n",
              "        vertical-align: middle;\n",
              "    }\n",
              "\n",
              "    .dataframe tbody tr th {\n",
              "        vertical-align: top;\n",
              "    }\n",
              "\n",
              "    .dataframe thead th {\n",
              "        text-align: right;\n",
              "    }\n",
              "</style>\n",
              "<table border=\"1\" class=\"dataframe\">\n",
              "  <thead>\n",
              "    <tr style=\"text-align: right;\">\n",
              "      <th></th>\n",
              "      <th>0</th>\n",
              "      <th>1</th>\n",
              "      <th>2</th>\n",
              "      <th>3</th>\n",
              "    </tr>\n",
              "  </thead>\n",
              "  <tbody>\n",
              "    <tr>\n",
              "      <th>1</th>\n",
              "      <td>4</td>\n",
              "      <td>5</td>\n",
              "      <td>6</td>\n",
              "      <td>7</td>\n",
              "    </tr>\n",
              "    <tr>\n",
              "      <th>3</th>\n",
              "      <td>12</td>\n",
              "      <td>13</td>\n",
              "      <td>14</td>\n",
              "      <td>15</td>\n",
              "    </tr>\n",
              "    <tr>\n",
              "      <th>2</th>\n",
              "      <td>8</td>\n",
              "      <td>9</td>\n",
              "      <td>10</td>\n",
              "      <td>11</td>\n",
              "    </tr>\n",
              "    <tr>\n",
              "      <th>0</th>\n",
              "      <td>0</td>\n",
              "      <td>1</td>\n",
              "      <td>2</td>\n",
              "      <td>3</td>\n",
              "    </tr>\n",
              "  </tbody>\n",
              "</table>\n",
              "</div>"
            ],
            "text/plain": [
              "    0   1   2   3\n",
              "1   4   5   6   7\n",
              "3  12  13  14  15\n",
              "2   8   9  10  11\n",
              "0   0   1   2   3"
            ]
          },
          "metadata": {
            "tags": []
          },
          "execution_count": 107
        }
      ]
    },
    {
      "cell_type": "code",
      "metadata": {
        "id": "017eq-raiaF-"
      },
      "source": [
        "box = np.array([1,2,3])"
      ],
      "execution_count": 111,
      "outputs": []
    },
    {
      "cell_type": "code",
      "metadata": {
        "id": "RU6iHjdCinOv"
      },
      "source": [
        "shaker = np.random.randint(0,len(box),size=10)"
      ],
      "execution_count": 112,
      "outputs": []
    },
    {
      "cell_type": "code",
      "metadata": {
        "colab": {
          "base_uri": "https://localhost:8080/"
        },
        "id": "saRleeEmiz6n",
        "outputId": "068bdb6f-abed-4f36-f007-45f9ea1d8285"
      },
      "source": [
        "shaker"
      ],
      "execution_count": 113,
      "outputs": [
        {
          "output_type": "execute_result",
          "data": {
            "text/plain": [
              "array([2, 0, 2, 0, 2, 0, 2, 0, 2, 2])"
            ]
          },
          "metadata": {
            "tags": []
          },
          "execution_count": 113
        }
      ]
    },
    {
      "cell_type": "code",
      "metadata": {
        "id": "vQr3bmWhi9Lv"
      },
      "source": [
        "hand_grabs = box.take(shaker)"
      ],
      "execution_count": 114,
      "outputs": []
    },
    {
      "cell_type": "code",
      "metadata": {
        "colab": {
          "base_uri": "https://localhost:8080/"
        },
        "id": "G6H-NgGxjI9W",
        "outputId": "df019b15-6ed9-48a5-db3f-f85aa334afe9"
      },
      "source": [
        "hand_grabs"
      ],
      "execution_count": 115,
      "outputs": [
        {
          "output_type": "execute_result",
          "data": {
            "text/plain": [
              "array([3, 1, 3, 1, 3, 1, 3, 1, 3, 3])"
            ]
          },
          "metadata": {
            "tags": []
          },
          "execution_count": 115
        }
      ]
    },
    {
      "cell_type": "markdown",
      "metadata": {
        "id": "xcJcXqnejarI"
      },
      "source": [
        "# Grop By on Dataframes"
      ]
    },
    {
      "cell_type": "code",
      "metadata": {
        "id": "PxeG2yl1jJ3m"
      },
      "source": [
        "dframe = DataFrame({'key1':['x','x','y','y','z'], 'key2':['alpha','beta','alpha','beta','alpha'], 'dataset1':np.random.randn(5), 'dataset2':np.random.randn(5)})"
      ],
      "execution_count": 117,
      "outputs": []
    },
    {
      "cell_type": "code",
      "metadata": {
        "colab": {
          "base_uri": "https://localhost:8080/",
          "height": 195
        },
        "id": "tptYkap0jnYr",
        "outputId": "b076396b-54dd-4853-8974-356661b17c97"
      },
      "source": [
        "dframe"
      ],
      "execution_count": 118,
      "outputs": [
        {
          "output_type": "execute_result",
          "data": {
            "text/html": [
              "<div>\n",
              "<style scoped>\n",
              "    .dataframe tbody tr th:only-of-type {\n",
              "        vertical-align: middle;\n",
              "    }\n",
              "\n",
              "    .dataframe tbody tr th {\n",
              "        vertical-align: top;\n",
              "    }\n",
              "\n",
              "    .dataframe thead th {\n",
              "        text-align: right;\n",
              "    }\n",
              "</style>\n",
              "<table border=\"1\" class=\"dataframe\">\n",
              "  <thead>\n",
              "    <tr style=\"text-align: right;\">\n",
              "      <th></th>\n",
              "      <th>key1</th>\n",
              "      <th>key2</th>\n",
              "      <th>dataset1</th>\n",
              "      <th>dataset2</th>\n",
              "    </tr>\n",
              "  </thead>\n",
              "  <tbody>\n",
              "    <tr>\n",
              "      <th>0</th>\n",
              "      <td>x</td>\n",
              "      <td>alpha</td>\n",
              "      <td>0.779515</td>\n",
              "      <td>0.159703</td>\n",
              "    </tr>\n",
              "    <tr>\n",
              "      <th>1</th>\n",
              "      <td>x</td>\n",
              "      <td>beta</td>\n",
              "      <td>-2.453088</td>\n",
              "      <td>0.101103</td>\n",
              "    </tr>\n",
              "    <tr>\n",
              "      <th>2</th>\n",
              "      <td>y</td>\n",
              "      <td>alpha</td>\n",
              "      <td>0.689468</td>\n",
              "      <td>-0.087746</td>\n",
              "    </tr>\n",
              "    <tr>\n",
              "      <th>3</th>\n",
              "      <td>y</td>\n",
              "      <td>beta</td>\n",
              "      <td>0.280517</td>\n",
              "      <td>-0.658604</td>\n",
              "    </tr>\n",
              "    <tr>\n",
              "      <th>4</th>\n",
              "      <td>z</td>\n",
              "      <td>alpha</td>\n",
              "      <td>1.622469</td>\n",
              "      <td>0.497419</td>\n",
              "    </tr>\n",
              "  </tbody>\n",
              "</table>\n",
              "</div>"
            ],
            "text/plain": [
              "  key1   key2  dataset1  dataset2\n",
              "0    x  alpha  0.779515  0.159703\n",
              "1    x   beta -2.453088  0.101103\n",
              "2    y  alpha  0.689468 -0.087746\n",
              "3    y   beta  0.280517 -0.658604\n",
              "4    z  alpha  1.622469  0.497419"
            ]
          },
          "metadata": {
            "tags": []
          },
          "execution_count": 118
        }
      ]
    },
    {
      "cell_type": "code",
      "metadata": {
        "id": "nJlNJub6kE-W"
      },
      "source": [
        "group1 = dframe['dataset1'].groupby(dframe['key1'])"
      ],
      "execution_count": 120,
      "outputs": []
    },
    {
      "cell_type": "code",
      "metadata": {
        "colab": {
          "base_uri": "https://localhost:8080/"
        },
        "id": "jsRWK_7nkZXu",
        "outputId": "b2624a90-2592-4bd5-c41e-3acff472f287"
      },
      "source": [
        "group1"
      ],
      "execution_count": 121,
      "outputs": [
        {
          "output_type": "execute_result",
          "data": {
            "text/plain": [
              "<pandas.core.groupby.generic.SeriesGroupBy object at 0x7f257d332990>"
            ]
          },
          "metadata": {
            "tags": []
          },
          "execution_count": 121
        }
      ]
    },
    {
      "cell_type": "code",
      "metadata": {
        "colab": {
          "base_uri": "https://localhost:8080/"
        },
        "id": "_f0L0yEykcEl",
        "outputId": "1011444e-a443-4c5e-dc80-16262d64b907"
      },
      "source": [
        "group1.mean()"
      ],
      "execution_count": 122,
      "outputs": [
        {
          "output_type": "execute_result",
          "data": {
            "text/plain": [
              "key1\n",
              "x   -0.836786\n",
              "y    0.484992\n",
              "z    1.622469\n",
              "Name: dataset1, dtype: float64"
            ]
          },
          "metadata": {
            "tags": []
          },
          "execution_count": 122
        }
      ]
    },
    {
      "cell_type": "code",
      "metadata": {
        "id": "NFIMhFrhkfwn"
      },
      "source": [
        "cities = np.array(['ny','la','la','ny','ny'])"
      ],
      "execution_count": 123,
      "outputs": []
    },
    {
      "cell_type": "code",
      "metadata": {
        "id": "7OEBCEstks-9"
      },
      "source": [
        "month =np.array(['jan','feb','jan','feb','jan'])"
      ],
      "execution_count": 124,
      "outputs": []
    },
    {
      "cell_type": "code",
      "metadata": {
        "colab": {
          "base_uri": "https://localhost:8080/"
        },
        "id": "jVim55tfk2s_",
        "outputId": "5ef1813c-1f50-4c88-9f38-950a7135297e"
      },
      "source": [
        "dframe['dataset1'].groupby([cities,month]).mean()"
      ],
      "execution_count": 125,
      "outputs": [
        {
          "output_type": "execute_result",
          "data": {
            "text/plain": [
              "la  feb   -2.453088\n",
              "    jan    0.689468\n",
              "ny  feb    0.280517\n",
              "    jan    1.200992\n",
              "Name: dataset1, dtype: float64"
            ]
          },
          "metadata": {
            "tags": []
          },
          "execution_count": 125
        }
      ]
    },
    {
      "cell_type": "code",
      "metadata": {
        "colab": {
          "base_uri": "https://localhost:8080/",
          "height": 195
        },
        "id": "zRC64LMvlAhP",
        "outputId": "2d91be8b-196e-423f-da0a-88ee67d41412"
      },
      "source": [
        "dframe"
      ],
      "execution_count": 126,
      "outputs": [
        {
          "output_type": "execute_result",
          "data": {
            "text/html": [
              "<div>\n",
              "<style scoped>\n",
              "    .dataframe tbody tr th:only-of-type {\n",
              "        vertical-align: middle;\n",
              "    }\n",
              "\n",
              "    .dataframe tbody tr th {\n",
              "        vertical-align: top;\n",
              "    }\n",
              "\n",
              "    .dataframe thead th {\n",
              "        text-align: right;\n",
              "    }\n",
              "</style>\n",
              "<table border=\"1\" class=\"dataframe\">\n",
              "  <thead>\n",
              "    <tr style=\"text-align: right;\">\n",
              "      <th></th>\n",
              "      <th>key1</th>\n",
              "      <th>key2</th>\n",
              "      <th>dataset1</th>\n",
              "      <th>dataset2</th>\n",
              "    </tr>\n",
              "  </thead>\n",
              "  <tbody>\n",
              "    <tr>\n",
              "      <th>0</th>\n",
              "      <td>x</td>\n",
              "      <td>alpha</td>\n",
              "      <td>0.779515</td>\n",
              "      <td>0.159703</td>\n",
              "    </tr>\n",
              "    <tr>\n",
              "      <th>1</th>\n",
              "      <td>x</td>\n",
              "      <td>beta</td>\n",
              "      <td>-2.453088</td>\n",
              "      <td>0.101103</td>\n",
              "    </tr>\n",
              "    <tr>\n",
              "      <th>2</th>\n",
              "      <td>y</td>\n",
              "      <td>alpha</td>\n",
              "      <td>0.689468</td>\n",
              "      <td>-0.087746</td>\n",
              "    </tr>\n",
              "    <tr>\n",
              "      <th>3</th>\n",
              "      <td>y</td>\n",
              "      <td>beta</td>\n",
              "      <td>0.280517</td>\n",
              "      <td>-0.658604</td>\n",
              "    </tr>\n",
              "    <tr>\n",
              "      <th>4</th>\n",
              "      <td>z</td>\n",
              "      <td>alpha</td>\n",
              "      <td>1.622469</td>\n",
              "      <td>0.497419</td>\n",
              "    </tr>\n",
              "  </tbody>\n",
              "</table>\n",
              "</div>"
            ],
            "text/plain": [
              "  key1   key2  dataset1  dataset2\n",
              "0    x  alpha  0.779515  0.159703\n",
              "1    x   beta -2.453088  0.101103\n",
              "2    y  alpha  0.689468 -0.087746\n",
              "3    y   beta  0.280517 -0.658604\n",
              "4    z  alpha  1.622469  0.497419"
            ]
          },
          "metadata": {
            "tags": []
          },
          "execution_count": 126
        }
      ]
    },
    {
      "cell_type": "code",
      "metadata": {
        "colab": {
          "base_uri": "https://localhost:8080/",
          "height": 166
        },
        "id": "an7v4M8_lGQd",
        "outputId": "b5faff98-a8bb-43f3-b0a1-9e4d8d293027"
      },
      "source": [
        "dframe.groupby('key1').mean()"
      ],
      "execution_count": 127,
      "outputs": [
        {
          "output_type": "execute_result",
          "data": {
            "text/html": [
              "<div>\n",
              "<style scoped>\n",
              "    .dataframe tbody tr th:only-of-type {\n",
              "        vertical-align: middle;\n",
              "    }\n",
              "\n",
              "    .dataframe tbody tr th {\n",
              "        vertical-align: top;\n",
              "    }\n",
              "\n",
              "    .dataframe thead th {\n",
              "        text-align: right;\n",
              "    }\n",
              "</style>\n",
              "<table border=\"1\" class=\"dataframe\">\n",
              "  <thead>\n",
              "    <tr style=\"text-align: right;\">\n",
              "      <th></th>\n",
              "      <th>dataset1</th>\n",
              "      <th>dataset2</th>\n",
              "    </tr>\n",
              "    <tr>\n",
              "      <th>key1</th>\n",
              "      <th></th>\n",
              "      <th></th>\n",
              "    </tr>\n",
              "  </thead>\n",
              "  <tbody>\n",
              "    <tr>\n",
              "      <th>x</th>\n",
              "      <td>-0.836786</td>\n",
              "      <td>0.130403</td>\n",
              "    </tr>\n",
              "    <tr>\n",
              "      <th>y</th>\n",
              "      <td>0.484992</td>\n",
              "      <td>-0.373175</td>\n",
              "    </tr>\n",
              "    <tr>\n",
              "      <th>z</th>\n",
              "      <td>1.622469</td>\n",
              "      <td>0.497419</td>\n",
              "    </tr>\n",
              "  </tbody>\n",
              "</table>\n",
              "</div>"
            ],
            "text/plain": [
              "      dataset1  dataset2\n",
              "key1                    \n",
              "x    -0.836786  0.130403\n",
              "y     0.484992 -0.373175\n",
              "z     1.622469  0.497419"
            ]
          },
          "metadata": {
            "tags": []
          },
          "execution_count": 127
        }
      ]
    },
    {
      "cell_type": "code",
      "metadata": {
        "colab": {
          "base_uri": "https://localhost:8080/",
          "height": 225
        },
        "id": "5cGduKb2lM39",
        "outputId": "b598514f-78ee-497c-c800-97224d3aea8f"
      },
      "source": [
        "dframe.groupby(['key1','key2']).mean()"
      ],
      "execution_count": 128,
      "outputs": [
        {
          "output_type": "execute_result",
          "data": {
            "text/html": [
              "<div>\n",
              "<style scoped>\n",
              "    .dataframe tbody tr th:only-of-type {\n",
              "        vertical-align: middle;\n",
              "    }\n",
              "\n",
              "    .dataframe tbody tr th {\n",
              "        vertical-align: top;\n",
              "    }\n",
              "\n",
              "    .dataframe thead th {\n",
              "        text-align: right;\n",
              "    }\n",
              "</style>\n",
              "<table border=\"1\" class=\"dataframe\">\n",
              "  <thead>\n",
              "    <tr style=\"text-align: right;\">\n",
              "      <th></th>\n",
              "      <th></th>\n",
              "      <th>dataset1</th>\n",
              "      <th>dataset2</th>\n",
              "    </tr>\n",
              "    <tr>\n",
              "      <th>key1</th>\n",
              "      <th>key2</th>\n",
              "      <th></th>\n",
              "      <th></th>\n",
              "    </tr>\n",
              "  </thead>\n",
              "  <tbody>\n",
              "    <tr>\n",
              "      <th rowspan=\"2\" valign=\"top\">x</th>\n",
              "      <th>alpha</th>\n",
              "      <td>0.779515</td>\n",
              "      <td>0.159703</td>\n",
              "    </tr>\n",
              "    <tr>\n",
              "      <th>beta</th>\n",
              "      <td>-2.453088</td>\n",
              "      <td>0.101103</td>\n",
              "    </tr>\n",
              "    <tr>\n",
              "      <th rowspan=\"2\" valign=\"top\">y</th>\n",
              "      <th>alpha</th>\n",
              "      <td>0.689468</td>\n",
              "      <td>-0.087746</td>\n",
              "    </tr>\n",
              "    <tr>\n",
              "      <th>beta</th>\n",
              "      <td>0.280517</td>\n",
              "      <td>-0.658604</td>\n",
              "    </tr>\n",
              "    <tr>\n",
              "      <th>z</th>\n",
              "      <th>alpha</th>\n",
              "      <td>1.622469</td>\n",
              "      <td>0.497419</td>\n",
              "    </tr>\n",
              "  </tbody>\n",
              "</table>\n",
              "</div>"
            ],
            "text/plain": [
              "            dataset1  dataset2\n",
              "key1 key2                     \n",
              "x    alpha  0.779515  0.159703\n",
              "     beta  -2.453088  0.101103\n",
              "y    alpha  0.689468 -0.087746\n",
              "     beta   0.280517 -0.658604\n",
              "z    alpha  1.622469  0.497419"
            ]
          },
          "metadata": {
            "tags": []
          },
          "execution_count": 128
        }
      ]
    },
    {
      "cell_type": "code",
      "metadata": {
        "colab": {
          "base_uri": "https://localhost:8080/"
        },
        "id": "14WFudbvmuLt",
        "outputId": "650c73e3-e54d-44fc-ff4b-eaef370f2c70"
      },
      "source": [
        "dframe.groupby(['key1']).size()"
      ],
      "execution_count": 135,
      "outputs": [
        {
          "output_type": "execute_result",
          "data": {
            "text/plain": [
              "key1\n",
              "x    2\n",
              "y    2\n",
              "z    1\n",
              "dtype: int64"
            ]
          },
          "metadata": {
            "tags": []
          },
          "execution_count": 135
        }
      ]
    },
    {
      "cell_type": "code",
      "metadata": {
        "colab": {
          "base_uri": "https://localhost:8080/",
          "height": 195
        },
        "id": "nJMIC25jm3Wh",
        "outputId": "5796988f-3fd2-4739-88a8-dc0af61426d6"
      },
      "source": [
        "dframe"
      ],
      "execution_count": 136,
      "outputs": [
        {
          "output_type": "execute_result",
          "data": {
            "text/html": [
              "<div>\n",
              "<style scoped>\n",
              "    .dataframe tbody tr th:only-of-type {\n",
              "        vertical-align: middle;\n",
              "    }\n",
              "\n",
              "    .dataframe tbody tr th {\n",
              "        vertical-align: top;\n",
              "    }\n",
              "\n",
              "    .dataframe thead th {\n",
              "        text-align: right;\n",
              "    }\n",
              "</style>\n",
              "<table border=\"1\" class=\"dataframe\">\n",
              "  <thead>\n",
              "    <tr style=\"text-align: right;\">\n",
              "      <th></th>\n",
              "      <th>key1</th>\n",
              "      <th>key2</th>\n",
              "      <th>dataset1</th>\n",
              "      <th>dataset2</th>\n",
              "    </tr>\n",
              "  </thead>\n",
              "  <tbody>\n",
              "    <tr>\n",
              "      <th>0</th>\n",
              "      <td>x</td>\n",
              "      <td>alpha</td>\n",
              "      <td>0.779515</td>\n",
              "      <td>0.159703</td>\n",
              "    </tr>\n",
              "    <tr>\n",
              "      <th>1</th>\n",
              "      <td>x</td>\n",
              "      <td>beta</td>\n",
              "      <td>-2.453088</td>\n",
              "      <td>0.101103</td>\n",
              "    </tr>\n",
              "    <tr>\n",
              "      <th>2</th>\n",
              "      <td>y</td>\n",
              "      <td>alpha</td>\n",
              "      <td>0.689468</td>\n",
              "      <td>-0.087746</td>\n",
              "    </tr>\n",
              "    <tr>\n",
              "      <th>3</th>\n",
              "      <td>y</td>\n",
              "      <td>beta</td>\n",
              "      <td>0.280517</td>\n",
              "      <td>-0.658604</td>\n",
              "    </tr>\n",
              "    <tr>\n",
              "      <th>4</th>\n",
              "      <td>z</td>\n",
              "      <td>alpha</td>\n",
              "      <td>1.622469</td>\n",
              "      <td>0.497419</td>\n",
              "    </tr>\n",
              "  </tbody>\n",
              "</table>\n",
              "</div>"
            ],
            "text/plain": [
              "  key1   key2  dataset1  dataset2\n",
              "0    x  alpha  0.779515  0.159703\n",
              "1    x   beta -2.453088  0.101103\n",
              "2    y  alpha  0.689468 -0.087746\n",
              "3    y   beta  0.280517 -0.658604\n",
              "4    z  alpha  1.622469  0.497419"
            ]
          },
          "metadata": {
            "tags": []
          },
          "execution_count": 136
        }
      ]
    },
    {
      "cell_type": "code",
      "metadata": {
        "id": "Yzgrg1TX7k3R"
      },
      "source": [
        "group_dict = dict(list(dframe.groupby('key1')))"
      ],
      "execution_count": 152,
      "outputs": []
    },
    {
      "cell_type": "code",
      "metadata": {
        "colab": {
          "base_uri": "https://localhost:8080/",
          "height": 106
        },
        "id": "U8q4dGNX7-8-",
        "outputId": "91acfa5b-1ed9-4ebe-eeaa-3cb8adc80bd6"
      },
      "source": [
        "group_dict['x']"
      ],
      "execution_count": 153,
      "outputs": [
        {
          "output_type": "execute_result",
          "data": {
            "text/html": [
              "<div>\n",
              "<style scoped>\n",
              "    .dataframe tbody tr th:only-of-type {\n",
              "        vertical-align: middle;\n",
              "    }\n",
              "\n",
              "    .dataframe tbody tr th {\n",
              "        vertical-align: top;\n",
              "    }\n",
              "\n",
              "    .dataframe thead th {\n",
              "        text-align: right;\n",
              "    }\n",
              "</style>\n",
              "<table border=\"1\" class=\"dataframe\">\n",
              "  <thead>\n",
              "    <tr style=\"text-align: right;\">\n",
              "      <th></th>\n",
              "      <th>key1</th>\n",
              "      <th>key2</th>\n",
              "      <th>dataset1</th>\n",
              "      <th>dataset2</th>\n",
              "    </tr>\n",
              "  </thead>\n",
              "  <tbody>\n",
              "    <tr>\n",
              "      <th>0</th>\n",
              "      <td>x</td>\n",
              "      <td>alpha</td>\n",
              "      <td>0.779515</td>\n",
              "      <td>0.159703</td>\n",
              "    </tr>\n",
              "    <tr>\n",
              "      <th>1</th>\n",
              "      <td>x</td>\n",
              "      <td>beta</td>\n",
              "      <td>-2.453088</td>\n",
              "      <td>0.101103</td>\n",
              "    </tr>\n",
              "  </tbody>\n",
              "</table>\n",
              "</div>"
            ],
            "text/plain": [
              "  key1   key2  dataset1  dataset2\n",
              "0    x  alpha  0.779515  0.159703\n",
              "1    x   beta -2.453088  0.101103"
            ]
          },
          "metadata": {
            "tags": []
          },
          "execution_count": 153
        }
      ]
    },
    {
      "cell_type": "code",
      "metadata": {
        "id": "SlFKoX5n8IGZ"
      },
      "source": [
        "group_dict_axis1 = dict(list(dframe.groupby(dframe.dtypes,axis=1)))"
      ],
      "execution_count": 155,
      "outputs": []
    },
    {
      "cell_type": "code",
      "metadata": {
        "colab": {
          "base_uri": "https://localhost:8080/"
        },
        "id": "r3cbwdec8IJu",
        "outputId": "c7260ef2-8358-4f59-d46a-99f46a68c3f8"
      },
      "source": [
        "group_dict_axis1"
      ],
      "execution_count": 156,
      "outputs": [
        {
          "output_type": "execute_result",
          "data": {
            "text/plain": [
              "{dtype('float64'):    dataset1  dataset2\n",
              " 0  0.779515  0.159703\n",
              " 1 -2.453088  0.101103\n",
              " 2  0.689468 -0.087746\n",
              " 3  0.280517 -0.658604\n",
              " 4  1.622469  0.497419, dtype('O'):   key1   key2\n",
              " 0    x  alpha\n",
              " 1    x   beta\n",
              " 2    y  alpha\n",
              " 3    y   beta\n",
              " 4    z  alpha}"
            ]
          },
          "metadata": {
            "tags": []
          },
          "execution_count": 156
        }
      ]
    },
    {
      "cell_type": "code",
      "metadata": {
        "id": "LxmncpEL8dq2"
      },
      "source": [
        "dataset2_group = dframe.groupby(['key1','key2'])[['dataset2']]\n"
      ],
      "execution_count": 158,
      "outputs": []
    },
    {
      "cell_type": "code",
      "metadata": {
        "colab": {
          "base_uri": "https://localhost:8080/",
          "height": 225
        },
        "id": "mX2BbPB580V-",
        "outputId": "4bf42c1a-d738-4def-e0d9-188edded6782"
      },
      "source": [
        "dataset2_group.mean()"
      ],
      "execution_count": 160,
      "outputs": [
        {
          "output_type": "execute_result",
          "data": {
            "text/html": [
              "<div>\n",
              "<style scoped>\n",
              "    .dataframe tbody tr th:only-of-type {\n",
              "        vertical-align: middle;\n",
              "    }\n",
              "\n",
              "    .dataframe tbody tr th {\n",
              "        vertical-align: top;\n",
              "    }\n",
              "\n",
              "    .dataframe thead th {\n",
              "        text-align: right;\n",
              "    }\n",
              "</style>\n",
              "<table border=\"1\" class=\"dataframe\">\n",
              "  <thead>\n",
              "    <tr style=\"text-align: right;\">\n",
              "      <th></th>\n",
              "      <th></th>\n",
              "      <th>dataset2</th>\n",
              "    </tr>\n",
              "    <tr>\n",
              "      <th>key1</th>\n",
              "      <th>key2</th>\n",
              "      <th></th>\n",
              "    </tr>\n",
              "  </thead>\n",
              "  <tbody>\n",
              "    <tr>\n",
              "      <th rowspan=\"2\" valign=\"top\">x</th>\n",
              "      <th>alpha</th>\n",
              "      <td>0.159703</td>\n",
              "    </tr>\n",
              "    <tr>\n",
              "      <th>beta</th>\n",
              "      <td>0.101103</td>\n",
              "    </tr>\n",
              "    <tr>\n",
              "      <th rowspan=\"2\" valign=\"top\">y</th>\n",
              "      <th>alpha</th>\n",
              "      <td>-0.087746</td>\n",
              "    </tr>\n",
              "    <tr>\n",
              "      <th>beta</th>\n",
              "      <td>-0.658604</td>\n",
              "    </tr>\n",
              "    <tr>\n",
              "      <th>z</th>\n",
              "      <th>alpha</th>\n",
              "      <td>0.497419</td>\n",
              "    </tr>\n",
              "  </tbody>\n",
              "</table>\n",
              "</div>"
            ],
            "text/plain": [
              "            dataset2\n",
              "key1 key2           \n",
              "x    alpha  0.159703\n",
              "     beta   0.101103\n",
              "y    alpha -0.087746\n",
              "     beta  -0.658604\n",
              "z    alpha  0.497419"
            ]
          },
          "metadata": {
            "tags": []
          },
          "execution_count": 160
        }
      ]
    },
    {
      "cell_type": "markdown",
      "metadata": {
        "id": "yK9XRogB8_Qo"
      },
      "source": [
        "# Grouping with Dictionary and Series"
      ]
    },
    {
      "cell_type": "code",
      "metadata": {
        "id": "KxAe7Ajk85cV"
      },
      "source": [
        "animals = DataFrame(np.arange(16).reshape(4,4), columns = ['w','x','y','z'], index = ['dog','cat','bird','mouse'])"
      ],
      "execution_count": 162,
      "outputs": []
    },
    {
      "cell_type": "code",
      "metadata": {
        "colab": {
          "base_uri": "https://localhost:8080/",
          "height": 166
        },
        "id": "UqEjbe3G9kN-",
        "outputId": "ded542c2-0f15-4829-f19d-ee484bb1ba68"
      },
      "source": [
        "animals"
      ],
      "execution_count": 163,
      "outputs": [
        {
          "output_type": "execute_result",
          "data": {
            "text/html": [
              "<div>\n",
              "<style scoped>\n",
              "    .dataframe tbody tr th:only-of-type {\n",
              "        vertical-align: middle;\n",
              "    }\n",
              "\n",
              "    .dataframe tbody tr th {\n",
              "        vertical-align: top;\n",
              "    }\n",
              "\n",
              "    .dataframe thead th {\n",
              "        text-align: right;\n",
              "    }\n",
              "</style>\n",
              "<table border=\"1\" class=\"dataframe\">\n",
              "  <thead>\n",
              "    <tr style=\"text-align: right;\">\n",
              "      <th></th>\n",
              "      <th>w</th>\n",
              "      <th>x</th>\n",
              "      <th>y</th>\n",
              "      <th>z</th>\n",
              "    </tr>\n",
              "  </thead>\n",
              "  <tbody>\n",
              "    <tr>\n",
              "      <th>dog</th>\n",
              "      <td>0</td>\n",
              "      <td>1</td>\n",
              "      <td>2</td>\n",
              "      <td>3</td>\n",
              "    </tr>\n",
              "    <tr>\n",
              "      <th>cat</th>\n",
              "      <td>4</td>\n",
              "      <td>5</td>\n",
              "      <td>6</td>\n",
              "      <td>7</td>\n",
              "    </tr>\n",
              "    <tr>\n",
              "      <th>bird</th>\n",
              "      <td>8</td>\n",
              "      <td>9</td>\n",
              "      <td>10</td>\n",
              "      <td>11</td>\n",
              "    </tr>\n",
              "    <tr>\n",
              "      <th>mouse</th>\n",
              "      <td>12</td>\n",
              "      <td>13</td>\n",
              "      <td>14</td>\n",
              "      <td>15</td>\n",
              "    </tr>\n",
              "  </tbody>\n",
              "</table>\n",
              "</div>"
            ],
            "text/plain": [
              "        w   x   y   z\n",
              "dog     0   1   2   3\n",
              "cat     4   5   6   7\n",
              "bird    8   9  10  11\n",
              "mouse  12  13  14  15"
            ]
          },
          "metadata": {
            "tags": []
          },
          "execution_count": 163
        }
      ]
    },
    {
      "cell_type": "code",
      "metadata": {
        "colab": {
          "base_uri": "https://localhost:8080/",
          "height": 136
        },
        "id": "Li5e9bjZCz0P",
        "outputId": "7d3c65d6-a74a-46cf-bed5-7a0b160d35a9"
      },
      "source": [
        "animals.groupby(len).sum()"
      ],
      "execution_count": 168,
      "outputs": [
        {
          "output_type": "execute_result",
          "data": {
            "text/html": [
              "<div>\n",
              "<style scoped>\n",
              "    .dataframe tbody tr th:only-of-type {\n",
              "        vertical-align: middle;\n",
              "    }\n",
              "\n",
              "    .dataframe tbody tr th {\n",
              "        vertical-align: top;\n",
              "    }\n",
              "\n",
              "    .dataframe thead th {\n",
              "        text-align: right;\n",
              "    }\n",
              "</style>\n",
              "<table border=\"1\" class=\"dataframe\">\n",
              "  <thead>\n",
              "    <tr style=\"text-align: right;\">\n",
              "      <th></th>\n",
              "      <th>w</th>\n",
              "      <th>x</th>\n",
              "      <th>y</th>\n",
              "      <th>z</th>\n",
              "    </tr>\n",
              "  </thead>\n",
              "  <tbody>\n",
              "    <tr>\n",
              "      <th>3</th>\n",
              "      <td>4</td>\n",
              "      <td>6</td>\n",
              "      <td>8</td>\n",
              "      <td>10</td>\n",
              "    </tr>\n",
              "    <tr>\n",
              "      <th>4</th>\n",
              "      <td>8</td>\n",
              "      <td>9</td>\n",
              "      <td>10</td>\n",
              "      <td>11</td>\n",
              "    </tr>\n",
              "    <tr>\n",
              "      <th>5</th>\n",
              "      <td>12</td>\n",
              "      <td>13</td>\n",
              "      <td>14</td>\n",
              "      <td>15</td>\n",
              "    </tr>\n",
              "  </tbody>\n",
              "</table>\n",
              "</div>"
            ],
            "text/plain": [
              "    w   x   y   z\n",
              "3   4   6   8  10\n",
              "4   8   9  10  11\n",
              "5  12  13  14  15"
            ]
          },
          "metadata": {
            "tags": []
          },
          "execution_count": 168
        }
      ]
    },
    {
      "cell_type": "code",
      "metadata": {
        "id": "sqiz85-SDCXd"
      },
      "source": [
        "key = ['a','b','a','b']"
      ],
      "execution_count": 169,
      "outputs": []
    },
    {
      "cell_type": "code",
      "metadata": {
        "colab": {
          "base_uri": "https://localhost:8080/",
          "height": 166
        },
        "id": "sxiHE-LqDPr9",
        "outputId": "480063d8-00b0-4b14-c79f-79b609f1d091"
      },
      "source": [
        "animals.groupby([len,key]).max()"
      ],
      "execution_count": 171,
      "outputs": [
        {
          "output_type": "execute_result",
          "data": {
            "text/html": [
              "<div>\n",
              "<style scoped>\n",
              "    .dataframe tbody tr th:only-of-type {\n",
              "        vertical-align: middle;\n",
              "    }\n",
              "\n",
              "    .dataframe tbody tr th {\n",
              "        vertical-align: top;\n",
              "    }\n",
              "\n",
              "    .dataframe thead th {\n",
              "        text-align: right;\n",
              "    }\n",
              "</style>\n",
              "<table border=\"1\" class=\"dataframe\">\n",
              "  <thead>\n",
              "    <tr style=\"text-align: right;\">\n",
              "      <th></th>\n",
              "      <th></th>\n",
              "      <th>w</th>\n",
              "      <th>x</th>\n",
              "      <th>y</th>\n",
              "      <th>z</th>\n",
              "    </tr>\n",
              "  </thead>\n",
              "  <tbody>\n",
              "    <tr>\n",
              "      <th rowspan=\"2\" valign=\"top\">3</th>\n",
              "      <th>a</th>\n",
              "      <td>0</td>\n",
              "      <td>1</td>\n",
              "      <td>2</td>\n",
              "      <td>3</td>\n",
              "    </tr>\n",
              "    <tr>\n",
              "      <th>b</th>\n",
              "      <td>4</td>\n",
              "      <td>5</td>\n",
              "      <td>6</td>\n",
              "      <td>7</td>\n",
              "    </tr>\n",
              "    <tr>\n",
              "      <th>4</th>\n",
              "      <th>a</th>\n",
              "      <td>8</td>\n",
              "      <td>9</td>\n",
              "      <td>10</td>\n",
              "      <td>11</td>\n",
              "    </tr>\n",
              "    <tr>\n",
              "      <th>5</th>\n",
              "      <th>b</th>\n",
              "      <td>12</td>\n",
              "      <td>13</td>\n",
              "      <td>14</td>\n",
              "      <td>15</td>\n",
              "    </tr>\n",
              "  </tbody>\n",
              "</table>\n",
              "</div>"
            ],
            "text/plain": [
              "      w   x   y   z\n",
              "3 a   0   1   2   3\n",
              "  b   4   5   6   7\n",
              "4 a   8   9  10  11\n",
              "5 b  12  13  14  15"
            ]
          },
          "metadata": {
            "tags": []
          },
          "execution_count": 171
        }
      ]
    },
    {
      "cell_type": "code",
      "metadata": {
        "id": "UWVWCEd3DWrO"
      },
      "source": [
        "hier_col = pd.MultiIndex.from_arrays([['ny','ny','ny','sf','sf'],[1,2,3,1,2]], names=['city','sub_values'])"
      ],
      "execution_count": 3,
      "outputs": []
    },
    {
      "cell_type": "code",
      "metadata": {
        "id": "x6zuVT-1DwZW"
      },
      "source": [
        "dframe_hr = DataFrame(np.arange(25).reshape(5,5), columns=hier_col)"
      ],
      "execution_count": 6,
      "outputs": []
    },
    {
      "cell_type": "code",
      "metadata": {
        "id": "eyfrgVBIdmON"
      },
      "source": [
        "dframe_hr = dframe_hr * 100"
      ],
      "execution_count": 7,
      "outputs": []
    },
    {
      "cell_type": "code",
      "metadata": {
        "colab": {
          "base_uri": "https://localhost:8080/",
          "height": 225
        },
        "id": "IuP8_WxTd5Uk",
        "outputId": "02a2d6ff-4507-4739-fa5a-0d10642432b8"
      },
      "source": [
        "dframe_hr"
      ],
      "execution_count": 8,
      "outputs": [
        {
          "output_type": "execute_result",
          "data": {
            "text/html": [
              "<div>\n",
              "<style scoped>\n",
              "    .dataframe tbody tr th:only-of-type {\n",
              "        vertical-align: middle;\n",
              "    }\n",
              "\n",
              "    .dataframe tbody tr th {\n",
              "        vertical-align: top;\n",
              "    }\n",
              "\n",
              "    .dataframe thead tr th {\n",
              "        text-align: left;\n",
              "    }\n",
              "</style>\n",
              "<table border=\"1\" class=\"dataframe\">\n",
              "  <thead>\n",
              "    <tr>\n",
              "      <th>city</th>\n",
              "      <th colspan=\"3\" halign=\"left\">ny</th>\n",
              "      <th colspan=\"2\" halign=\"left\">sf</th>\n",
              "    </tr>\n",
              "    <tr>\n",
              "      <th>sub_values</th>\n",
              "      <th>1</th>\n",
              "      <th>2</th>\n",
              "      <th>3</th>\n",
              "      <th>1</th>\n",
              "      <th>2</th>\n",
              "    </tr>\n",
              "  </thead>\n",
              "  <tbody>\n",
              "    <tr>\n",
              "      <th>0</th>\n",
              "      <td>0</td>\n",
              "      <td>100</td>\n",
              "      <td>200</td>\n",
              "      <td>300</td>\n",
              "      <td>400</td>\n",
              "    </tr>\n",
              "    <tr>\n",
              "      <th>1</th>\n",
              "      <td>500</td>\n",
              "      <td>600</td>\n",
              "      <td>700</td>\n",
              "      <td>800</td>\n",
              "      <td>900</td>\n",
              "    </tr>\n",
              "    <tr>\n",
              "      <th>2</th>\n",
              "      <td>1000</td>\n",
              "      <td>1100</td>\n",
              "      <td>1200</td>\n",
              "      <td>1300</td>\n",
              "      <td>1400</td>\n",
              "    </tr>\n",
              "    <tr>\n",
              "      <th>3</th>\n",
              "      <td>1500</td>\n",
              "      <td>1600</td>\n",
              "      <td>1700</td>\n",
              "      <td>1800</td>\n",
              "      <td>1900</td>\n",
              "    </tr>\n",
              "    <tr>\n",
              "      <th>4</th>\n",
              "      <td>2000</td>\n",
              "      <td>2100</td>\n",
              "      <td>2200</td>\n",
              "      <td>2300</td>\n",
              "      <td>2400</td>\n",
              "    </tr>\n",
              "  </tbody>\n",
              "</table>\n",
              "</div>"
            ],
            "text/plain": [
              "city          ny                sf      \n",
              "sub_values     1     2     3     1     2\n",
              "0              0   100   200   300   400\n",
              "1            500   600   700   800   900\n",
              "2           1000  1100  1200  1300  1400\n",
              "3           1500  1600  1700  1800  1900\n",
              "4           2000  2100  2200  2300  2400"
            ]
          },
          "metadata": {
            "tags": []
          },
          "execution_count": 8
        }
      ]
    },
    {
      "cell_type": "markdown",
      "metadata": {
        "id": "mTryVtSueDSe"
      },
      "source": [
        "# Data Aggregation"
      ]
    },
    {
      "cell_type": "code",
      "metadata": {
        "id": "a5k52xfZd7QU"
      },
      "source": [
        "url = 'http://archive.ics.uci.edu/ml/machine-learning-databases/wine-quality/'"
      ],
      "execution_count": 9,
      "outputs": []
    },
    {
      "cell_type": "code",
      "metadata": {
        "id": "OgkGzWf9eUTM"
      },
      "source": [
        "dframe_wine = pd.read_csv('winequality-red.csv',sep=';')"
      ],
      "execution_count": 11,
      "outputs": []
    },
    {
      "cell_type": "code",
      "metadata": {
        "colab": {
          "base_uri": "https://localhost:8080/",
          "height": 249
        },
        "id": "_Ig2RMs6fPnN",
        "outputId": "80028711-4dbc-477f-b22b-9e3ef5de72b3"
      },
      "source": [
        "dframe_wine.head()"
      ],
      "execution_count": 13,
      "outputs": [
        {
          "output_type": "execute_result",
          "data": {
            "text/html": [
              "<div>\n",
              "<style scoped>\n",
              "    .dataframe tbody tr th:only-of-type {\n",
              "        vertical-align: middle;\n",
              "    }\n",
              "\n",
              "    .dataframe tbody tr th {\n",
              "        vertical-align: top;\n",
              "    }\n",
              "\n",
              "    .dataframe thead th {\n",
              "        text-align: right;\n",
              "    }\n",
              "</style>\n",
              "<table border=\"1\" class=\"dataframe\">\n",
              "  <thead>\n",
              "    <tr style=\"text-align: right;\">\n",
              "      <th></th>\n",
              "      <th>fixed acidity</th>\n",
              "      <th>volatile acidity</th>\n",
              "      <th>citric acid</th>\n",
              "      <th>residual sugar</th>\n",
              "      <th>chlorides</th>\n",
              "      <th>free sulfur dioxide</th>\n",
              "      <th>total sulfur dioxide</th>\n",
              "      <th>density</th>\n",
              "      <th>pH</th>\n",
              "      <th>sulphates</th>\n",
              "      <th>alcohol</th>\n",
              "      <th>quality</th>\n",
              "    </tr>\n",
              "  </thead>\n",
              "  <tbody>\n",
              "    <tr>\n",
              "      <th>0</th>\n",
              "      <td>7.4</td>\n",
              "      <td>0.70</td>\n",
              "      <td>0.00</td>\n",
              "      <td>1.9</td>\n",
              "      <td>0.076</td>\n",
              "      <td>11.0</td>\n",
              "      <td>34.0</td>\n",
              "      <td>0.9978</td>\n",
              "      <td>3.51</td>\n",
              "      <td>0.56</td>\n",
              "      <td>9.4</td>\n",
              "      <td>5</td>\n",
              "    </tr>\n",
              "    <tr>\n",
              "      <th>1</th>\n",
              "      <td>7.8</td>\n",
              "      <td>0.88</td>\n",
              "      <td>0.00</td>\n",
              "      <td>2.6</td>\n",
              "      <td>0.098</td>\n",
              "      <td>25.0</td>\n",
              "      <td>67.0</td>\n",
              "      <td>0.9968</td>\n",
              "      <td>3.20</td>\n",
              "      <td>0.68</td>\n",
              "      <td>9.8</td>\n",
              "      <td>5</td>\n",
              "    </tr>\n",
              "    <tr>\n",
              "      <th>2</th>\n",
              "      <td>7.8</td>\n",
              "      <td>0.76</td>\n",
              "      <td>0.04</td>\n",
              "      <td>2.3</td>\n",
              "      <td>0.092</td>\n",
              "      <td>15.0</td>\n",
              "      <td>54.0</td>\n",
              "      <td>0.9970</td>\n",
              "      <td>3.26</td>\n",
              "      <td>0.65</td>\n",
              "      <td>9.8</td>\n",
              "      <td>5</td>\n",
              "    </tr>\n",
              "    <tr>\n",
              "      <th>3</th>\n",
              "      <td>11.2</td>\n",
              "      <td>0.28</td>\n",
              "      <td>0.56</td>\n",
              "      <td>1.9</td>\n",
              "      <td>0.075</td>\n",
              "      <td>17.0</td>\n",
              "      <td>60.0</td>\n",
              "      <td>0.9980</td>\n",
              "      <td>3.16</td>\n",
              "      <td>0.58</td>\n",
              "      <td>9.8</td>\n",
              "      <td>6</td>\n",
              "    </tr>\n",
              "    <tr>\n",
              "      <th>4</th>\n",
              "      <td>7.4</td>\n",
              "      <td>0.70</td>\n",
              "      <td>0.00</td>\n",
              "      <td>1.9</td>\n",
              "      <td>0.076</td>\n",
              "      <td>11.0</td>\n",
              "      <td>34.0</td>\n",
              "      <td>0.9978</td>\n",
              "      <td>3.51</td>\n",
              "      <td>0.56</td>\n",
              "      <td>9.4</td>\n",
              "      <td>5</td>\n",
              "    </tr>\n",
              "  </tbody>\n",
              "</table>\n",
              "</div>"
            ],
            "text/plain": [
              "   fixed acidity  volatile acidity  citric acid  ...  sulphates  alcohol  quality\n",
              "0            7.4              0.70         0.00  ...       0.56      9.4        5\n",
              "1            7.8              0.88         0.00  ...       0.68      9.8        5\n",
              "2            7.8              0.76         0.04  ...       0.65      9.8        5\n",
              "3           11.2              0.28         0.56  ...       0.58      9.8        6\n",
              "4            7.4              0.70         0.00  ...       0.56      9.4        5\n",
              "\n",
              "[5 rows x 12 columns]"
            ]
          },
          "metadata": {
            "tags": []
          },
          "execution_count": 13
        }
      ]
    },
    {
      "cell_type": "code",
      "metadata": {
        "colab": {
          "base_uri": "https://localhost:8080/"
        },
        "id": "RS3IK2vFfVmr",
        "outputId": "9ff72c49-05b5-4777-8137-ea9619406c21"
      },
      "source": [
        "dframe_wine['alcohol']\n"
      ],
      "execution_count": 14,
      "outputs": [
        {
          "output_type": "execute_result",
          "data": {
            "text/plain": [
              "0        9.4\n",
              "1        9.8\n",
              "2        9.8\n",
              "3        9.8\n",
              "4        9.4\n",
              "        ... \n",
              "1594    10.5\n",
              "1595    11.2\n",
              "1596    11.0\n",
              "1597    10.2\n",
              "1598    11.0\n",
              "Name: alcohol, Length: 1599, dtype: float64"
            ]
          },
          "metadata": {
            "tags": []
          },
          "execution_count": 14
        }
      ]
    },
    {
      "cell_type": "code",
      "metadata": {
        "colab": {
          "base_uri": "https://localhost:8080/"
        },
        "id": "n4XdVIhefgWD",
        "outputId": "b18bfef6-440f-43b3-b92c-2ce4db0503c0"
      },
      "source": [
        "dframe_wine['alcohol'].mean()"
      ],
      "execution_count": 15,
      "outputs": [
        {
          "output_type": "execute_result",
          "data": {
            "text/plain": [
              "10.422983114446502"
            ]
          },
          "metadata": {
            "tags": []
          },
          "execution_count": 15
        }
      ]
    },
    {
      "cell_type": "code",
      "metadata": {
        "id": "m8jxlk9bfldD"
      },
      "source": [
        "def max_to_min(arr):\n",
        "  return arr.max() - arr.min()"
      ],
      "execution_count": 16,
      "outputs": []
    },
    {
      "cell_type": "code",
      "metadata": {
        "id": "48YhyQTlf0Wb"
      },
      "source": [
        "wino = dframe_wine.groupby('quality')"
      ],
      "execution_count": 17,
      "outputs": []
    },
    {
      "cell_type": "code",
      "metadata": {
        "colab": {
          "base_uri": "https://localhost:8080/",
          "height": 333
        },
        "id": "BnkwuVbqf9oD",
        "outputId": "8a7fa079-480d-4822-d5b2-5f656b693007"
      },
      "source": [
        "wino.describe()"
      ],
      "execution_count": 18,
      "outputs": [
        {
          "output_type": "execute_result",
          "data": {
            "text/html": [
              "<div>\n",
              "<style scoped>\n",
              "    .dataframe tbody tr th:only-of-type {\n",
              "        vertical-align: middle;\n",
              "    }\n",
              "\n",
              "    .dataframe tbody tr th {\n",
              "        vertical-align: top;\n",
              "    }\n",
              "\n",
              "    .dataframe thead tr th {\n",
              "        text-align: left;\n",
              "    }\n",
              "\n",
              "    .dataframe thead tr:last-of-type th {\n",
              "        text-align: right;\n",
              "    }\n",
              "</style>\n",
              "<table border=\"1\" class=\"dataframe\">\n",
              "  <thead>\n",
              "    <tr>\n",
              "      <th></th>\n",
              "      <th colspan=\"8\" halign=\"left\">fixed acidity</th>\n",
              "      <th colspan=\"8\" halign=\"left\">volatile acidity</th>\n",
              "      <th colspan=\"8\" halign=\"left\">citric acid</th>\n",
              "      <th colspan=\"8\" halign=\"left\">residual sugar</th>\n",
              "      <th colspan=\"8\" halign=\"left\">chlorides</th>\n",
              "      <th>...</th>\n",
              "      <th colspan=\"8\" halign=\"left\">total sulfur dioxide</th>\n",
              "      <th colspan=\"8\" halign=\"left\">density</th>\n",
              "      <th colspan=\"8\" halign=\"left\">pH</th>\n",
              "      <th colspan=\"8\" halign=\"left\">sulphates</th>\n",
              "      <th colspan=\"8\" halign=\"left\">alcohol</th>\n",
              "    </tr>\n",
              "    <tr>\n",
              "      <th></th>\n",
              "      <th>count</th>\n",
              "      <th>mean</th>\n",
              "      <th>std</th>\n",
              "      <th>min</th>\n",
              "      <th>25%</th>\n",
              "      <th>50%</th>\n",
              "      <th>75%</th>\n",
              "      <th>max</th>\n",
              "      <th>count</th>\n",
              "      <th>mean</th>\n",
              "      <th>std</th>\n",
              "      <th>min</th>\n",
              "      <th>25%</th>\n",
              "      <th>50%</th>\n",
              "      <th>75%</th>\n",
              "      <th>max</th>\n",
              "      <th>count</th>\n",
              "      <th>mean</th>\n",
              "      <th>std</th>\n",
              "      <th>min</th>\n",
              "      <th>25%</th>\n",
              "      <th>50%</th>\n",
              "      <th>75%</th>\n",
              "      <th>max</th>\n",
              "      <th>count</th>\n",
              "      <th>mean</th>\n",
              "      <th>std</th>\n",
              "      <th>min</th>\n",
              "      <th>25%</th>\n",
              "      <th>50%</th>\n",
              "      <th>75%</th>\n",
              "      <th>max</th>\n",
              "      <th>count</th>\n",
              "      <th>mean</th>\n",
              "      <th>std</th>\n",
              "      <th>min</th>\n",
              "      <th>25%</th>\n",
              "      <th>50%</th>\n",
              "      <th>75%</th>\n",
              "      <th>max</th>\n",
              "      <th>...</th>\n",
              "      <th>count</th>\n",
              "      <th>mean</th>\n",
              "      <th>std</th>\n",
              "      <th>min</th>\n",
              "      <th>25%</th>\n",
              "      <th>50%</th>\n",
              "      <th>75%</th>\n",
              "      <th>max</th>\n",
              "      <th>count</th>\n",
              "      <th>mean</th>\n",
              "      <th>std</th>\n",
              "      <th>min</th>\n",
              "      <th>25%</th>\n",
              "      <th>50%</th>\n",
              "      <th>75%</th>\n",
              "      <th>max</th>\n",
              "      <th>count</th>\n",
              "      <th>mean</th>\n",
              "      <th>std</th>\n",
              "      <th>min</th>\n",
              "      <th>25%</th>\n",
              "      <th>50%</th>\n",
              "      <th>75%</th>\n",
              "      <th>max</th>\n",
              "      <th>count</th>\n",
              "      <th>mean</th>\n",
              "      <th>std</th>\n",
              "      <th>min</th>\n",
              "      <th>25%</th>\n",
              "      <th>50%</th>\n",
              "      <th>75%</th>\n",
              "      <th>max</th>\n",
              "      <th>count</th>\n",
              "      <th>mean</th>\n",
              "      <th>std</th>\n",
              "      <th>min</th>\n",
              "      <th>25%</th>\n",
              "      <th>50%</th>\n",
              "      <th>75%</th>\n",
              "      <th>max</th>\n",
              "    </tr>\n",
              "    <tr>\n",
              "      <th>quality</th>\n",
              "      <th></th>\n",
              "      <th></th>\n",
              "      <th></th>\n",
              "      <th></th>\n",
              "      <th></th>\n",
              "      <th></th>\n",
              "      <th></th>\n",
              "      <th></th>\n",
              "      <th></th>\n",
              "      <th></th>\n",
              "      <th></th>\n",
              "      <th></th>\n",
              "      <th></th>\n",
              "      <th></th>\n",
              "      <th></th>\n",
              "      <th></th>\n",
              "      <th></th>\n",
              "      <th></th>\n",
              "      <th></th>\n",
              "      <th></th>\n",
              "      <th></th>\n",
              "      <th></th>\n",
              "      <th></th>\n",
              "      <th></th>\n",
              "      <th></th>\n",
              "      <th></th>\n",
              "      <th></th>\n",
              "      <th></th>\n",
              "      <th></th>\n",
              "      <th></th>\n",
              "      <th></th>\n",
              "      <th></th>\n",
              "      <th></th>\n",
              "      <th></th>\n",
              "      <th></th>\n",
              "      <th></th>\n",
              "      <th></th>\n",
              "      <th></th>\n",
              "      <th></th>\n",
              "      <th></th>\n",
              "      <th></th>\n",
              "      <th></th>\n",
              "      <th></th>\n",
              "      <th></th>\n",
              "      <th></th>\n",
              "      <th></th>\n",
              "      <th></th>\n",
              "      <th></th>\n",
              "      <th></th>\n",
              "      <th></th>\n",
              "      <th></th>\n",
              "      <th></th>\n",
              "      <th></th>\n",
              "      <th></th>\n",
              "      <th></th>\n",
              "      <th></th>\n",
              "      <th></th>\n",
              "      <th></th>\n",
              "      <th></th>\n",
              "      <th></th>\n",
              "      <th></th>\n",
              "      <th></th>\n",
              "      <th></th>\n",
              "      <th></th>\n",
              "      <th></th>\n",
              "      <th></th>\n",
              "      <th></th>\n",
              "      <th></th>\n",
              "      <th></th>\n",
              "      <th></th>\n",
              "      <th></th>\n",
              "      <th></th>\n",
              "      <th></th>\n",
              "      <th></th>\n",
              "      <th></th>\n",
              "      <th></th>\n",
              "      <th></th>\n",
              "      <th></th>\n",
              "      <th></th>\n",
              "      <th></th>\n",
              "      <th></th>\n",
              "    </tr>\n",
              "  </thead>\n",
              "  <tbody>\n",
              "    <tr>\n",
              "      <th>3</th>\n",
              "      <td>10.0</td>\n",
              "      <td>8.360000</td>\n",
              "      <td>1.770875</td>\n",
              "      <td>6.7</td>\n",
              "      <td>7.15</td>\n",
              "      <td>7.50</td>\n",
              "      <td>9.875</td>\n",
              "      <td>11.6</td>\n",
              "      <td>10.0</td>\n",
              "      <td>0.884500</td>\n",
              "      <td>0.331256</td>\n",
              "      <td>0.44</td>\n",
              "      <td>0.6475</td>\n",
              "      <td>0.845</td>\n",
              "      <td>1.0100</td>\n",
              "      <td>1.580</td>\n",
              "      <td>10.0</td>\n",
              "      <td>0.171000</td>\n",
              "      <td>0.250664</td>\n",
              "      <td>0.00</td>\n",
              "      <td>0.0050</td>\n",
              "      <td>0.035</td>\n",
              "      <td>0.3275</td>\n",
              "      <td>0.66</td>\n",
              "      <td>10.0</td>\n",
              "      <td>2.635000</td>\n",
              "      <td>1.401596</td>\n",
              "      <td>1.2</td>\n",
              "      <td>1.875</td>\n",
              "      <td>2.1</td>\n",
              "      <td>3.10</td>\n",
              "      <td>5.7</td>\n",
              "      <td>10.0</td>\n",
              "      <td>0.122500</td>\n",
              "      <td>0.066241</td>\n",
              "      <td>0.061</td>\n",
              "      <td>0.07900</td>\n",
              "      <td>0.0905</td>\n",
              "      <td>0.1430</td>\n",
              "      <td>0.267</td>\n",
              "      <td>...</td>\n",
              "      <td>10.0</td>\n",
              "      <td>24.900000</td>\n",
              "      <td>16.828877</td>\n",
              "      <td>9.0</td>\n",
              "      <td>12.5</td>\n",
              "      <td>15.0</td>\n",
              "      <td>42.5</td>\n",
              "      <td>49.0</td>\n",
              "      <td>10.0</td>\n",
              "      <td>0.997464</td>\n",
              "      <td>0.002002</td>\n",
              "      <td>0.99471</td>\n",
              "      <td>0.996150</td>\n",
              "      <td>0.997565</td>\n",
              "      <td>0.998770</td>\n",
              "      <td>1.00080</td>\n",
              "      <td>10.0</td>\n",
              "      <td>3.398000</td>\n",
              "      <td>0.144052</td>\n",
              "      <td>3.16</td>\n",
              "      <td>3.3125</td>\n",
              "      <td>3.39</td>\n",
              "      <td>3.495</td>\n",
              "      <td>3.63</td>\n",
              "      <td>10.0</td>\n",
              "      <td>0.570000</td>\n",
              "      <td>0.122020</td>\n",
              "      <td>0.40</td>\n",
              "      <td>0.5125</td>\n",
              "      <td>0.545</td>\n",
              "      <td>0.615</td>\n",
              "      <td>0.86</td>\n",
              "      <td>10.0</td>\n",
              "      <td>9.955000</td>\n",
              "      <td>0.818009</td>\n",
              "      <td>8.4</td>\n",
              "      <td>9.725</td>\n",
              "      <td>9.925</td>\n",
              "      <td>10.575</td>\n",
              "      <td>11.0</td>\n",
              "    </tr>\n",
              "    <tr>\n",
              "      <th>4</th>\n",
              "      <td>53.0</td>\n",
              "      <td>7.779245</td>\n",
              "      <td>1.626624</td>\n",
              "      <td>4.6</td>\n",
              "      <td>6.80</td>\n",
              "      <td>7.50</td>\n",
              "      <td>8.400</td>\n",
              "      <td>12.5</td>\n",
              "      <td>53.0</td>\n",
              "      <td>0.693962</td>\n",
              "      <td>0.220110</td>\n",
              "      <td>0.23</td>\n",
              "      <td>0.5300</td>\n",
              "      <td>0.670</td>\n",
              "      <td>0.8700</td>\n",
              "      <td>1.130</td>\n",
              "      <td>53.0</td>\n",
              "      <td>0.174151</td>\n",
              "      <td>0.201030</td>\n",
              "      <td>0.00</td>\n",
              "      <td>0.0300</td>\n",
              "      <td>0.090</td>\n",
              "      <td>0.2700</td>\n",
              "      <td>1.00</td>\n",
              "      <td>53.0</td>\n",
              "      <td>2.694340</td>\n",
              "      <td>1.789436</td>\n",
              "      <td>1.3</td>\n",
              "      <td>1.900</td>\n",
              "      <td>2.1</td>\n",
              "      <td>2.80</td>\n",
              "      <td>12.9</td>\n",
              "      <td>53.0</td>\n",
              "      <td>0.090679</td>\n",
              "      <td>0.076192</td>\n",
              "      <td>0.045</td>\n",
              "      <td>0.06700</td>\n",
              "      <td>0.0800</td>\n",
              "      <td>0.0890</td>\n",
              "      <td>0.610</td>\n",
              "      <td>...</td>\n",
              "      <td>53.0</td>\n",
              "      <td>36.245283</td>\n",
              "      <td>27.583374</td>\n",
              "      <td>7.0</td>\n",
              "      <td>14.0</td>\n",
              "      <td>26.0</td>\n",
              "      <td>49.0</td>\n",
              "      <td>119.0</td>\n",
              "      <td>53.0</td>\n",
              "      <td>0.996542</td>\n",
              "      <td>0.001575</td>\n",
              "      <td>0.99340</td>\n",
              "      <td>0.995650</td>\n",
              "      <td>0.996500</td>\n",
              "      <td>0.997450</td>\n",
              "      <td>1.00100</td>\n",
              "      <td>53.0</td>\n",
              "      <td>3.381509</td>\n",
              "      <td>0.181441</td>\n",
              "      <td>2.74</td>\n",
              "      <td>3.3000</td>\n",
              "      <td>3.37</td>\n",
              "      <td>3.500</td>\n",
              "      <td>3.90</td>\n",
              "      <td>53.0</td>\n",
              "      <td>0.596415</td>\n",
              "      <td>0.239391</td>\n",
              "      <td>0.33</td>\n",
              "      <td>0.4900</td>\n",
              "      <td>0.560</td>\n",
              "      <td>0.600</td>\n",
              "      <td>2.00</td>\n",
              "      <td>53.0</td>\n",
              "      <td>10.265094</td>\n",
              "      <td>0.934776</td>\n",
              "      <td>9.0</td>\n",
              "      <td>9.600</td>\n",
              "      <td>10.000</td>\n",
              "      <td>11.000</td>\n",
              "      <td>13.1</td>\n",
              "    </tr>\n",
              "    <tr>\n",
              "      <th>5</th>\n",
              "      <td>681.0</td>\n",
              "      <td>8.167254</td>\n",
              "      <td>1.563988</td>\n",
              "      <td>5.0</td>\n",
              "      <td>7.10</td>\n",
              "      <td>7.80</td>\n",
              "      <td>8.900</td>\n",
              "      <td>15.9</td>\n",
              "      <td>681.0</td>\n",
              "      <td>0.577041</td>\n",
              "      <td>0.164801</td>\n",
              "      <td>0.18</td>\n",
              "      <td>0.4600</td>\n",
              "      <td>0.580</td>\n",
              "      <td>0.6700</td>\n",
              "      <td>1.330</td>\n",
              "      <td>681.0</td>\n",
              "      <td>0.243686</td>\n",
              "      <td>0.180003</td>\n",
              "      <td>0.00</td>\n",
              "      <td>0.0900</td>\n",
              "      <td>0.230</td>\n",
              "      <td>0.3600</td>\n",
              "      <td>0.79</td>\n",
              "      <td>681.0</td>\n",
              "      <td>2.528855</td>\n",
              "      <td>1.359753</td>\n",
              "      <td>1.2</td>\n",
              "      <td>1.900</td>\n",
              "      <td>2.2</td>\n",
              "      <td>2.60</td>\n",
              "      <td>15.5</td>\n",
              "      <td>681.0</td>\n",
              "      <td>0.092736</td>\n",
              "      <td>0.053707</td>\n",
              "      <td>0.039</td>\n",
              "      <td>0.07400</td>\n",
              "      <td>0.0810</td>\n",
              "      <td>0.0940</td>\n",
              "      <td>0.611</td>\n",
              "      <td>...</td>\n",
              "      <td>681.0</td>\n",
              "      <td>56.513950</td>\n",
              "      <td>36.993116</td>\n",
              "      <td>6.0</td>\n",
              "      <td>26.0</td>\n",
              "      <td>47.0</td>\n",
              "      <td>84.0</td>\n",
              "      <td>155.0</td>\n",
              "      <td>681.0</td>\n",
              "      <td>0.997104</td>\n",
              "      <td>0.001589</td>\n",
              "      <td>0.99256</td>\n",
              "      <td>0.996200</td>\n",
              "      <td>0.997000</td>\n",
              "      <td>0.997900</td>\n",
              "      <td>1.00315</td>\n",
              "      <td>681.0</td>\n",
              "      <td>3.304949</td>\n",
              "      <td>0.150618</td>\n",
              "      <td>2.88</td>\n",
              "      <td>3.2000</td>\n",
              "      <td>3.30</td>\n",
              "      <td>3.400</td>\n",
              "      <td>3.74</td>\n",
              "      <td>681.0</td>\n",
              "      <td>0.620969</td>\n",
              "      <td>0.171062</td>\n",
              "      <td>0.37</td>\n",
              "      <td>0.5300</td>\n",
              "      <td>0.580</td>\n",
              "      <td>0.660</td>\n",
              "      <td>1.98</td>\n",
              "      <td>681.0</td>\n",
              "      <td>9.899706</td>\n",
              "      <td>0.736521</td>\n",
              "      <td>8.5</td>\n",
              "      <td>9.400</td>\n",
              "      <td>9.700</td>\n",
              "      <td>10.200</td>\n",
              "      <td>14.9</td>\n",
              "    </tr>\n",
              "    <tr>\n",
              "      <th>6</th>\n",
              "      <td>638.0</td>\n",
              "      <td>8.347179</td>\n",
              "      <td>1.797849</td>\n",
              "      <td>4.7</td>\n",
              "      <td>7.00</td>\n",
              "      <td>7.90</td>\n",
              "      <td>9.400</td>\n",
              "      <td>14.3</td>\n",
              "      <td>638.0</td>\n",
              "      <td>0.497484</td>\n",
              "      <td>0.160962</td>\n",
              "      <td>0.16</td>\n",
              "      <td>0.3800</td>\n",
              "      <td>0.490</td>\n",
              "      <td>0.6000</td>\n",
              "      <td>1.040</td>\n",
              "      <td>638.0</td>\n",
              "      <td>0.273824</td>\n",
              "      <td>0.195108</td>\n",
              "      <td>0.00</td>\n",
              "      <td>0.0900</td>\n",
              "      <td>0.260</td>\n",
              "      <td>0.4300</td>\n",
              "      <td>0.78</td>\n",
              "      <td>638.0</td>\n",
              "      <td>2.477194</td>\n",
              "      <td>1.441576</td>\n",
              "      <td>0.9</td>\n",
              "      <td>1.900</td>\n",
              "      <td>2.2</td>\n",
              "      <td>2.50</td>\n",
              "      <td>15.4</td>\n",
              "      <td>638.0</td>\n",
              "      <td>0.084956</td>\n",
              "      <td>0.039563</td>\n",
              "      <td>0.034</td>\n",
              "      <td>0.06825</td>\n",
              "      <td>0.0780</td>\n",
              "      <td>0.0880</td>\n",
              "      <td>0.415</td>\n",
              "      <td>...</td>\n",
              "      <td>638.0</td>\n",
              "      <td>40.869906</td>\n",
              "      <td>25.038250</td>\n",
              "      <td>6.0</td>\n",
              "      <td>23.0</td>\n",
              "      <td>35.0</td>\n",
              "      <td>54.0</td>\n",
              "      <td>165.0</td>\n",
              "      <td>638.0</td>\n",
              "      <td>0.996615</td>\n",
              "      <td>0.002000</td>\n",
              "      <td>0.99007</td>\n",
              "      <td>0.995402</td>\n",
              "      <td>0.996560</td>\n",
              "      <td>0.997893</td>\n",
              "      <td>1.00369</td>\n",
              "      <td>638.0</td>\n",
              "      <td>3.318072</td>\n",
              "      <td>0.153995</td>\n",
              "      <td>2.86</td>\n",
              "      <td>3.2200</td>\n",
              "      <td>3.32</td>\n",
              "      <td>3.410</td>\n",
              "      <td>4.01</td>\n",
              "      <td>638.0</td>\n",
              "      <td>0.675329</td>\n",
              "      <td>0.158650</td>\n",
              "      <td>0.40</td>\n",
              "      <td>0.5800</td>\n",
              "      <td>0.640</td>\n",
              "      <td>0.750</td>\n",
              "      <td>1.95</td>\n",
              "      <td>638.0</td>\n",
              "      <td>10.629519</td>\n",
              "      <td>1.049639</td>\n",
              "      <td>8.4</td>\n",
              "      <td>9.800</td>\n",
              "      <td>10.500</td>\n",
              "      <td>11.300</td>\n",
              "      <td>14.0</td>\n",
              "    </tr>\n",
              "    <tr>\n",
              "      <th>7</th>\n",
              "      <td>199.0</td>\n",
              "      <td>8.872362</td>\n",
              "      <td>1.992483</td>\n",
              "      <td>4.9</td>\n",
              "      <td>7.40</td>\n",
              "      <td>8.80</td>\n",
              "      <td>10.100</td>\n",
              "      <td>15.6</td>\n",
              "      <td>199.0</td>\n",
              "      <td>0.403920</td>\n",
              "      <td>0.145224</td>\n",
              "      <td>0.12</td>\n",
              "      <td>0.3000</td>\n",
              "      <td>0.370</td>\n",
              "      <td>0.4850</td>\n",
              "      <td>0.915</td>\n",
              "      <td>199.0</td>\n",
              "      <td>0.375176</td>\n",
              "      <td>0.194432</td>\n",
              "      <td>0.00</td>\n",
              "      <td>0.3050</td>\n",
              "      <td>0.400</td>\n",
              "      <td>0.4900</td>\n",
              "      <td>0.76</td>\n",
              "      <td>199.0</td>\n",
              "      <td>2.720603</td>\n",
              "      <td>1.371509</td>\n",
              "      <td>1.2</td>\n",
              "      <td>2.000</td>\n",
              "      <td>2.3</td>\n",
              "      <td>2.75</td>\n",
              "      <td>8.9</td>\n",
              "      <td>199.0</td>\n",
              "      <td>0.076588</td>\n",
              "      <td>0.029456</td>\n",
              "      <td>0.012</td>\n",
              "      <td>0.06200</td>\n",
              "      <td>0.0730</td>\n",
              "      <td>0.0870</td>\n",
              "      <td>0.358</td>\n",
              "      <td>...</td>\n",
              "      <td>199.0</td>\n",
              "      <td>35.020101</td>\n",
              "      <td>33.191206</td>\n",
              "      <td>7.0</td>\n",
              "      <td>17.5</td>\n",
              "      <td>27.0</td>\n",
              "      <td>43.0</td>\n",
              "      <td>289.0</td>\n",
              "      <td>199.0</td>\n",
              "      <td>0.996104</td>\n",
              "      <td>0.002176</td>\n",
              "      <td>0.99064</td>\n",
              "      <td>0.994765</td>\n",
              "      <td>0.995770</td>\n",
              "      <td>0.997360</td>\n",
              "      <td>1.00320</td>\n",
              "      <td>199.0</td>\n",
              "      <td>3.290754</td>\n",
              "      <td>0.150101</td>\n",
              "      <td>2.92</td>\n",
              "      <td>3.2000</td>\n",
              "      <td>3.28</td>\n",
              "      <td>3.380</td>\n",
              "      <td>3.78</td>\n",
              "      <td>199.0</td>\n",
              "      <td>0.741256</td>\n",
              "      <td>0.135639</td>\n",
              "      <td>0.39</td>\n",
              "      <td>0.6500</td>\n",
              "      <td>0.740</td>\n",
              "      <td>0.830</td>\n",
              "      <td>1.36</td>\n",
              "      <td>199.0</td>\n",
              "      <td>11.465913</td>\n",
              "      <td>0.961933</td>\n",
              "      <td>9.2</td>\n",
              "      <td>10.800</td>\n",
              "      <td>11.500</td>\n",
              "      <td>12.100</td>\n",
              "      <td>14.0</td>\n",
              "    </tr>\n",
              "    <tr>\n",
              "      <th>8</th>\n",
              "      <td>18.0</td>\n",
              "      <td>8.566667</td>\n",
              "      <td>2.119656</td>\n",
              "      <td>5.0</td>\n",
              "      <td>7.25</td>\n",
              "      <td>8.25</td>\n",
              "      <td>10.225</td>\n",
              "      <td>12.6</td>\n",
              "      <td>18.0</td>\n",
              "      <td>0.423333</td>\n",
              "      <td>0.144914</td>\n",
              "      <td>0.26</td>\n",
              "      <td>0.3350</td>\n",
              "      <td>0.370</td>\n",
              "      <td>0.4725</td>\n",
              "      <td>0.850</td>\n",
              "      <td>18.0</td>\n",
              "      <td>0.391111</td>\n",
              "      <td>0.199526</td>\n",
              "      <td>0.03</td>\n",
              "      <td>0.3025</td>\n",
              "      <td>0.420</td>\n",
              "      <td>0.5300</td>\n",
              "      <td>0.72</td>\n",
              "      <td>18.0</td>\n",
              "      <td>2.577778</td>\n",
              "      <td>1.295038</td>\n",
              "      <td>1.4</td>\n",
              "      <td>1.800</td>\n",
              "      <td>2.1</td>\n",
              "      <td>2.60</td>\n",
              "      <td>6.4</td>\n",
              "      <td>18.0</td>\n",
              "      <td>0.068444</td>\n",
              "      <td>0.011678</td>\n",
              "      <td>0.044</td>\n",
              "      <td>0.06200</td>\n",
              "      <td>0.0705</td>\n",
              "      <td>0.0755</td>\n",
              "      <td>0.086</td>\n",
              "      <td>...</td>\n",
              "      <td>18.0</td>\n",
              "      <td>33.444444</td>\n",
              "      <td>25.433240</td>\n",
              "      <td>12.0</td>\n",
              "      <td>16.0</td>\n",
              "      <td>21.5</td>\n",
              "      <td>43.0</td>\n",
              "      <td>88.0</td>\n",
              "      <td>18.0</td>\n",
              "      <td>0.995212</td>\n",
              "      <td>0.002378</td>\n",
              "      <td>0.99080</td>\n",
              "      <td>0.994175</td>\n",
              "      <td>0.994940</td>\n",
              "      <td>0.997200</td>\n",
              "      <td>0.99880</td>\n",
              "      <td>18.0</td>\n",
              "      <td>3.267222</td>\n",
              "      <td>0.200640</td>\n",
              "      <td>2.88</td>\n",
              "      <td>3.1625</td>\n",
              "      <td>3.23</td>\n",
              "      <td>3.350</td>\n",
              "      <td>3.72</td>\n",
              "      <td>18.0</td>\n",
              "      <td>0.767778</td>\n",
              "      <td>0.115379</td>\n",
              "      <td>0.63</td>\n",
              "      <td>0.6900</td>\n",
              "      <td>0.740</td>\n",
              "      <td>0.820</td>\n",
              "      <td>1.10</td>\n",
              "      <td>18.0</td>\n",
              "      <td>12.094444</td>\n",
              "      <td>1.224011</td>\n",
              "      <td>9.8</td>\n",
              "      <td>11.325</td>\n",
              "      <td>12.150</td>\n",
              "      <td>12.875</td>\n",
              "      <td>14.0</td>\n",
              "    </tr>\n",
              "  </tbody>\n",
              "</table>\n",
              "<p>6 rows × 88 columns</p>\n",
              "</div>"
            ],
            "text/plain": [
              "        fixed acidity                           ... alcohol                      \n",
              "                count      mean       std  min  ...     25%     50%     75%   max\n",
              "quality                                         ...                              \n",
              "3                10.0  8.360000  1.770875  6.7  ...   9.725   9.925  10.575  11.0\n",
              "4                53.0  7.779245  1.626624  4.6  ...   9.600  10.000  11.000  13.1\n",
              "5               681.0  8.167254  1.563988  5.0  ...   9.400   9.700  10.200  14.9\n",
              "6               638.0  8.347179  1.797849  4.7  ...   9.800  10.500  11.300  14.0\n",
              "7               199.0  8.872362  1.992483  4.9  ...  10.800  11.500  12.100  14.0\n",
              "8                18.0  8.566667  2.119656  5.0  ...  11.325  12.150  12.875  14.0\n",
              "\n",
              "[6 rows x 88 columns]"
            ]
          },
          "metadata": {
            "tags": []
          },
          "execution_count": 18
        }
      ]
    },
    {
      "cell_type": "code",
      "metadata": {
        "colab": {
          "base_uri": "https://localhost:8080/",
          "height": 308
        },
        "id": "YKqWI6NAf_gr",
        "outputId": "e8f06656-9775-4422-c385-29a015287831"
      },
      "source": [
        "wino.agg(max_to_min)"
      ],
      "execution_count": 19,
      "outputs": [
        {
          "output_type": "execute_result",
          "data": {
            "text/html": [
              "<div>\n",
              "<style scoped>\n",
              "    .dataframe tbody tr th:only-of-type {\n",
              "        vertical-align: middle;\n",
              "    }\n",
              "\n",
              "    .dataframe tbody tr th {\n",
              "        vertical-align: top;\n",
              "    }\n",
              "\n",
              "    .dataframe thead th {\n",
              "        text-align: right;\n",
              "    }\n",
              "</style>\n",
              "<table border=\"1\" class=\"dataframe\">\n",
              "  <thead>\n",
              "    <tr style=\"text-align: right;\">\n",
              "      <th></th>\n",
              "      <th>fixed acidity</th>\n",
              "      <th>volatile acidity</th>\n",
              "      <th>citric acid</th>\n",
              "      <th>residual sugar</th>\n",
              "      <th>chlorides</th>\n",
              "      <th>free sulfur dioxide</th>\n",
              "      <th>total sulfur dioxide</th>\n",
              "      <th>density</th>\n",
              "      <th>pH</th>\n",
              "      <th>sulphates</th>\n",
              "      <th>alcohol</th>\n",
              "    </tr>\n",
              "    <tr>\n",
              "      <th>quality</th>\n",
              "      <th></th>\n",
              "      <th></th>\n",
              "      <th></th>\n",
              "      <th></th>\n",
              "      <th></th>\n",
              "      <th></th>\n",
              "      <th></th>\n",
              "      <th></th>\n",
              "      <th></th>\n",
              "      <th></th>\n",
              "      <th></th>\n",
              "    </tr>\n",
              "  </thead>\n",
              "  <tbody>\n",
              "    <tr>\n",
              "      <th>3</th>\n",
              "      <td>4.9</td>\n",
              "      <td>1.140</td>\n",
              "      <td>0.66</td>\n",
              "      <td>4.5</td>\n",
              "      <td>0.206</td>\n",
              "      <td>31.0</td>\n",
              "      <td>40.0</td>\n",
              "      <td>0.00609</td>\n",
              "      <td>0.47</td>\n",
              "      <td>0.46</td>\n",
              "      <td>2.6</td>\n",
              "    </tr>\n",
              "    <tr>\n",
              "      <th>4</th>\n",
              "      <td>7.9</td>\n",
              "      <td>0.900</td>\n",
              "      <td>1.00</td>\n",
              "      <td>11.6</td>\n",
              "      <td>0.565</td>\n",
              "      <td>38.0</td>\n",
              "      <td>112.0</td>\n",
              "      <td>0.00760</td>\n",
              "      <td>1.16</td>\n",
              "      <td>1.67</td>\n",
              "      <td>4.1</td>\n",
              "    </tr>\n",
              "    <tr>\n",
              "      <th>5</th>\n",
              "      <td>10.9</td>\n",
              "      <td>1.150</td>\n",
              "      <td>0.79</td>\n",
              "      <td>14.3</td>\n",
              "      <td>0.572</td>\n",
              "      <td>65.0</td>\n",
              "      <td>149.0</td>\n",
              "      <td>0.01059</td>\n",
              "      <td>0.86</td>\n",
              "      <td>1.61</td>\n",
              "      <td>6.4</td>\n",
              "    </tr>\n",
              "    <tr>\n",
              "      <th>6</th>\n",
              "      <td>9.6</td>\n",
              "      <td>0.880</td>\n",
              "      <td>0.78</td>\n",
              "      <td>14.5</td>\n",
              "      <td>0.381</td>\n",
              "      <td>71.0</td>\n",
              "      <td>159.0</td>\n",
              "      <td>0.01362</td>\n",
              "      <td>1.15</td>\n",
              "      <td>1.55</td>\n",
              "      <td>5.6</td>\n",
              "    </tr>\n",
              "    <tr>\n",
              "      <th>7</th>\n",
              "      <td>10.7</td>\n",
              "      <td>0.795</td>\n",
              "      <td>0.76</td>\n",
              "      <td>7.7</td>\n",
              "      <td>0.346</td>\n",
              "      <td>51.0</td>\n",
              "      <td>282.0</td>\n",
              "      <td>0.01256</td>\n",
              "      <td>0.86</td>\n",
              "      <td>0.97</td>\n",
              "      <td>4.8</td>\n",
              "    </tr>\n",
              "    <tr>\n",
              "      <th>8</th>\n",
              "      <td>7.6</td>\n",
              "      <td>0.590</td>\n",
              "      <td>0.69</td>\n",
              "      <td>5.0</td>\n",
              "      <td>0.042</td>\n",
              "      <td>39.0</td>\n",
              "      <td>76.0</td>\n",
              "      <td>0.00800</td>\n",
              "      <td>0.84</td>\n",
              "      <td>0.47</td>\n",
              "      <td>4.2</td>\n",
              "    </tr>\n",
              "  </tbody>\n",
              "</table>\n",
              "</div>"
            ],
            "text/plain": [
              "         fixed acidity  volatile acidity  citric acid  ...    pH  sulphates  alcohol\n",
              "quality                                                ...                          \n",
              "3                  4.9             1.140         0.66  ...  0.47       0.46      2.6\n",
              "4                  7.9             0.900         1.00  ...  1.16       1.67      4.1\n",
              "5                 10.9             1.150         0.79  ...  0.86       1.61      6.4\n",
              "6                  9.6             0.880         0.78  ...  1.15       1.55      5.6\n",
              "7                 10.7             0.795         0.76  ...  0.86       0.97      4.8\n",
              "8                  7.6             0.590         0.69  ...  0.84       0.47      4.2\n",
              "\n",
              "[6 rows x 11 columns]"
            ]
          },
          "metadata": {
            "tags": []
          },
          "execution_count": 19
        }
      ]
    },
    {
      "cell_type": "code",
      "metadata": {
        "colab": {
          "base_uri": "https://localhost:8080/",
          "height": 308
        },
        "id": "0aZnF4hJgNBD",
        "outputId": "40b395b4-da15-4c0a-b245-9b1ded57cd1c"
      },
      "source": [
        "wino.agg('mean')"
      ],
      "execution_count": 20,
      "outputs": [
        {
          "output_type": "execute_result",
          "data": {
            "text/html": [
              "<div>\n",
              "<style scoped>\n",
              "    .dataframe tbody tr th:only-of-type {\n",
              "        vertical-align: middle;\n",
              "    }\n",
              "\n",
              "    .dataframe tbody tr th {\n",
              "        vertical-align: top;\n",
              "    }\n",
              "\n",
              "    .dataframe thead th {\n",
              "        text-align: right;\n",
              "    }\n",
              "</style>\n",
              "<table border=\"1\" class=\"dataframe\">\n",
              "  <thead>\n",
              "    <tr style=\"text-align: right;\">\n",
              "      <th></th>\n",
              "      <th>fixed acidity</th>\n",
              "      <th>volatile acidity</th>\n",
              "      <th>citric acid</th>\n",
              "      <th>residual sugar</th>\n",
              "      <th>chlorides</th>\n",
              "      <th>free sulfur dioxide</th>\n",
              "      <th>total sulfur dioxide</th>\n",
              "      <th>density</th>\n",
              "      <th>pH</th>\n",
              "      <th>sulphates</th>\n",
              "      <th>alcohol</th>\n",
              "    </tr>\n",
              "    <tr>\n",
              "      <th>quality</th>\n",
              "      <th></th>\n",
              "      <th></th>\n",
              "      <th></th>\n",
              "      <th></th>\n",
              "      <th></th>\n",
              "      <th></th>\n",
              "      <th></th>\n",
              "      <th></th>\n",
              "      <th></th>\n",
              "      <th></th>\n",
              "      <th></th>\n",
              "    </tr>\n",
              "  </thead>\n",
              "  <tbody>\n",
              "    <tr>\n",
              "      <th>3</th>\n",
              "      <td>8.360000</td>\n",
              "      <td>0.884500</td>\n",
              "      <td>0.171000</td>\n",
              "      <td>2.635000</td>\n",
              "      <td>0.122500</td>\n",
              "      <td>11.000000</td>\n",
              "      <td>24.900000</td>\n",
              "      <td>0.997464</td>\n",
              "      <td>3.398000</td>\n",
              "      <td>0.570000</td>\n",
              "      <td>9.955000</td>\n",
              "    </tr>\n",
              "    <tr>\n",
              "      <th>4</th>\n",
              "      <td>7.779245</td>\n",
              "      <td>0.693962</td>\n",
              "      <td>0.174151</td>\n",
              "      <td>2.694340</td>\n",
              "      <td>0.090679</td>\n",
              "      <td>12.264151</td>\n",
              "      <td>36.245283</td>\n",
              "      <td>0.996542</td>\n",
              "      <td>3.381509</td>\n",
              "      <td>0.596415</td>\n",
              "      <td>10.265094</td>\n",
              "    </tr>\n",
              "    <tr>\n",
              "      <th>5</th>\n",
              "      <td>8.167254</td>\n",
              "      <td>0.577041</td>\n",
              "      <td>0.243686</td>\n",
              "      <td>2.528855</td>\n",
              "      <td>0.092736</td>\n",
              "      <td>16.983847</td>\n",
              "      <td>56.513950</td>\n",
              "      <td>0.997104</td>\n",
              "      <td>3.304949</td>\n",
              "      <td>0.620969</td>\n",
              "      <td>9.899706</td>\n",
              "    </tr>\n",
              "    <tr>\n",
              "      <th>6</th>\n",
              "      <td>8.347179</td>\n",
              "      <td>0.497484</td>\n",
              "      <td>0.273824</td>\n",
              "      <td>2.477194</td>\n",
              "      <td>0.084956</td>\n",
              "      <td>15.711599</td>\n",
              "      <td>40.869906</td>\n",
              "      <td>0.996615</td>\n",
              "      <td>3.318072</td>\n",
              "      <td>0.675329</td>\n",
              "      <td>10.629519</td>\n",
              "    </tr>\n",
              "    <tr>\n",
              "      <th>7</th>\n",
              "      <td>8.872362</td>\n",
              "      <td>0.403920</td>\n",
              "      <td>0.375176</td>\n",
              "      <td>2.720603</td>\n",
              "      <td>0.076588</td>\n",
              "      <td>14.045226</td>\n",
              "      <td>35.020101</td>\n",
              "      <td>0.996104</td>\n",
              "      <td>3.290754</td>\n",
              "      <td>0.741256</td>\n",
              "      <td>11.465913</td>\n",
              "    </tr>\n",
              "    <tr>\n",
              "      <th>8</th>\n",
              "      <td>8.566667</td>\n",
              "      <td>0.423333</td>\n",
              "      <td>0.391111</td>\n",
              "      <td>2.577778</td>\n",
              "      <td>0.068444</td>\n",
              "      <td>13.277778</td>\n",
              "      <td>33.444444</td>\n",
              "      <td>0.995212</td>\n",
              "      <td>3.267222</td>\n",
              "      <td>0.767778</td>\n",
              "      <td>12.094444</td>\n",
              "    </tr>\n",
              "  </tbody>\n",
              "</table>\n",
              "</div>"
            ],
            "text/plain": [
              "         fixed acidity  volatile acidity  ...  sulphates    alcohol\n",
              "quality                                   ...                      \n",
              "3             8.360000          0.884500  ...   0.570000   9.955000\n",
              "4             7.779245          0.693962  ...   0.596415  10.265094\n",
              "5             8.167254          0.577041  ...   0.620969   9.899706\n",
              "6             8.347179          0.497484  ...   0.675329  10.629519\n",
              "7             8.872362          0.403920  ...   0.741256  11.465913\n",
              "8             8.566667          0.423333  ...   0.767778  12.094444\n",
              "\n",
              "[6 rows x 11 columns]"
            ]
          },
          "metadata": {
            "tags": []
          },
          "execution_count": 20
        }
      ]
    },
    {
      "cell_type": "code",
      "metadata": {
        "colab": {
          "base_uri": "https://localhost:8080/",
          "height": 249
        },
        "id": "D-5qv-eZguPE",
        "outputId": "6ca7d3d2-7ac6-4593-e5a5-98979d4f9271"
      },
      "source": [
        "dframe_wine.head()"
      ],
      "execution_count": 21,
      "outputs": [
        {
          "output_type": "execute_result",
          "data": {
            "text/html": [
              "<div>\n",
              "<style scoped>\n",
              "    .dataframe tbody tr th:only-of-type {\n",
              "        vertical-align: middle;\n",
              "    }\n",
              "\n",
              "    .dataframe tbody tr th {\n",
              "        vertical-align: top;\n",
              "    }\n",
              "\n",
              "    .dataframe thead th {\n",
              "        text-align: right;\n",
              "    }\n",
              "</style>\n",
              "<table border=\"1\" class=\"dataframe\">\n",
              "  <thead>\n",
              "    <tr style=\"text-align: right;\">\n",
              "      <th></th>\n",
              "      <th>fixed acidity</th>\n",
              "      <th>volatile acidity</th>\n",
              "      <th>citric acid</th>\n",
              "      <th>residual sugar</th>\n",
              "      <th>chlorides</th>\n",
              "      <th>free sulfur dioxide</th>\n",
              "      <th>total sulfur dioxide</th>\n",
              "      <th>density</th>\n",
              "      <th>pH</th>\n",
              "      <th>sulphates</th>\n",
              "      <th>alcohol</th>\n",
              "      <th>quality</th>\n",
              "    </tr>\n",
              "  </thead>\n",
              "  <tbody>\n",
              "    <tr>\n",
              "      <th>0</th>\n",
              "      <td>7.4</td>\n",
              "      <td>0.70</td>\n",
              "      <td>0.00</td>\n",
              "      <td>1.9</td>\n",
              "      <td>0.076</td>\n",
              "      <td>11.0</td>\n",
              "      <td>34.0</td>\n",
              "      <td>0.9978</td>\n",
              "      <td>3.51</td>\n",
              "      <td>0.56</td>\n",
              "      <td>9.4</td>\n",
              "      <td>5</td>\n",
              "    </tr>\n",
              "    <tr>\n",
              "      <th>1</th>\n",
              "      <td>7.8</td>\n",
              "      <td>0.88</td>\n",
              "      <td>0.00</td>\n",
              "      <td>2.6</td>\n",
              "      <td>0.098</td>\n",
              "      <td>25.0</td>\n",
              "      <td>67.0</td>\n",
              "      <td>0.9968</td>\n",
              "      <td>3.20</td>\n",
              "      <td>0.68</td>\n",
              "      <td>9.8</td>\n",
              "      <td>5</td>\n",
              "    </tr>\n",
              "    <tr>\n",
              "      <th>2</th>\n",
              "      <td>7.8</td>\n",
              "      <td>0.76</td>\n",
              "      <td>0.04</td>\n",
              "      <td>2.3</td>\n",
              "      <td>0.092</td>\n",
              "      <td>15.0</td>\n",
              "      <td>54.0</td>\n",
              "      <td>0.9970</td>\n",
              "      <td>3.26</td>\n",
              "      <td>0.65</td>\n",
              "      <td>9.8</td>\n",
              "      <td>5</td>\n",
              "    </tr>\n",
              "    <tr>\n",
              "      <th>3</th>\n",
              "      <td>11.2</td>\n",
              "      <td>0.28</td>\n",
              "      <td>0.56</td>\n",
              "      <td>1.9</td>\n",
              "      <td>0.075</td>\n",
              "      <td>17.0</td>\n",
              "      <td>60.0</td>\n",
              "      <td>0.9980</td>\n",
              "      <td>3.16</td>\n",
              "      <td>0.58</td>\n",
              "      <td>9.8</td>\n",
              "      <td>6</td>\n",
              "    </tr>\n",
              "    <tr>\n",
              "      <th>4</th>\n",
              "      <td>7.4</td>\n",
              "      <td>0.70</td>\n",
              "      <td>0.00</td>\n",
              "      <td>1.9</td>\n",
              "      <td>0.076</td>\n",
              "      <td>11.0</td>\n",
              "      <td>34.0</td>\n",
              "      <td>0.9978</td>\n",
              "      <td>3.51</td>\n",
              "      <td>0.56</td>\n",
              "      <td>9.4</td>\n",
              "      <td>5</td>\n",
              "    </tr>\n",
              "  </tbody>\n",
              "</table>\n",
              "</div>"
            ],
            "text/plain": [
              "   fixed acidity  volatile acidity  citric acid  ...  sulphates  alcohol  quality\n",
              "0            7.4              0.70         0.00  ...       0.56      9.4        5\n",
              "1            7.8              0.88         0.00  ...       0.68      9.8        5\n",
              "2            7.8              0.76         0.04  ...       0.65      9.8        5\n",
              "3           11.2              0.28         0.56  ...       0.58      9.8        6\n",
              "4            7.4              0.70         0.00  ...       0.56      9.4        5\n",
              "\n",
              "[5 rows x 12 columns]"
            ]
          },
          "metadata": {
            "tags": []
          },
          "execution_count": 21
        }
      ]
    },
    {
      "cell_type": "code",
      "metadata": {
        "id": "J05YlaDrg3jb"
      },
      "source": [
        "dframe_wine['qual/alc ratio'] = dframe_wine['quality'] / dframe_wine['alcohol']"
      ],
      "execution_count": 22,
      "outputs": []
    },
    {
      "cell_type": "code",
      "metadata": {
        "colab": {
          "base_uri": "https://localhost:8080/",
          "height": 249
        },
        "id": "b9EzCrwzhG2D",
        "outputId": "01c4030b-ce02-4622-9e10-dae3a37cd44c"
      },
      "source": [
        "dframe_wine.head()"
      ],
      "execution_count": 23,
      "outputs": [
        {
          "output_type": "execute_result",
          "data": {
            "text/html": [
              "<div>\n",
              "<style scoped>\n",
              "    .dataframe tbody tr th:only-of-type {\n",
              "        vertical-align: middle;\n",
              "    }\n",
              "\n",
              "    .dataframe tbody tr th {\n",
              "        vertical-align: top;\n",
              "    }\n",
              "\n",
              "    .dataframe thead th {\n",
              "        text-align: right;\n",
              "    }\n",
              "</style>\n",
              "<table border=\"1\" class=\"dataframe\">\n",
              "  <thead>\n",
              "    <tr style=\"text-align: right;\">\n",
              "      <th></th>\n",
              "      <th>fixed acidity</th>\n",
              "      <th>volatile acidity</th>\n",
              "      <th>citric acid</th>\n",
              "      <th>residual sugar</th>\n",
              "      <th>chlorides</th>\n",
              "      <th>free sulfur dioxide</th>\n",
              "      <th>total sulfur dioxide</th>\n",
              "      <th>density</th>\n",
              "      <th>pH</th>\n",
              "      <th>sulphates</th>\n",
              "      <th>alcohol</th>\n",
              "      <th>quality</th>\n",
              "      <th>qual/alc ratio</th>\n",
              "    </tr>\n",
              "  </thead>\n",
              "  <tbody>\n",
              "    <tr>\n",
              "      <th>0</th>\n",
              "      <td>7.4</td>\n",
              "      <td>0.70</td>\n",
              "      <td>0.00</td>\n",
              "      <td>1.9</td>\n",
              "      <td>0.076</td>\n",
              "      <td>11.0</td>\n",
              "      <td>34.0</td>\n",
              "      <td>0.9978</td>\n",
              "      <td>3.51</td>\n",
              "      <td>0.56</td>\n",
              "      <td>9.4</td>\n",
              "      <td>5</td>\n",
              "      <td>0.531915</td>\n",
              "    </tr>\n",
              "    <tr>\n",
              "      <th>1</th>\n",
              "      <td>7.8</td>\n",
              "      <td>0.88</td>\n",
              "      <td>0.00</td>\n",
              "      <td>2.6</td>\n",
              "      <td>0.098</td>\n",
              "      <td>25.0</td>\n",
              "      <td>67.0</td>\n",
              "      <td>0.9968</td>\n",
              "      <td>3.20</td>\n",
              "      <td>0.68</td>\n",
              "      <td>9.8</td>\n",
              "      <td>5</td>\n",
              "      <td>0.510204</td>\n",
              "    </tr>\n",
              "    <tr>\n",
              "      <th>2</th>\n",
              "      <td>7.8</td>\n",
              "      <td>0.76</td>\n",
              "      <td>0.04</td>\n",
              "      <td>2.3</td>\n",
              "      <td>0.092</td>\n",
              "      <td>15.0</td>\n",
              "      <td>54.0</td>\n",
              "      <td>0.9970</td>\n",
              "      <td>3.26</td>\n",
              "      <td>0.65</td>\n",
              "      <td>9.8</td>\n",
              "      <td>5</td>\n",
              "      <td>0.510204</td>\n",
              "    </tr>\n",
              "    <tr>\n",
              "      <th>3</th>\n",
              "      <td>11.2</td>\n",
              "      <td>0.28</td>\n",
              "      <td>0.56</td>\n",
              "      <td>1.9</td>\n",
              "      <td>0.075</td>\n",
              "      <td>17.0</td>\n",
              "      <td>60.0</td>\n",
              "      <td>0.9980</td>\n",
              "      <td>3.16</td>\n",
              "      <td>0.58</td>\n",
              "      <td>9.8</td>\n",
              "      <td>6</td>\n",
              "      <td>0.612245</td>\n",
              "    </tr>\n",
              "    <tr>\n",
              "      <th>4</th>\n",
              "      <td>7.4</td>\n",
              "      <td>0.70</td>\n",
              "      <td>0.00</td>\n",
              "      <td>1.9</td>\n",
              "      <td>0.076</td>\n",
              "      <td>11.0</td>\n",
              "      <td>34.0</td>\n",
              "      <td>0.9978</td>\n",
              "      <td>3.51</td>\n",
              "      <td>0.56</td>\n",
              "      <td>9.4</td>\n",
              "      <td>5</td>\n",
              "      <td>0.531915</td>\n",
              "    </tr>\n",
              "  </tbody>\n",
              "</table>\n",
              "</div>"
            ],
            "text/plain": [
              "   fixed acidity  volatile acidity  ...  quality  qual/alc ratio\n",
              "0            7.4              0.70  ...        5        0.531915\n",
              "1            7.8              0.88  ...        5        0.510204\n",
              "2            7.8              0.76  ...        5        0.510204\n",
              "3           11.2              0.28  ...        6        0.612245\n",
              "4            7.4              0.70  ...        5        0.531915\n",
              "\n",
              "[5 rows x 13 columns]"
            ]
          },
          "metadata": {
            "tags": []
          },
          "execution_count": 23
        }
      ]
    },
    {
      "cell_type": "code",
      "metadata": {
        "colab": {
          "base_uri": "https://localhost:8080/",
          "height": 308
        },
        "id": "6pApM-EfhJ-V",
        "outputId": "b40027ae-b4c6-40c5-cca7-159ffe3d8f4a"
      },
      "source": [
        "dframe_wine.pivot_table(index=['quality'])"
      ],
      "execution_count": 28,
      "outputs": [
        {
          "output_type": "execute_result",
          "data": {
            "text/html": [
              "<div>\n",
              "<style scoped>\n",
              "    .dataframe tbody tr th:only-of-type {\n",
              "        vertical-align: middle;\n",
              "    }\n",
              "\n",
              "    .dataframe tbody tr th {\n",
              "        vertical-align: top;\n",
              "    }\n",
              "\n",
              "    .dataframe thead th {\n",
              "        text-align: right;\n",
              "    }\n",
              "</style>\n",
              "<table border=\"1\" class=\"dataframe\">\n",
              "  <thead>\n",
              "    <tr style=\"text-align: right;\">\n",
              "      <th></th>\n",
              "      <th>alcohol</th>\n",
              "      <th>chlorides</th>\n",
              "      <th>citric acid</th>\n",
              "      <th>density</th>\n",
              "      <th>fixed acidity</th>\n",
              "      <th>free sulfur dioxide</th>\n",
              "      <th>pH</th>\n",
              "      <th>qual/alc ratio</th>\n",
              "      <th>residual sugar</th>\n",
              "      <th>sulphates</th>\n",
              "      <th>total sulfur dioxide</th>\n",
              "      <th>volatile acidity</th>\n",
              "    </tr>\n",
              "    <tr>\n",
              "      <th>quality</th>\n",
              "      <th></th>\n",
              "      <th></th>\n",
              "      <th></th>\n",
              "      <th></th>\n",
              "      <th></th>\n",
              "      <th></th>\n",
              "      <th></th>\n",
              "      <th></th>\n",
              "      <th></th>\n",
              "      <th></th>\n",
              "      <th></th>\n",
              "      <th></th>\n",
              "    </tr>\n",
              "  </thead>\n",
              "  <tbody>\n",
              "    <tr>\n",
              "      <th>3</th>\n",
              "      <td>9.955000</td>\n",
              "      <td>0.122500</td>\n",
              "      <td>0.171000</td>\n",
              "      <td>0.997464</td>\n",
              "      <td>8.360000</td>\n",
              "      <td>11.000000</td>\n",
              "      <td>3.398000</td>\n",
              "      <td>0.303286</td>\n",
              "      <td>2.635000</td>\n",
              "      <td>0.570000</td>\n",
              "      <td>24.900000</td>\n",
              "      <td>0.884500</td>\n",
              "    </tr>\n",
              "    <tr>\n",
              "      <th>4</th>\n",
              "      <td>10.265094</td>\n",
              "      <td>0.090679</td>\n",
              "      <td>0.174151</td>\n",
              "      <td>0.996542</td>\n",
              "      <td>7.779245</td>\n",
              "      <td>12.264151</td>\n",
              "      <td>3.381509</td>\n",
              "      <td>0.392724</td>\n",
              "      <td>2.694340</td>\n",
              "      <td>0.596415</td>\n",
              "      <td>36.245283</td>\n",
              "      <td>0.693962</td>\n",
              "    </tr>\n",
              "    <tr>\n",
              "      <th>5</th>\n",
              "      <td>9.899706</td>\n",
              "      <td>0.092736</td>\n",
              "      <td>0.243686</td>\n",
              "      <td>0.997104</td>\n",
              "      <td>8.167254</td>\n",
              "      <td>16.983847</td>\n",
              "      <td>3.304949</td>\n",
              "      <td>0.507573</td>\n",
              "      <td>2.528855</td>\n",
              "      <td>0.620969</td>\n",
              "      <td>56.513950</td>\n",
              "      <td>0.577041</td>\n",
              "    </tr>\n",
              "    <tr>\n",
              "      <th>6</th>\n",
              "      <td>10.629519</td>\n",
              "      <td>0.084956</td>\n",
              "      <td>0.273824</td>\n",
              "      <td>0.996615</td>\n",
              "      <td>8.347179</td>\n",
              "      <td>15.711599</td>\n",
              "      <td>3.318072</td>\n",
              "      <td>0.569801</td>\n",
              "      <td>2.477194</td>\n",
              "      <td>0.675329</td>\n",
              "      <td>40.869906</td>\n",
              "      <td>0.497484</td>\n",
              "    </tr>\n",
              "    <tr>\n",
              "      <th>7</th>\n",
              "      <td>11.465913</td>\n",
              "      <td>0.076588</td>\n",
              "      <td>0.375176</td>\n",
              "      <td>0.996104</td>\n",
              "      <td>8.872362</td>\n",
              "      <td>14.045226</td>\n",
              "      <td>3.290754</td>\n",
              "      <td>0.614855</td>\n",
              "      <td>2.720603</td>\n",
              "      <td>0.741256</td>\n",
              "      <td>35.020101</td>\n",
              "      <td>0.403920</td>\n",
              "    </tr>\n",
              "    <tr>\n",
              "      <th>8</th>\n",
              "      <td>12.094444</td>\n",
              "      <td>0.068444</td>\n",
              "      <td>0.391111</td>\n",
              "      <td>0.995212</td>\n",
              "      <td>8.566667</td>\n",
              "      <td>13.277778</td>\n",
              "      <td>3.267222</td>\n",
              "      <td>0.668146</td>\n",
              "      <td>2.577778</td>\n",
              "      <td>0.767778</td>\n",
              "      <td>33.444444</td>\n",
              "      <td>0.423333</td>\n",
              "    </tr>\n",
              "  </tbody>\n",
              "</table>\n",
              "</div>"
            ],
            "text/plain": [
              "           alcohol  chlorides  ...  total sulfur dioxide  volatile acidity\n",
              "quality                        ...                                        \n",
              "3         9.955000   0.122500  ...             24.900000          0.884500\n",
              "4        10.265094   0.090679  ...             36.245283          0.693962\n",
              "5         9.899706   0.092736  ...             56.513950          0.577041\n",
              "6        10.629519   0.084956  ...             40.869906          0.497484\n",
              "7        11.465913   0.076588  ...             35.020101          0.403920\n",
              "8        12.094444   0.068444  ...             33.444444          0.423333\n",
              "\n",
              "[6 rows x 12 columns]"
            ]
          },
          "metadata": {
            "tags": []
          },
          "execution_count": 28
        }
      ]
    },
    {
      "cell_type": "code",
      "metadata": {
        "id": "9RbaJnQbhPbU"
      },
      "source": [
        "%matplotlib inline"
      ],
      "execution_count": 30,
      "outputs": []
    },
    {
      "cell_type": "code",
      "metadata": {
        "colab": {
          "base_uri": "https://localhost:8080/",
          "height": 296
        },
        "id": "qD8n_KHVhuTU",
        "outputId": "c855d92f-cff2-4db1-e713-045685f65639"
      },
      "source": [
        "dframe_wine.plot(kind='scatter',x='quality',y='alcohol')"
      ],
      "execution_count": 31,
      "outputs": [
        {
          "output_type": "execute_result",
          "data": {
            "text/plain": [
              "<matplotlib.axes._subplots.AxesSubplot at 0x7f7996397890>"
            ]
          },
          "metadata": {
            "tags": []
          },
          "execution_count": 31
        },
        {
          "output_type": "display_data",
          "data": {
            "image/png": "[encoded data removed]",
            "text/plain": [
              "<Figure size 432x288 with 1 Axes>"
            ]
          },
          "metadata": {
            "tags": [],
            "needs_background": "light"
          }
        }
      ]
    },
    {
      "cell_type": "markdown",
      "metadata": {
        "id": "ZmffVQ8XiFi0"
      },
      "source": [
        "# Splting Applying & Combaining"
      ]
    },
    {
      "cell_type": "code",
      "metadata": {
        "id": "iGsVM2LHh_ID"
      },
      "source": [
        "dframe_wine = pd.read_csv('winequality-red.csv',sep=';')"
      ],
      "execution_count": 32,
      "outputs": []
    },
    {
      "cell_type": "code",
      "metadata": {
        "colab": {
          "base_uri": "https://localhost:8080/",
          "height": 249
        },
        "id": "rZ-jc3IPimWc",
        "outputId": "2b13d26a-9950-4d0b-d372-d2a382aec755"
      },
      "source": [
        "dframe_wine.head()"
      ],
      "execution_count": 33,
      "outputs": [
        {
          "output_type": "execute_result",
          "data": {
            "text/html": [
              "<div>\n",
              "<style scoped>\n",
              "    .dataframe tbody tr th:only-of-type {\n",
              "        vertical-align: middle;\n",
              "    }\n",
              "\n",
              "    .dataframe tbody tr th {\n",
              "        vertical-align: top;\n",
              "    }\n",
              "\n",
              "    .dataframe thead th {\n",
              "        text-align: right;\n",
              "    }\n",
              "</style>\n",
              "<table border=\"1\" class=\"dataframe\">\n",
              "  <thead>\n",
              "    <tr style=\"text-align: right;\">\n",
              "      <th></th>\n",
              "      <th>fixed acidity</th>\n",
              "      <th>volatile acidity</th>\n",
              "      <th>citric acid</th>\n",
              "      <th>residual sugar</th>\n",
              "      <th>chlorides</th>\n",
              "      <th>free sulfur dioxide</th>\n",
              "      <th>total sulfur dioxide</th>\n",
              "      <th>density</th>\n",
              "      <th>pH</th>\n",
              "      <th>sulphates</th>\n",
              "      <th>alcohol</th>\n",
              "      <th>quality</th>\n",
              "    </tr>\n",
              "  </thead>\n",
              "  <tbody>\n",
              "    <tr>\n",
              "      <th>0</th>\n",
              "      <td>7.4</td>\n",
              "      <td>0.70</td>\n",
              "      <td>0.00</td>\n",
              "      <td>1.9</td>\n",
              "      <td>0.076</td>\n",
              "      <td>11.0</td>\n",
              "      <td>34.0</td>\n",
              "      <td>0.9978</td>\n",
              "      <td>3.51</td>\n",
              "      <td>0.56</td>\n",
              "      <td>9.4</td>\n",
              "      <td>5</td>\n",
              "    </tr>\n",
              "    <tr>\n",
              "      <th>1</th>\n",
              "      <td>7.8</td>\n",
              "      <td>0.88</td>\n",
              "      <td>0.00</td>\n",
              "      <td>2.6</td>\n",
              "      <td>0.098</td>\n",
              "      <td>25.0</td>\n",
              "      <td>67.0</td>\n",
              "      <td>0.9968</td>\n",
              "      <td>3.20</td>\n",
              "      <td>0.68</td>\n",
              "      <td>9.8</td>\n",
              "      <td>5</td>\n",
              "    </tr>\n",
              "    <tr>\n",
              "      <th>2</th>\n",
              "      <td>7.8</td>\n",
              "      <td>0.76</td>\n",
              "      <td>0.04</td>\n",
              "      <td>2.3</td>\n",
              "      <td>0.092</td>\n",
              "      <td>15.0</td>\n",
              "      <td>54.0</td>\n",
              "      <td>0.9970</td>\n",
              "      <td>3.26</td>\n",
              "      <td>0.65</td>\n",
              "      <td>9.8</td>\n",
              "      <td>5</td>\n",
              "    </tr>\n",
              "    <tr>\n",
              "      <th>3</th>\n",
              "      <td>11.2</td>\n",
              "      <td>0.28</td>\n",
              "      <td>0.56</td>\n",
              "      <td>1.9</td>\n",
              "      <td>0.075</td>\n",
              "      <td>17.0</td>\n",
              "      <td>60.0</td>\n",
              "      <td>0.9980</td>\n",
              "      <td>3.16</td>\n",
              "      <td>0.58</td>\n",
              "      <td>9.8</td>\n",
              "      <td>6</td>\n",
              "    </tr>\n",
              "    <tr>\n",
              "      <th>4</th>\n",
              "      <td>7.4</td>\n",
              "      <td>0.70</td>\n",
              "      <td>0.00</td>\n",
              "      <td>1.9</td>\n",
              "      <td>0.076</td>\n",
              "      <td>11.0</td>\n",
              "      <td>34.0</td>\n",
              "      <td>0.9978</td>\n",
              "      <td>3.51</td>\n",
              "      <td>0.56</td>\n",
              "      <td>9.4</td>\n",
              "      <td>5</td>\n",
              "    </tr>\n",
              "  </tbody>\n",
              "</table>\n",
              "</div>"
            ],
            "text/plain": [
              "   fixed acidity  volatile acidity  citric acid  ...  sulphates  alcohol  quality\n",
              "0            7.4              0.70         0.00  ...       0.56      9.4        5\n",
              "1            7.8              0.88         0.00  ...       0.68      9.8        5\n",
              "2            7.8              0.76         0.04  ...       0.65      9.8        5\n",
              "3           11.2              0.28         0.56  ...       0.58      9.8        6\n",
              "4            7.4              0.70         0.00  ...       0.56      9.4        5\n",
              "\n",
              "[5 rows x 12 columns]"
            ]
          },
          "metadata": {
            "tags": []
          },
          "execution_count": 33
        }
      ]
    },
    {
      "cell_type": "code",
      "metadata": {
        "id": "sNE-VQ0GipOb"
      },
      "source": [
        "def ranker(df):\n",
        "  df['alc_content_rank'] = np.arange(len(df)) +1\n",
        "  return df"
      ],
      "execution_count": 34,
      "outputs": []
    },
    {
      "cell_type": "code",
      "metadata": {
        "id": "HmMfn7kei9_s"
      },
      "source": [
        "dframe_wine.sort_values('alcohol', ascending= False, inplace=True)"
      ],
      "execution_count": 36,
      "outputs": []
    },
    {
      "cell_type": "code",
      "metadata": {
        "id": "WVHgs-tNjG9E"
      },
      "source": [
        "dframe_wine = dframe_wine.groupby('quality').apply(ranker)"
      ],
      "execution_count": 37,
      "outputs": []
    },
    {
      "cell_type": "code",
      "metadata": {
        "colab": {
          "base_uri": "https://localhost:8080/",
          "height": 249
        },
        "id": "56HSVgc6jc5c",
        "outputId": "4c1cd800-7de7-4466-c750-13731cd847f1"
      },
      "source": [
        "dframe_wine.head()"
      ],
      "execution_count": 38,
      "outputs": [
        {
          "output_type": "execute_result",
          "data": {
            "text/html": [
              "<div>\n",
              "<style scoped>\n",
              "    .dataframe tbody tr th:only-of-type {\n",
              "        vertical-align: middle;\n",
              "    }\n",
              "\n",
              "    .dataframe tbody tr th {\n",
              "        vertical-align: top;\n",
              "    }\n",
              "\n",
              "    .dataframe thead th {\n",
              "        text-align: right;\n",
              "    }\n",
              "</style>\n",
              "<table border=\"1\" class=\"dataframe\">\n",
              "  <thead>\n",
              "    <tr style=\"text-align: right;\">\n",
              "      <th></th>\n",
              "      <th>fixed acidity</th>\n",
              "      <th>volatile acidity</th>\n",
              "      <th>citric acid</th>\n",
              "      <th>residual sugar</th>\n",
              "      <th>chlorides</th>\n",
              "      <th>free sulfur dioxide</th>\n",
              "      <th>total sulfur dioxide</th>\n",
              "      <th>density</th>\n",
              "      <th>pH</th>\n",
              "      <th>sulphates</th>\n",
              "      <th>alcohol</th>\n",
              "      <th>quality</th>\n",
              "      <th>alc_content_rank</th>\n",
              "    </tr>\n",
              "  </thead>\n",
              "  <tbody>\n",
              "    <tr>\n",
              "      <th>652</th>\n",
              "      <td>15.9</td>\n",
              "      <td>0.36</td>\n",
              "      <td>0.65</td>\n",
              "      <td>7.5</td>\n",
              "      <td>0.096</td>\n",
              "      <td>22.0</td>\n",
              "      <td>71.0</td>\n",
              "      <td>0.99760</td>\n",
              "      <td>2.98</td>\n",
              "      <td>0.84</td>\n",
              "      <td>14.9</td>\n",
              "      <td>5</td>\n",
              "      <td>1</td>\n",
              "    </tr>\n",
              "    <tr>\n",
              "      <th>588</th>\n",
              "      <td>5.0</td>\n",
              "      <td>0.42</td>\n",
              "      <td>0.24</td>\n",
              "      <td>2.0</td>\n",
              "      <td>0.060</td>\n",
              "      <td>19.0</td>\n",
              "      <td>50.0</td>\n",
              "      <td>0.99170</td>\n",
              "      <td>3.72</td>\n",
              "      <td>0.74</td>\n",
              "      <td>14.0</td>\n",
              "      <td>8</td>\n",
              "      <td>1</td>\n",
              "    </tr>\n",
              "    <tr>\n",
              "      <th>142</th>\n",
              "      <td>5.2</td>\n",
              "      <td>0.34</td>\n",
              "      <td>0.00</td>\n",
              "      <td>1.8</td>\n",
              "      <td>0.050</td>\n",
              "      <td>27.0</td>\n",
              "      <td>63.0</td>\n",
              "      <td>0.99160</td>\n",
              "      <td>3.68</td>\n",
              "      <td>0.79</td>\n",
              "      <td>14.0</td>\n",
              "      <td>6</td>\n",
              "      <td>1</td>\n",
              "    </tr>\n",
              "    <tr>\n",
              "      <th>144</th>\n",
              "      <td>5.2</td>\n",
              "      <td>0.34</td>\n",
              "      <td>0.00</td>\n",
              "      <td>1.8</td>\n",
              "      <td>0.050</td>\n",
              "      <td>27.0</td>\n",
              "      <td>63.0</td>\n",
              "      <td>0.99160</td>\n",
              "      <td>3.68</td>\n",
              "      <td>0.79</td>\n",
              "      <td>14.0</td>\n",
              "      <td>6</td>\n",
              "      <td>2</td>\n",
              "    </tr>\n",
              "    <tr>\n",
              "      <th>1270</th>\n",
              "      <td>5.0</td>\n",
              "      <td>0.38</td>\n",
              "      <td>0.01</td>\n",
              "      <td>1.6</td>\n",
              "      <td>0.048</td>\n",
              "      <td>26.0</td>\n",
              "      <td>60.0</td>\n",
              "      <td>0.99084</td>\n",
              "      <td>3.70</td>\n",
              "      <td>0.75</td>\n",
              "      <td>14.0</td>\n",
              "      <td>6</td>\n",
              "      <td>3</td>\n",
              "    </tr>\n",
              "  </tbody>\n",
              "</table>\n",
              "</div>"
            ],
            "text/plain": [
              "      fixed acidity  volatile acidity  ...  quality  alc_content_rank\n",
              "652            15.9              0.36  ...        5                 1\n",
              "588             5.0              0.42  ...        8                 1\n",
              "142             5.2              0.34  ...        6                 1\n",
              "144             5.2              0.34  ...        6                 2\n",
              "1270            5.0              0.38  ...        6                 3\n",
              "\n",
              "[5 rows x 13 columns]"
            ]
          },
          "metadata": {
            "tags": []
          },
          "execution_count": 38
        }
      ]
    },
    {
      "cell_type": "code",
      "metadata": {
        "id": "v_8f08gfjjPE"
      },
      "source": [
        "  num_of_qual = dframe_wine['quality'].value_counts()"
      ],
      "execution_count": 40,
      "outputs": []
    },
    {
      "cell_type": "code",
      "metadata": {
        "colab": {
          "base_uri": "https://localhost:8080/"
        },
        "id": "6gb-2KqupLAD",
        "outputId": "bd007f08-ec51-4121-d657-85e80f882987"
      },
      "source": [
        "num_of_qual"
      ],
      "execution_count": 41,
      "outputs": [
        {
          "output_type": "execute_result",
          "data": {
            "text/plain": [
              "5    681\n",
              "6    638\n",
              "7    199\n",
              "4     53\n",
              "8     18\n",
              "3     10\n",
              "Name: quality, dtype: int64"
            ]
          },
          "metadata": {
            "tags": []
          },
          "execution_count": 41
        }
      ]
    },
    {
      "cell_type": "code",
      "metadata": {
        "colab": {
          "base_uri": "https://localhost:8080/",
          "height": 278
        },
        "id": "j1d7kuYxpPJk",
        "outputId": "8be868c8-529b-41a1-faac-568c7e5b6bff"
      },
      "source": [
        "dframe_wine[dframe_wine.alc_content_rank == 1].head(len(num_of_qual))"
      ],
      "execution_count": 42,
      "outputs": [
        {
          "output_type": "execute_result",
          "data": {
            "text/html": [
              "<div>\n",
              "<style scoped>\n",
              "    .dataframe tbody tr th:only-of-type {\n",
              "        vertical-align: middle;\n",
              "    }\n",
              "\n",
              "    .dataframe tbody tr th {\n",
              "        vertical-align: top;\n",
              "    }\n",
              "\n",
              "    .dataframe thead th {\n",
              "        text-align: right;\n",
              "    }\n",
              "</style>\n",
              "<table border=\"1\" class=\"dataframe\">\n",
              "  <thead>\n",
              "    <tr style=\"text-align: right;\">\n",
              "      <th></th>\n",
              "      <th>fixed acidity</th>\n",
              "      <th>volatile acidity</th>\n",
              "      <th>citric acid</th>\n",
              "      <th>residual sugar</th>\n",
              "      <th>chlorides</th>\n",
              "      <th>free sulfur dioxide</th>\n",
              "      <th>total sulfur dioxide</th>\n",
              "      <th>density</th>\n",
              "      <th>pH</th>\n",
              "      <th>sulphates</th>\n",
              "      <th>alcohol</th>\n",
              "      <th>quality</th>\n",
              "      <th>alc_content_rank</th>\n",
              "    </tr>\n",
              "  </thead>\n",
              "  <tbody>\n",
              "    <tr>\n",
              "      <th>652</th>\n",
              "      <td>15.9</td>\n",
              "      <td>0.36</td>\n",
              "      <td>0.65</td>\n",
              "      <td>7.5</td>\n",
              "      <td>0.096</td>\n",
              "      <td>22.0</td>\n",
              "      <td>71.0</td>\n",
              "      <td>0.99760</td>\n",
              "      <td>2.98</td>\n",
              "      <td>0.84</td>\n",
              "      <td>14.9</td>\n",
              "      <td>5</td>\n",
              "      <td>1</td>\n",
              "    </tr>\n",
              "    <tr>\n",
              "      <th>588</th>\n",
              "      <td>5.0</td>\n",
              "      <td>0.42</td>\n",
              "      <td>0.24</td>\n",
              "      <td>2.0</td>\n",
              "      <td>0.060</td>\n",
              "      <td>19.0</td>\n",
              "      <td>50.0</td>\n",
              "      <td>0.99170</td>\n",
              "      <td>3.72</td>\n",
              "      <td>0.74</td>\n",
              "      <td>14.0</td>\n",
              "      <td>8</td>\n",
              "      <td>1</td>\n",
              "    </tr>\n",
              "    <tr>\n",
              "      <th>142</th>\n",
              "      <td>5.2</td>\n",
              "      <td>0.34</td>\n",
              "      <td>0.00</td>\n",
              "      <td>1.8</td>\n",
              "      <td>0.050</td>\n",
              "      <td>27.0</td>\n",
              "      <td>63.0</td>\n",
              "      <td>0.99160</td>\n",
              "      <td>3.68</td>\n",
              "      <td>0.79</td>\n",
              "      <td>14.0</td>\n",
              "      <td>6</td>\n",
              "      <td>1</td>\n",
              "    </tr>\n",
              "    <tr>\n",
              "      <th>821</th>\n",
              "      <td>4.9</td>\n",
              "      <td>0.42</td>\n",
              "      <td>0.00</td>\n",
              "      <td>2.1</td>\n",
              "      <td>0.048</td>\n",
              "      <td>16.0</td>\n",
              "      <td>42.0</td>\n",
              "      <td>0.99154</td>\n",
              "      <td>3.71</td>\n",
              "      <td>0.74</td>\n",
              "      <td>14.0</td>\n",
              "      <td>7</td>\n",
              "      <td>1</td>\n",
              "    </tr>\n",
              "    <tr>\n",
              "      <th>45</th>\n",
              "      <td>4.6</td>\n",
              "      <td>0.52</td>\n",
              "      <td>0.15</td>\n",
              "      <td>2.1</td>\n",
              "      <td>0.054</td>\n",
              "      <td>8.0</td>\n",
              "      <td>65.0</td>\n",
              "      <td>0.99340</td>\n",
              "      <td>3.90</td>\n",
              "      <td>0.56</td>\n",
              "      <td>13.1</td>\n",
              "      <td>4</td>\n",
              "      <td>1</td>\n",
              "    </tr>\n",
              "    <tr>\n",
              "      <th>899</th>\n",
              "      <td>8.3</td>\n",
              "      <td>1.02</td>\n",
              "      <td>0.02</td>\n",
              "      <td>3.4</td>\n",
              "      <td>0.084</td>\n",
              "      <td>6.0</td>\n",
              "      <td>11.0</td>\n",
              "      <td>0.99892</td>\n",
              "      <td>3.48</td>\n",
              "      <td>0.49</td>\n",
              "      <td>11.0</td>\n",
              "      <td>3</td>\n",
              "      <td>1</td>\n",
              "    </tr>\n",
              "  </tbody>\n",
              "</table>\n",
              "</div>"
            ],
            "text/plain": [
              "     fixed acidity  volatile acidity  ...  quality  alc_content_rank\n",
              "652           15.9              0.36  ...        5                 1\n",
              "588            5.0              0.42  ...        8                 1\n",
              "142            5.2              0.34  ...        6                 1\n",
              "821            4.9              0.42  ...        7                 1\n",
              "45             4.6              0.52  ...        4                 1\n",
              "899            8.3              1.02  ...        3                 1\n",
              "\n",
              "[6 rows x 13 columns]"
            ]
          },
          "metadata": {
            "tags": []
          },
          "execution_count": 42
        }
      ]
    },
    {
      "cell_type": "markdown",
      "metadata": {
        "id": "Oo_KSkIOpr-W"
      },
      "source": [
        "# Cross Tabulation"
      ]
    },
    {
      "cell_type": "code",
      "metadata": {
        "id": "-PieS8NkpbR8"
      },
      "source": [
        "from io import StringIO"
      ],
      "execution_count": 45,
      "outputs": []
    },
    {
      "cell_type": "code",
      "metadata": {
        "id": "KOnN_I4Np4Ej"
      },
      "source": [
        "data =\"\"\"\\\n",
        "Sample   Animal   Intelligence\n",
        "1        Dog     Smart\n",
        "2 Dog Smart\n",
        "3 Cat Dumb\n",
        "4 Cat Dumb\n",
        "5 Dog Dumb\n",
        "6 Cat Smart\"\"\"\n"
      ],
      "execution_count": 46,
      "outputs": []
    },
    {
      "cell_type": "code",
      "metadata": {
        "id": "-XVmE0afqWpp"
      },
      "source": [
        "dframe = pd.read_table(StringIO(data),sep='\\s+')"
      ],
      "execution_count": 53,
      "outputs": []
    },
    {
      "cell_type": "code",
      "metadata": {
        "colab": {
          "base_uri": "https://localhost:8080/",
          "height": 225
        },
        "id": "wOUHHky7qhF0",
        "outputId": "a365468d-b50b-4bd3-9ebf-21acce2f2f23"
      },
      "source": [
        "dframe"
      ],
      "execution_count": 54,
      "outputs": [
        {
          "output_type": "execute_result",
          "data": {
            "text/html": [
              "<div>\n",
              "<style scoped>\n",
              "    .dataframe tbody tr th:only-of-type {\n",
              "        vertical-align: middle;\n",
              "    }\n",
              "\n",
              "    .dataframe tbody tr th {\n",
              "        vertical-align: top;\n",
              "    }\n",
              "\n",
              "    .dataframe thead th {\n",
              "        text-align: right;\n",
              "    }\n",
              "</style>\n",
              "<table border=\"1\" class=\"dataframe\">\n",
              "  <thead>\n",
              "    <tr style=\"text-align: right;\">\n",
              "      <th></th>\n",
              "      <th>Sample</th>\n",
              "      <th>Animal</th>\n",
              "      <th>Intelligence</th>\n",
              "    </tr>\n",
              "  </thead>\n",
              "  <tbody>\n",
              "    <tr>\n",
              "      <th>0</th>\n",
              "      <td>1</td>\n",
              "      <td>Dog</td>\n",
              "      <td>Smart</td>\n",
              "    </tr>\n",
              "    <tr>\n",
              "      <th>1</th>\n",
              "      <td>2</td>\n",
              "      <td>Dog</td>\n",
              "      <td>Smart</td>\n",
              "    </tr>\n",
              "    <tr>\n",
              "      <th>2</th>\n",
              "      <td>3</td>\n",
              "      <td>Cat</td>\n",
              "      <td>Dumb</td>\n",
              "    </tr>\n",
              "    <tr>\n",
              "      <th>3</th>\n",
              "      <td>4</td>\n",
              "      <td>Cat</td>\n",
              "      <td>Dumb</td>\n",
              "    </tr>\n",
              "    <tr>\n",
              "      <th>4</th>\n",
              "      <td>5</td>\n",
              "      <td>Dog</td>\n",
              "      <td>Dumb</td>\n",
              "    </tr>\n",
              "    <tr>\n",
              "      <th>5</th>\n",
              "      <td>6</td>\n",
              "      <td>Cat</td>\n",
              "      <td>Smart</td>\n",
              "    </tr>\n",
              "  </tbody>\n",
              "</table>\n",
              "</div>"
            ],
            "text/plain": [
              "   Sample Animal Intelligence\n",
              "0       1    Dog        Smart\n",
              "1       2    Dog        Smart\n",
              "2       3    Cat         Dumb\n",
              "3       4    Cat         Dumb\n",
              "4       5    Dog         Dumb\n",
              "5       6    Cat        Smart"
            ]
          },
          "metadata": {
            "tags": []
          },
          "execution_count": 54
        }
      ]
    },
    {
      "cell_type": "code",
      "metadata": {
        "colab": {
          "base_uri": "https://localhost:8080/",
          "height": 166
        },
        "id": "kV__58E8qtEF",
        "outputId": "cd7f5ece-13fb-4fa4-dc49-f68aa00aba3f"
      },
      "source": [
        "pd.crosstab(dframe.Animal,dframe.Intelligence,margins=True)"
      ],
      "execution_count": 56,
      "outputs": [
        {
          "output_type": "execute_result",
          "data": {
            "text/html": [
              "<div>\n",
              "<style scoped>\n",
              "    .dataframe tbody tr th:only-of-type {\n",
              "        vertical-align: middle;\n",
              "    }\n",
              "\n",
              "    .dataframe tbody tr th {\n",
              "        vertical-align: top;\n",
              "    }\n",
              "\n",
              "    .dataframe thead th {\n",
              "        text-align: right;\n",
              "    }\n",
              "</style>\n",
              "<table border=\"1\" class=\"dataframe\">\n",
              "  <thead>\n",
              "    <tr style=\"text-align: right;\">\n",
              "      <th>Intelligence</th>\n",
              "      <th>Dumb</th>\n",
              "      <th>Smart</th>\n",
              "      <th>All</th>\n",
              "    </tr>\n",
              "    <tr>\n",
              "      <th>Animal</th>\n",
              "      <th></th>\n",
              "      <th></th>\n",
              "      <th></th>\n",
              "    </tr>\n",
              "  </thead>\n",
              "  <tbody>\n",
              "    <tr>\n",
              "      <th>Cat</th>\n",
              "      <td>2</td>\n",
              "      <td>1</td>\n",
              "      <td>3</td>\n",
              "    </tr>\n",
              "    <tr>\n",
              "      <th>Dog</th>\n",
              "      <td>1</td>\n",
              "      <td>2</td>\n",
              "      <td>3</td>\n",
              "    </tr>\n",
              "    <tr>\n",
              "      <th>All</th>\n",
              "      <td>3</td>\n",
              "      <td>3</td>\n",
              "      <td>6</td>\n",
              "    </tr>\n",
              "  </tbody>\n",
              "</table>\n",
              "</div>"
            ],
            "text/plain": [
              "Intelligence  Dumb  Smart  All\n",
              "Animal                        \n",
              "Cat              2      1    3\n",
              "Dog              1      2    3\n",
              "All              3      3    6"
            ]
          },
          "metadata": {
            "tags": []
          },
          "execution_count": 56
        }
      ]
    },
    {
      "cell_type": "code",
      "metadata": {
        "id": "HIsyUrJYq920"
      },
      "source": [
        ""
      ],
      "execution_count": null,
      "outputs": []
    }
  ]
}